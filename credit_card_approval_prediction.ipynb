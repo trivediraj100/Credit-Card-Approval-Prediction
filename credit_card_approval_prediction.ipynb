{
 "cells": [
  {
   "cell_type": "code",
   "execution_count": 783,
   "id": "26343193",
   "metadata": {},
   "outputs": [],
   "source": [
    "import numpy as np \n",
    "import pandas as pd\n",
    "import matplotlib.pyplot as plt\n",
    "import seaborn as sns\n",
    "import plotly.express as px\n",
    "from imblearn.over_sampling import SMOTE\n",
    "import warnings\n",
    "warnings.filterwarnings('ignore')"
   ]
  },
  {
   "cell_type": "code",
   "execution_count": 784,
   "id": "2290e535",
   "metadata": {},
   "outputs": [],
   "source": [
    "df1 = pd.read_csv('Credit_card.csv')\n",
    "df2 = pd.read_csv(\"Credit_card_label.csv\")"
   ]
  },
  {
   "cell_type": "code",
   "execution_count": 785,
   "id": "433df265",
   "metadata": {},
   "outputs": [
    {
     "data": {
      "text/html": [
       "<div>\n",
       "<style scoped>\n",
       "    .dataframe tbody tr th:only-of-type {\n",
       "        vertical-align: middle;\n",
       "    }\n",
       "\n",
       "    .dataframe tbody tr th {\n",
       "        vertical-align: top;\n",
       "    }\n",
       "\n",
       "    .dataframe thead th {\n",
       "        text-align: right;\n",
       "    }\n",
       "</style>\n",
       "<table border=\"1\" class=\"dataframe\">\n",
       "  <thead>\n",
       "    <tr style=\"text-align: right;\">\n",
       "      <th></th>\n",
       "      <th>Ind_ID</th>\n",
       "      <th>GENDER</th>\n",
       "      <th>Car_Owner</th>\n",
       "      <th>Propert_Owner</th>\n",
       "      <th>CHILDREN</th>\n",
       "      <th>Annual_income</th>\n",
       "      <th>Type_Income</th>\n",
       "      <th>EDUCATION</th>\n",
       "      <th>Marital_status</th>\n",
       "      <th>Housing_type</th>\n",
       "      <th>Birthday_count</th>\n",
       "      <th>Employed_days</th>\n",
       "      <th>Mobile_phone</th>\n",
       "      <th>Work_Phone</th>\n",
       "      <th>Phone</th>\n",
       "      <th>EMAIL_ID</th>\n",
       "      <th>Type_Occupation</th>\n",
       "      <th>Family_Members</th>\n",
       "    </tr>\n",
       "  </thead>\n",
       "  <tbody>\n",
       "    <tr>\n",
       "      <th>0</th>\n",
       "      <td>5056149</td>\n",
       "      <td>M</td>\n",
       "      <td>Y</td>\n",
       "      <td>N</td>\n",
       "      <td>0</td>\n",
       "      <td>157500.0</td>\n",
       "      <td>Working</td>\n",
       "      <td>Secondary / secondary special</td>\n",
       "      <td>Married</td>\n",
       "      <td>House / apartment</td>\n",
       "      <td>-23424.0</td>\n",
       "      <td>-14887</td>\n",
       "      <td>1</td>\n",
       "      <td>0</td>\n",
       "      <td>0</td>\n",
       "      <td>0</td>\n",
       "      <td>Laborers</td>\n",
       "      <td>2</td>\n",
       "    </tr>\n",
       "    <tr>\n",
       "      <th>1</th>\n",
       "      <td>5090386</td>\n",
       "      <td>F</td>\n",
       "      <td>N</td>\n",
       "      <td>Y</td>\n",
       "      <td>0</td>\n",
       "      <td>247500.0</td>\n",
       "      <td>Commercial associate</td>\n",
       "      <td>Higher education</td>\n",
       "      <td>Single / not married</td>\n",
       "      <td>House / apartment</td>\n",
       "      <td>-21537.0</td>\n",
       "      <td>-13735</td>\n",
       "      <td>1</td>\n",
       "      <td>0</td>\n",
       "      <td>0</td>\n",
       "      <td>0</td>\n",
       "      <td>Core staff</td>\n",
       "      <td>1</td>\n",
       "    </tr>\n",
       "    <tr>\n",
       "      <th>2</th>\n",
       "      <td>5033628</td>\n",
       "      <td>F</td>\n",
       "      <td>N</td>\n",
       "      <td>Y</td>\n",
       "      <td>0</td>\n",
       "      <td>166500.0</td>\n",
       "      <td>State servant</td>\n",
       "      <td>Higher education</td>\n",
       "      <td>Married</td>\n",
       "      <td>House / apartment</td>\n",
       "      <td>-23599.0</td>\n",
       "      <td>-13382</td>\n",
       "      <td>1</td>\n",
       "      <td>0</td>\n",
       "      <td>0</td>\n",
       "      <td>0</td>\n",
       "      <td>NaN</td>\n",
       "      <td>2</td>\n",
       "    </tr>\n",
       "    <tr>\n",
       "      <th>3</th>\n",
       "      <td>5126108</td>\n",
       "      <td>F</td>\n",
       "      <td>N</td>\n",
       "      <td>Y</td>\n",
       "      <td>0</td>\n",
       "      <td>112500.0</td>\n",
       "      <td>State servant</td>\n",
       "      <td>Secondary / secondary special</td>\n",
       "      <td>Single / not married</td>\n",
       "      <td>House / apartment</td>\n",
       "      <td>-20577.0</td>\n",
       "      <td>-13010</td>\n",
       "      <td>1</td>\n",
       "      <td>1</td>\n",
       "      <td>0</td>\n",
       "      <td>0</td>\n",
       "      <td>Core staff</td>\n",
       "      <td>1</td>\n",
       "    </tr>\n",
       "    <tr>\n",
       "      <th>4</th>\n",
       "      <td>5112599</td>\n",
       "      <td>F</td>\n",
       "      <td>N</td>\n",
       "      <td>Y</td>\n",
       "      <td>0</td>\n",
       "      <td>103500.0</td>\n",
       "      <td>Working</td>\n",
       "      <td>Secondary / secondary special</td>\n",
       "      <td>Married</td>\n",
       "      <td>House / apartment</td>\n",
       "      <td>-22466.0</td>\n",
       "      <td>-12870</td>\n",
       "      <td>1</td>\n",
       "      <td>1</td>\n",
       "      <td>1</td>\n",
       "      <td>0</td>\n",
       "      <td>Managers</td>\n",
       "      <td>2</td>\n",
       "    </tr>\n",
       "  </tbody>\n",
       "</table>\n",
       "</div>"
      ],
      "text/plain": [
       "    Ind_ID GENDER Car_Owner Propert_Owner  CHILDREN  Annual_income  \\\n",
       "0  5056149      M         Y             N         0       157500.0   \n",
       "1  5090386      F         N             Y         0       247500.0   \n",
       "2  5033628      F         N             Y         0       166500.0   \n",
       "3  5126108      F         N             Y         0       112500.0   \n",
       "4  5112599      F         N             Y         0       103500.0   \n",
       "\n",
       "            Type_Income                      EDUCATION        Marital_status  \\\n",
       "0               Working  Secondary / secondary special               Married   \n",
       "1  Commercial associate               Higher education  Single / not married   \n",
       "2         State servant               Higher education               Married   \n",
       "3         State servant  Secondary / secondary special  Single / not married   \n",
       "4               Working  Secondary / secondary special               Married   \n",
       "\n",
       "        Housing_type  Birthday_count  Employed_days  Mobile_phone  Work_Phone  \\\n",
       "0  House / apartment        -23424.0         -14887             1           0   \n",
       "1  House / apartment        -21537.0         -13735             1           0   \n",
       "2  House / apartment        -23599.0         -13382             1           0   \n",
       "3  House / apartment        -20577.0         -13010             1           1   \n",
       "4  House / apartment        -22466.0         -12870             1           1   \n",
       "\n",
       "   Phone  EMAIL_ID Type_Occupation  Family_Members  \n",
       "0      0         0        Laborers               2  \n",
       "1      0         0      Core staff               1  \n",
       "2      0         0             NaN               2  \n",
       "3      0         0      Core staff               1  \n",
       "4      1         0        Managers               2  "
      ]
     },
     "execution_count": 785,
     "metadata": {},
     "output_type": "execute_result"
    }
   ],
   "source": [
    "df1.head()"
   ]
  },
  {
   "cell_type": "code",
   "execution_count": 786,
   "id": "9a211f47",
   "metadata": {},
   "outputs": [
    {
     "data": {
      "text/html": [
       "<div>\n",
       "<style scoped>\n",
       "    .dataframe tbody tr th:only-of-type {\n",
       "        vertical-align: middle;\n",
       "    }\n",
       "\n",
       "    .dataframe tbody tr th {\n",
       "        vertical-align: top;\n",
       "    }\n",
       "\n",
       "    .dataframe thead th {\n",
       "        text-align: right;\n",
       "    }\n",
       "</style>\n",
       "<table border=\"1\" class=\"dataframe\">\n",
       "  <thead>\n",
       "    <tr style=\"text-align: right;\">\n",
       "      <th></th>\n",
       "      <th>Ind_ID</th>\n",
       "      <th>label</th>\n",
       "    </tr>\n",
       "  </thead>\n",
       "  <tbody>\n",
       "    <tr>\n",
       "      <th>0</th>\n",
       "      <td>5008827</td>\n",
       "      <td>1</td>\n",
       "    </tr>\n",
       "    <tr>\n",
       "      <th>1</th>\n",
       "      <td>5009744</td>\n",
       "      <td>1</td>\n",
       "    </tr>\n",
       "    <tr>\n",
       "      <th>2</th>\n",
       "      <td>5009746</td>\n",
       "      <td>1</td>\n",
       "    </tr>\n",
       "    <tr>\n",
       "      <th>3</th>\n",
       "      <td>5009749</td>\n",
       "      <td>1</td>\n",
       "    </tr>\n",
       "    <tr>\n",
       "      <th>4</th>\n",
       "      <td>5009752</td>\n",
       "      <td>1</td>\n",
       "    </tr>\n",
       "  </tbody>\n",
       "</table>\n",
       "</div>"
      ],
      "text/plain": [
       "    Ind_ID  label\n",
       "0  5008827      1\n",
       "1  5009744      1\n",
       "2  5009746      1\n",
       "3  5009749      1\n",
       "4  5009752      1"
      ]
     },
     "execution_count": 786,
     "metadata": {},
     "output_type": "execute_result"
    }
   ],
   "source": [
    "df2.head()"
   ]
  },
  {
   "cell_type": "code",
   "execution_count": 787,
   "id": "c87aae41",
   "metadata": {},
   "outputs": [],
   "source": [
    "data = pd.merge(df1, df2, on = \"Ind_ID\" , how = \"inner\")"
   ]
  },
  {
   "cell_type": "code",
   "execution_count": 788,
   "id": "5f2e0070",
   "metadata": {},
   "outputs": [
    {
     "data": {
      "text/html": [
       "<div>\n",
       "<style scoped>\n",
       "    .dataframe tbody tr th:only-of-type {\n",
       "        vertical-align: middle;\n",
       "    }\n",
       "\n",
       "    .dataframe tbody tr th {\n",
       "        vertical-align: top;\n",
       "    }\n",
       "\n",
       "    .dataframe thead th {\n",
       "        text-align: right;\n",
       "    }\n",
       "</style>\n",
       "<table border=\"1\" class=\"dataframe\">\n",
       "  <thead>\n",
       "    <tr style=\"text-align: right;\">\n",
       "      <th></th>\n",
       "      <th>Ind_ID</th>\n",
       "      <th>GENDER</th>\n",
       "      <th>Car_Owner</th>\n",
       "      <th>Propert_Owner</th>\n",
       "      <th>CHILDREN</th>\n",
       "      <th>Annual_income</th>\n",
       "      <th>Type_Income</th>\n",
       "      <th>EDUCATION</th>\n",
       "      <th>Marital_status</th>\n",
       "      <th>Housing_type</th>\n",
       "      <th>Birthday_count</th>\n",
       "      <th>Employed_days</th>\n",
       "      <th>Mobile_phone</th>\n",
       "      <th>Work_Phone</th>\n",
       "      <th>Phone</th>\n",
       "      <th>EMAIL_ID</th>\n",
       "      <th>Type_Occupation</th>\n",
       "      <th>Family_Members</th>\n",
       "      <th>label</th>\n",
       "    </tr>\n",
       "  </thead>\n",
       "  <tbody>\n",
       "    <tr>\n",
       "      <th>0</th>\n",
       "      <td>5056149</td>\n",
       "      <td>M</td>\n",
       "      <td>Y</td>\n",
       "      <td>N</td>\n",
       "      <td>0</td>\n",
       "      <td>157500.0</td>\n",
       "      <td>Working</td>\n",
       "      <td>Secondary / secondary special</td>\n",
       "      <td>Married</td>\n",
       "      <td>House / apartment</td>\n",
       "      <td>-23424.0</td>\n",
       "      <td>-14887</td>\n",
       "      <td>1</td>\n",
       "      <td>0</td>\n",
       "      <td>0</td>\n",
       "      <td>0</td>\n",
       "      <td>Laborers</td>\n",
       "      <td>2</td>\n",
       "      <td>0</td>\n",
       "    </tr>\n",
       "    <tr>\n",
       "      <th>1</th>\n",
       "      <td>5090386</td>\n",
       "      <td>F</td>\n",
       "      <td>N</td>\n",
       "      <td>Y</td>\n",
       "      <td>0</td>\n",
       "      <td>247500.0</td>\n",
       "      <td>Commercial associate</td>\n",
       "      <td>Higher education</td>\n",
       "      <td>Single / not married</td>\n",
       "      <td>House / apartment</td>\n",
       "      <td>-21537.0</td>\n",
       "      <td>-13735</td>\n",
       "      <td>1</td>\n",
       "      <td>0</td>\n",
       "      <td>0</td>\n",
       "      <td>0</td>\n",
       "      <td>Core staff</td>\n",
       "      <td>1</td>\n",
       "      <td>0</td>\n",
       "    </tr>\n",
       "    <tr>\n",
       "      <th>2</th>\n",
       "      <td>5033628</td>\n",
       "      <td>F</td>\n",
       "      <td>N</td>\n",
       "      <td>Y</td>\n",
       "      <td>0</td>\n",
       "      <td>166500.0</td>\n",
       "      <td>State servant</td>\n",
       "      <td>Higher education</td>\n",
       "      <td>Married</td>\n",
       "      <td>House / apartment</td>\n",
       "      <td>-23599.0</td>\n",
       "      <td>-13382</td>\n",
       "      <td>1</td>\n",
       "      <td>0</td>\n",
       "      <td>0</td>\n",
       "      <td>0</td>\n",
       "      <td>NaN</td>\n",
       "      <td>2</td>\n",
       "      <td>0</td>\n",
       "    </tr>\n",
       "    <tr>\n",
       "      <th>3</th>\n",
       "      <td>5126108</td>\n",
       "      <td>F</td>\n",
       "      <td>N</td>\n",
       "      <td>Y</td>\n",
       "      <td>0</td>\n",
       "      <td>112500.0</td>\n",
       "      <td>State servant</td>\n",
       "      <td>Secondary / secondary special</td>\n",
       "      <td>Single / not married</td>\n",
       "      <td>House / apartment</td>\n",
       "      <td>-20577.0</td>\n",
       "      <td>-13010</td>\n",
       "      <td>1</td>\n",
       "      <td>1</td>\n",
       "      <td>0</td>\n",
       "      <td>0</td>\n",
       "      <td>Core staff</td>\n",
       "      <td>1</td>\n",
       "      <td>0</td>\n",
       "    </tr>\n",
       "    <tr>\n",
       "      <th>4</th>\n",
       "      <td>5112599</td>\n",
       "      <td>F</td>\n",
       "      <td>N</td>\n",
       "      <td>Y</td>\n",
       "      <td>0</td>\n",
       "      <td>103500.0</td>\n",
       "      <td>Working</td>\n",
       "      <td>Secondary / secondary special</td>\n",
       "      <td>Married</td>\n",
       "      <td>House / apartment</td>\n",
       "      <td>-22466.0</td>\n",
       "      <td>-12870</td>\n",
       "      <td>1</td>\n",
       "      <td>1</td>\n",
       "      <td>1</td>\n",
       "      <td>0</td>\n",
       "      <td>Managers</td>\n",
       "      <td>2</td>\n",
       "      <td>0</td>\n",
       "    </tr>\n",
       "  </tbody>\n",
       "</table>\n",
       "</div>"
      ],
      "text/plain": [
       "    Ind_ID GENDER Car_Owner Propert_Owner  CHILDREN  Annual_income  \\\n",
       "0  5056149      M         Y             N         0       157500.0   \n",
       "1  5090386      F         N             Y         0       247500.0   \n",
       "2  5033628      F         N             Y         0       166500.0   \n",
       "3  5126108      F         N             Y         0       112500.0   \n",
       "4  5112599      F         N             Y         0       103500.0   \n",
       "\n",
       "            Type_Income                      EDUCATION        Marital_status  \\\n",
       "0               Working  Secondary / secondary special               Married   \n",
       "1  Commercial associate               Higher education  Single / not married   \n",
       "2         State servant               Higher education               Married   \n",
       "3         State servant  Secondary / secondary special  Single / not married   \n",
       "4               Working  Secondary / secondary special               Married   \n",
       "\n",
       "        Housing_type  Birthday_count  Employed_days  Mobile_phone  Work_Phone  \\\n",
       "0  House / apartment        -23424.0         -14887             1           0   \n",
       "1  House / apartment        -21537.0         -13735             1           0   \n",
       "2  House / apartment        -23599.0         -13382             1           0   \n",
       "3  House / apartment        -20577.0         -13010             1           1   \n",
       "4  House / apartment        -22466.0         -12870             1           1   \n",
       "\n",
       "   Phone  EMAIL_ID Type_Occupation  Family_Members  label  \n",
       "0      0         0        Laborers               2      0  \n",
       "1      0         0      Core staff               1      0  \n",
       "2      0         0             NaN               2      0  \n",
       "3      0         0      Core staff               1      0  \n",
       "4      1         0        Managers               2      0  "
      ]
     },
     "execution_count": 788,
     "metadata": {},
     "output_type": "execute_result"
    }
   ],
   "source": [
    "data.head()"
   ]
  },
  {
   "cell_type": "code",
   "execution_count": 789,
   "id": "a4b25581",
   "metadata": {},
   "outputs": [
    {
     "data": {
      "text/html": [
       "<div>\n",
       "<style scoped>\n",
       "    .dataframe tbody tr th:only-of-type {\n",
       "        vertical-align: middle;\n",
       "    }\n",
       "\n",
       "    .dataframe tbody tr th {\n",
       "        vertical-align: top;\n",
       "    }\n",
       "\n",
       "    .dataframe thead th {\n",
       "        text-align: right;\n",
       "    }\n",
       "</style>\n",
       "<table border=\"1\" class=\"dataframe\">\n",
       "  <thead>\n",
       "    <tr style=\"text-align: right;\">\n",
       "      <th></th>\n",
       "      <th>Ind_ID</th>\n",
       "      <th>GENDER</th>\n",
       "      <th>Car_Owner</th>\n",
       "      <th>Propert_Owner</th>\n",
       "      <th>CHILDREN</th>\n",
       "      <th>Annual_income</th>\n",
       "      <th>Type_Income</th>\n",
       "      <th>EDUCATION</th>\n",
       "      <th>Marital_status</th>\n",
       "      <th>Housing_type</th>\n",
       "      <th>Birthday_count</th>\n",
       "      <th>Employed_days</th>\n",
       "      <th>Mobile_phone</th>\n",
       "      <th>Work_Phone</th>\n",
       "      <th>Phone</th>\n",
       "      <th>EMAIL_ID</th>\n",
       "      <th>Type_Occupation</th>\n",
       "      <th>Family_Members</th>\n",
       "      <th>label</th>\n",
       "    </tr>\n",
       "  </thead>\n",
       "  <tbody>\n",
       "    <tr>\n",
       "      <th>1543</th>\n",
       "      <td>5135460</td>\n",
       "      <td>F</td>\n",
       "      <td>N</td>\n",
       "      <td>Y</td>\n",
       "      <td>3</td>\n",
       "      <td>37800.0</td>\n",
       "      <td>Pensioner</td>\n",
       "      <td>Secondary / secondary special</td>\n",
       "      <td>Married</td>\n",
       "      <td>House / apartment</td>\n",
       "      <td>-13014.0</td>\n",
       "      <td>365243</td>\n",
       "      <td>1</td>\n",
       "      <td>0</td>\n",
       "      <td>0</td>\n",
       "      <td>0</td>\n",
       "      <td>NaN</td>\n",
       "      <td>5</td>\n",
       "      <td>0</td>\n",
       "    </tr>\n",
       "    <tr>\n",
       "      <th>1544</th>\n",
       "      <td>5041681</td>\n",
       "      <td>F</td>\n",
       "      <td>N</td>\n",
       "      <td>N</td>\n",
       "      <td>0</td>\n",
       "      <td>94500.0</td>\n",
       "      <td>Pensioner</td>\n",
       "      <td>Secondary / secondary special</td>\n",
       "      <td>Married</td>\n",
       "      <td>House / apartment</td>\n",
       "      <td>NaN</td>\n",
       "      <td>365243</td>\n",
       "      <td>1</td>\n",
       "      <td>0</td>\n",
       "      <td>1</td>\n",
       "      <td>0</td>\n",
       "      <td>NaN</td>\n",
       "      <td>2</td>\n",
       "      <td>0</td>\n",
       "    </tr>\n",
       "    <tr>\n",
       "      <th>1545</th>\n",
       "      <td>5041921</td>\n",
       "      <td>M</td>\n",
       "      <td>N</td>\n",
       "      <td>N</td>\n",
       "      <td>0</td>\n",
       "      <td>135000.0</td>\n",
       "      <td>Pensioner</td>\n",
       "      <td>Secondary / secondary special</td>\n",
       "      <td>Married</td>\n",
       "      <td>House / apartment</td>\n",
       "      <td>NaN</td>\n",
       "      <td>365243</td>\n",
       "      <td>1</td>\n",
       "      <td>0</td>\n",
       "      <td>1</td>\n",
       "      <td>0</td>\n",
       "      <td>NaN</td>\n",
       "      <td>2</td>\n",
       "      <td>0</td>\n",
       "    </tr>\n",
       "    <tr>\n",
       "      <th>1546</th>\n",
       "      <td>5048448</td>\n",
       "      <td>F</td>\n",
       "      <td>N</td>\n",
       "      <td>Y</td>\n",
       "      <td>0</td>\n",
       "      <td>202500.0</td>\n",
       "      <td>Pensioner</td>\n",
       "      <td>Secondary / secondary special</td>\n",
       "      <td>Married</td>\n",
       "      <td>House / apartment</td>\n",
       "      <td>NaN</td>\n",
       "      <td>365243</td>\n",
       "      <td>1</td>\n",
       "      <td>0</td>\n",
       "      <td>0</td>\n",
       "      <td>0</td>\n",
       "      <td>NaN</td>\n",
       "      <td>2</td>\n",
       "      <td>0</td>\n",
       "    </tr>\n",
       "    <tr>\n",
       "      <th>1547</th>\n",
       "      <td>5044669</td>\n",
       "      <td>F</td>\n",
       "      <td>N</td>\n",
       "      <td>Y</td>\n",
       "      <td>0</td>\n",
       "      <td>76500.0</td>\n",
       "      <td>Pensioner</td>\n",
       "      <td>Secondary / secondary special</td>\n",
       "      <td>Married</td>\n",
       "      <td>House / apartment</td>\n",
       "      <td>NaN</td>\n",
       "      <td>365243</td>\n",
       "      <td>1</td>\n",
       "      <td>0</td>\n",
       "      <td>0</td>\n",
       "      <td>0</td>\n",
       "      <td>NaN</td>\n",
       "      <td>2</td>\n",
       "      <td>0</td>\n",
       "    </tr>\n",
       "  </tbody>\n",
       "</table>\n",
       "</div>"
      ],
      "text/plain": [
       "       Ind_ID GENDER Car_Owner Propert_Owner  CHILDREN  Annual_income  \\\n",
       "1543  5135460      F         N             Y         3        37800.0   \n",
       "1544  5041681      F         N             N         0        94500.0   \n",
       "1545  5041921      M         N             N         0       135000.0   \n",
       "1546  5048448      F         N             Y         0       202500.0   \n",
       "1547  5044669      F         N             Y         0        76500.0   \n",
       "\n",
       "     Type_Income                      EDUCATION Marital_status  \\\n",
       "1543   Pensioner  Secondary / secondary special        Married   \n",
       "1544   Pensioner  Secondary / secondary special        Married   \n",
       "1545   Pensioner  Secondary / secondary special        Married   \n",
       "1546   Pensioner  Secondary / secondary special        Married   \n",
       "1547   Pensioner  Secondary / secondary special        Married   \n",
       "\n",
       "           Housing_type  Birthday_count  Employed_days  Mobile_phone  \\\n",
       "1543  House / apartment        -13014.0         365243             1   \n",
       "1544  House / apartment             NaN         365243             1   \n",
       "1545  House / apartment             NaN         365243             1   \n",
       "1546  House / apartment             NaN         365243             1   \n",
       "1547  House / apartment             NaN         365243             1   \n",
       "\n",
       "      Work_Phone  Phone  EMAIL_ID Type_Occupation  Family_Members  label  \n",
       "1543           0      0         0             NaN               5      0  \n",
       "1544           0      1         0             NaN               2      0  \n",
       "1545           0      1         0             NaN               2      0  \n",
       "1546           0      0         0             NaN               2      0  \n",
       "1547           0      0         0             NaN               2      0  "
      ]
     },
     "execution_count": 789,
     "metadata": {},
     "output_type": "execute_result"
    }
   ],
   "source": [
    "data.tail()"
   ]
  },
  {
   "cell_type": "code",
   "execution_count": 790,
   "id": "012ef743",
   "metadata": {},
   "outputs": [
    {
     "data": {
      "text/plain": [
       "(1548, 19)"
      ]
     },
     "execution_count": 790,
     "metadata": {},
     "output_type": "execute_result"
    }
   ],
   "source": [
    "data.shape"
   ]
  },
  {
   "cell_type": "code",
   "execution_count": 791,
   "id": "7cef9f7c",
   "metadata": {},
   "outputs": [
    {
     "name": "stdout",
     "output_type": "stream",
     "text": [
      "<class 'pandas.core.frame.DataFrame'>\n",
      "RangeIndex: 1548 entries, 0 to 1547\n",
      "Data columns (total 19 columns):\n",
      " #   Column           Non-Null Count  Dtype  \n",
      "---  ------           --------------  -----  \n",
      " 0   Ind_ID           1548 non-null   int64  \n",
      " 1   GENDER           1541 non-null   object \n",
      " 2   Car_Owner        1548 non-null   object \n",
      " 3   Propert_Owner    1548 non-null   object \n",
      " 4   CHILDREN         1548 non-null   int64  \n",
      " 5   Annual_income    1525 non-null   float64\n",
      " 6   Type_Income      1548 non-null   object \n",
      " 7   EDUCATION        1548 non-null   object \n",
      " 8   Marital_status   1548 non-null   object \n",
      " 9   Housing_type     1548 non-null   object \n",
      " 10  Birthday_count   1526 non-null   float64\n",
      " 11  Employed_days    1548 non-null   int64  \n",
      " 12  Mobile_phone     1548 non-null   int64  \n",
      " 13  Work_Phone       1548 non-null   int64  \n",
      " 14  Phone            1548 non-null   int64  \n",
      " 15  EMAIL_ID         1548 non-null   int64  \n",
      " 16  Type_Occupation  1060 non-null   object \n",
      " 17  Family_Members   1548 non-null   int64  \n",
      " 18  label            1548 non-null   int64  \n",
      "dtypes: float64(2), int64(9), object(8)\n",
      "memory usage: 229.9+ KB\n"
     ]
    }
   ],
   "source": [
    "data.info()"
   ]
  },
  {
   "cell_type": "code",
   "execution_count": 792,
   "id": "f1d4adb6",
   "metadata": {},
   "outputs": [
    {
     "data": {
      "text/plain": [
       "Index(['Ind_ID', 'GENDER', 'Car_Owner', 'Propert_Owner', 'CHILDREN',\n",
       "       'Annual_income', 'Type_Income', 'EDUCATION', 'Marital_status',\n",
       "       'Housing_type', 'Birthday_count', 'Employed_days', 'Mobile_phone',\n",
       "       'Work_Phone', 'Phone', 'EMAIL_ID', 'Type_Occupation', 'Family_Members',\n",
       "       'label'],\n",
       "      dtype='object')"
      ]
     },
     "execution_count": 792,
     "metadata": {},
     "output_type": "execute_result"
    }
   ],
   "source": [
    "data.columns"
   ]
  },
  {
   "cell_type": "code",
   "execution_count": 793,
   "id": "60f20a94",
   "metadata": {},
   "outputs": [],
   "source": [
    "data.rename(columns = {\"label\" : \"Approved_status\"} , inplace = True)"
   ]
  },
  {
   "cell_type": "code",
   "execution_count": 794,
   "id": "5f71e91e",
   "metadata": {},
   "outputs": [
    {
     "data": {
      "text/plain": [
       "Ind_ID               int64\n",
       "GENDER              object\n",
       "Car_Owner           object\n",
       "Propert_Owner       object\n",
       "CHILDREN             int64\n",
       "Annual_income      float64\n",
       "Type_Income         object\n",
       "EDUCATION           object\n",
       "Marital_status      object\n",
       "Housing_type        object\n",
       "Birthday_count     float64\n",
       "Employed_days        int64\n",
       "Mobile_phone         int64\n",
       "Work_Phone           int64\n",
       "Phone                int64\n",
       "EMAIL_ID             int64\n",
       "Type_Occupation     object\n",
       "Family_Members       int64\n",
       "Approved_status      int64\n",
       "dtype: object"
      ]
     },
     "execution_count": 794,
     "metadata": {},
     "output_type": "execute_result"
    }
   ],
   "source": [
    "df = data\n",
    "df.dtypes"
   ]
  },
  {
   "cell_type": "code",
   "execution_count": 795,
   "id": "2a073566",
   "metadata": {},
   "outputs": [
    {
     "data": {
      "text/plain": [
       "['GENDER',\n",
       " 'Car_Owner',\n",
       " 'Propert_Owner',\n",
       " 'Type_Income',\n",
       " 'EDUCATION',\n",
       " 'Marital_status',\n",
       " 'Housing_type',\n",
       " 'Type_Occupation']"
      ]
     },
     "execution_count": 795,
     "metadata": {},
     "output_type": "execute_result"
    }
   ],
   "source": [
    "#Categorical Columns\n",
    "categorical_features = []\n",
    "for i in data.columns:\n",
    "    if data[i].dtypes == \"object\":\n",
    "        categorical_features.append(i)\n",
    "categorical_features"
   ]
  },
  {
   "cell_type": "code",
   "execution_count": 796,
   "id": "39fe5d90",
   "metadata": {
    "scrolled": true
   },
   "outputs": [
    {
     "data": {
      "text/plain": [
       "['Ind_ID',\n",
       " 'CHILDREN',\n",
       " 'Annual_income',\n",
       " 'Birthday_count',\n",
       " 'Employed_days',\n",
       " 'Mobile_phone',\n",
       " 'Work_Phone',\n",
       " 'Phone',\n",
       " 'EMAIL_ID',\n",
       " 'Family_Members',\n",
       " 'Approved_status']"
      ]
     },
     "execution_count": 796,
     "metadata": {},
     "output_type": "execute_result"
    }
   ],
   "source": [
    "#Numerical Columns\n",
    "numerical_column =[]\n",
    "for i in data.columns:\n",
    "    if data[i].dtypes == 'int64' or data[i].dtypes == 'float64':\n",
    "        numerical_column.append(i)\n",
    "numerical_column"
   ]
  },
  {
   "cell_type": "code",
   "execution_count": 797,
   "id": "091ca4f9",
   "metadata": {},
   "outputs": [
    {
     "data": {
      "text/html": [
       "<div>\n",
       "<style scoped>\n",
       "    .dataframe tbody tr th:only-of-type {\n",
       "        vertical-align: middle;\n",
       "    }\n",
       "\n",
       "    .dataframe tbody tr th {\n",
       "        vertical-align: top;\n",
       "    }\n",
       "\n",
       "    .dataframe thead th {\n",
       "        text-align: right;\n",
       "    }\n",
       "</style>\n",
       "<table border=\"1\" class=\"dataframe\">\n",
       "  <thead>\n",
       "    <tr style=\"text-align: right;\">\n",
       "      <th></th>\n",
       "      <th>Ind_ID</th>\n",
       "      <th>GENDER</th>\n",
       "      <th>Car_Owner</th>\n",
       "      <th>Propert_Owner</th>\n",
       "      <th>CHILDREN</th>\n",
       "      <th>Annual_income</th>\n",
       "      <th>Type_Income</th>\n",
       "      <th>EDUCATION</th>\n",
       "      <th>Marital_status</th>\n",
       "      <th>Housing_type</th>\n",
       "      <th>Birthday_count</th>\n",
       "      <th>Employed_days</th>\n",
       "      <th>Mobile_phone</th>\n",
       "      <th>Work_Phone</th>\n",
       "      <th>Phone</th>\n",
       "      <th>EMAIL_ID</th>\n",
       "      <th>Type_Occupation</th>\n",
       "      <th>Family_Members</th>\n",
       "      <th>Approved_status</th>\n",
       "    </tr>\n",
       "  </thead>\n",
       "  <tbody>\n",
       "    <tr>\n",
       "      <th>0</th>\n",
       "      <td>5056149</td>\n",
       "      <td>M</td>\n",
       "      <td>Y</td>\n",
       "      <td>N</td>\n",
       "      <td>0</td>\n",
       "      <td>157500.0</td>\n",
       "      <td>Working</td>\n",
       "      <td>Secondary / secondary special</td>\n",
       "      <td>Married</td>\n",
       "      <td>House / apartment</td>\n",
       "      <td>-23424.0</td>\n",
       "      <td>-14887</td>\n",
       "      <td>1</td>\n",
       "      <td>0</td>\n",
       "      <td>0</td>\n",
       "      <td>0</td>\n",
       "      <td>Laborers</td>\n",
       "      <td>2</td>\n",
       "      <td>0</td>\n",
       "    </tr>\n",
       "    <tr>\n",
       "      <th>1</th>\n",
       "      <td>5090386</td>\n",
       "      <td>F</td>\n",
       "      <td>N</td>\n",
       "      <td>Y</td>\n",
       "      <td>0</td>\n",
       "      <td>247500.0</td>\n",
       "      <td>Commercial associate</td>\n",
       "      <td>Higher education</td>\n",
       "      <td>Single / not married</td>\n",
       "      <td>House / apartment</td>\n",
       "      <td>-21537.0</td>\n",
       "      <td>-13735</td>\n",
       "      <td>1</td>\n",
       "      <td>0</td>\n",
       "      <td>0</td>\n",
       "      <td>0</td>\n",
       "      <td>Core staff</td>\n",
       "      <td>1</td>\n",
       "      <td>0</td>\n",
       "    </tr>\n",
       "    <tr>\n",
       "      <th>2</th>\n",
       "      <td>5033628</td>\n",
       "      <td>F</td>\n",
       "      <td>N</td>\n",
       "      <td>Y</td>\n",
       "      <td>0</td>\n",
       "      <td>166500.0</td>\n",
       "      <td>State servant</td>\n",
       "      <td>Higher education</td>\n",
       "      <td>Married</td>\n",
       "      <td>House / apartment</td>\n",
       "      <td>-23599.0</td>\n",
       "      <td>-13382</td>\n",
       "      <td>1</td>\n",
       "      <td>0</td>\n",
       "      <td>0</td>\n",
       "      <td>0</td>\n",
       "      <td>NaN</td>\n",
       "      <td>2</td>\n",
       "      <td>0</td>\n",
       "    </tr>\n",
       "    <tr>\n",
       "      <th>3</th>\n",
       "      <td>5126108</td>\n",
       "      <td>F</td>\n",
       "      <td>N</td>\n",
       "      <td>Y</td>\n",
       "      <td>0</td>\n",
       "      <td>112500.0</td>\n",
       "      <td>State servant</td>\n",
       "      <td>Secondary / secondary special</td>\n",
       "      <td>Single / not married</td>\n",
       "      <td>House / apartment</td>\n",
       "      <td>-20577.0</td>\n",
       "      <td>-13010</td>\n",
       "      <td>1</td>\n",
       "      <td>1</td>\n",
       "      <td>0</td>\n",
       "      <td>0</td>\n",
       "      <td>Core staff</td>\n",
       "      <td>1</td>\n",
       "      <td>0</td>\n",
       "    </tr>\n",
       "    <tr>\n",
       "      <th>4</th>\n",
       "      <td>5112599</td>\n",
       "      <td>F</td>\n",
       "      <td>N</td>\n",
       "      <td>Y</td>\n",
       "      <td>0</td>\n",
       "      <td>103500.0</td>\n",
       "      <td>Working</td>\n",
       "      <td>Secondary / secondary special</td>\n",
       "      <td>Married</td>\n",
       "      <td>House / apartment</td>\n",
       "      <td>-22466.0</td>\n",
       "      <td>-12870</td>\n",
       "      <td>1</td>\n",
       "      <td>1</td>\n",
       "      <td>1</td>\n",
       "      <td>0</td>\n",
       "      <td>Managers</td>\n",
       "      <td>2</td>\n",
       "      <td>0</td>\n",
       "    </tr>\n",
       "  </tbody>\n",
       "</table>\n",
       "</div>"
      ],
      "text/plain": [
       "    Ind_ID GENDER Car_Owner Propert_Owner  CHILDREN  Annual_income  \\\n",
       "0  5056149      M         Y             N         0       157500.0   \n",
       "1  5090386      F         N             Y         0       247500.0   \n",
       "2  5033628      F         N             Y         0       166500.0   \n",
       "3  5126108      F         N             Y         0       112500.0   \n",
       "4  5112599      F         N             Y         0       103500.0   \n",
       "\n",
       "            Type_Income                      EDUCATION        Marital_status  \\\n",
       "0               Working  Secondary / secondary special               Married   \n",
       "1  Commercial associate               Higher education  Single / not married   \n",
       "2         State servant               Higher education               Married   \n",
       "3         State servant  Secondary / secondary special  Single / not married   \n",
       "4               Working  Secondary / secondary special               Married   \n",
       "\n",
       "        Housing_type  Birthday_count  Employed_days  Mobile_phone  Work_Phone  \\\n",
       "0  House / apartment        -23424.0         -14887             1           0   \n",
       "1  House / apartment        -21537.0         -13735             1           0   \n",
       "2  House / apartment        -23599.0         -13382             1           0   \n",
       "3  House / apartment        -20577.0         -13010             1           1   \n",
       "4  House / apartment        -22466.0         -12870             1           1   \n",
       "\n",
       "   Phone  EMAIL_ID Type_Occupation  Family_Members  Approved_status  \n",
       "0      0         0        Laborers               2                0  \n",
       "1      0         0      Core staff               1                0  \n",
       "2      0         0             NaN               2                0  \n",
       "3      0         0      Core staff               1                0  \n",
       "4      1         0        Managers               2                0  "
      ]
     },
     "execution_count": 797,
     "metadata": {},
     "output_type": "execute_result"
    }
   ],
   "source": [
    "data.head()"
   ]
  },
  {
   "cell_type": "code",
   "execution_count": 798,
   "id": "04dbd037",
   "metadata": {},
   "outputs": [
    {
     "data": {
      "text/plain": [
       "Ind_ID               0\n",
       "GENDER               7\n",
       "Car_Owner            0\n",
       "Propert_Owner        0\n",
       "CHILDREN             0\n",
       "Annual_income       23\n",
       "Type_Income          0\n",
       "EDUCATION            0\n",
       "Marital_status       0\n",
       "Housing_type         0\n",
       "Birthday_count      22\n",
       "Employed_days        0\n",
       "Mobile_phone         0\n",
       "Work_Phone           0\n",
       "Phone                0\n",
       "EMAIL_ID             0\n",
       "Type_Occupation    488\n",
       "Family_Members       0\n",
       "Approved_status      0\n",
       "dtype: int64"
      ]
     },
     "execution_count": 798,
     "metadata": {},
     "output_type": "execute_result"
    }
   ],
   "source": [
    "data.isnull().sum()"
   ]
  },
  {
   "cell_type": "code",
   "execution_count": 799,
   "id": "76d5683e",
   "metadata": {},
   "outputs": [
    {
     "data": {
      "text/plain": [
       "()"
      ]
     },
     "execution_count": 799,
     "metadata": {},
     "output_type": "execute_result"
    },
    {
     "data": {
      "image/png": "[encoded data removed]",
      "text/plain": [
       "<Figure size 800x600 with 2 Axes>"
      ]
     },
     "metadata": {},
     "output_type": "display_data"
    }
   ],
   "source": [
    "plt.figure(figsize = (8,6))\n",
    "sns.heatmap(data.isnull())\n",
    "plt.title(\" missing value heatmap\")\n",
    "plt.show\n"
   ]
  },
  {
   "cell_type": "code",
   "execution_count": 800,
   "id": "fd717424",
   "metadata": {},
   "outputs": [
    {
     "data": {
      "text/plain": [
       "Index(['Ind_ID', 'GENDER', 'Car_Owner', 'Propert_Owner', 'CHILDREN',\n",
       "       'Annual_income', 'Type_Income', 'EDUCATION', 'Marital_status',\n",
       "       'Housing_type', 'Birthday_count', 'Employed_days', 'Mobile_phone',\n",
       "       'Work_Phone', 'Phone', 'EMAIL_ID', 'Type_Occupation', 'Family_Members',\n",
       "       'Approved_status'],\n",
       "      dtype='object')"
      ]
     },
     "execution_count": 800,
     "metadata": {},
     "output_type": "execute_result"
    }
   ],
   "source": [
    "data.columns"
   ]
  },
  {
   "cell_type": "code",
   "execution_count": 801,
   "id": "c1830fdc",
   "metadata": {},
   "outputs": [],
   "source": [
    "#dropping unnecessary columns\n",
    "data.drop(columns = {'Mobile_phone','Work_Phone','Phone','EMAIL_ID','Type_Occupation'} , inplace = True)"
   ]
  },
  {
   "cell_type": "code",
   "execution_count": 802,
   "id": "d5eb00e4",
   "metadata": {},
   "outputs": [
    {
     "data": {
      "text/plain": [
       "Index(['Ind_ID', 'GENDER', 'Car_Owner', 'Propert_Owner', 'CHILDREN',\n",
       "       'Annual_income', 'Type_Income', 'EDUCATION', 'Marital_status',\n",
       "       'Housing_type', 'Birthday_count', 'Employed_days', 'Family_Members',\n",
       "       'Approved_status'],\n",
       "      dtype='object')"
      ]
     },
     "execution_count": 802,
     "metadata": {},
     "output_type": "execute_result"
    }
   ],
   "source": [
    "df.columns"
   ]
  },
  {
   "cell_type": "code",
   "execution_count": 803,
   "id": "34c2ef24",
   "metadata": {},
   "outputs": [
    {
     "data": {
      "text/plain": [
       "Ind_ID              0\n",
       "GENDER              7\n",
       "Car_Owner           0\n",
       "Propert_Owner       0\n",
       "CHILDREN            0\n",
       "Annual_income      23\n",
       "Type_Income         0\n",
       "EDUCATION           0\n",
       "Marital_status      0\n",
       "Housing_type        0\n",
       "Birthday_count     22\n",
       "Employed_days       0\n",
       "Family_Members      0\n",
       "Approved_status     0\n",
       "dtype: int64"
      ]
     },
     "execution_count": 803,
     "metadata": {},
     "output_type": "execute_result"
    }
   ],
   "source": [
    "df.isnull().sum()"
   ]
  },
  {
   "cell_type": "code",
   "execution_count": 804,
   "id": "9e4370a2",
   "metadata": {},
   "outputs": [],
   "source": [
    "data['Birthday_count']\n",
    "age = []\n",
    "for i in df['Birthday_count']:\n",
    "    if i != np.nan:\n",
    "        age.append(round(abs(i/365),2))\n",
    "    else:\n",
    "        age.append(np.nan)\n",
    "age\n",
    "df['Age'] = age"
   ]
  },
  {
   "cell_type": "code",
   "execution_count": 805,
   "id": "e5d365ec",
   "metadata": {},
   "outputs": [],
   "source": [
    "df['Employed_days']\n",
    "Emp_status = []\n",
    "for i in df['Employed_days']:\n",
    "    if i<0:\n",
    "        Emp_status.append('Employed')\n",
    "    else:\n",
    "        Emp_status.append('Unemployed')\n",
    "df['Emp_status']  = Emp_status"
   ]
  },
  {
   "cell_type": "code",
   "execution_count": 806,
   "id": "c952d23e",
   "metadata": {},
   "outputs": [],
   "source": [
    "df.drop(columns = {'Employed_days' , 'Birthday_count' }, inplace = True)"
   ]
  },
  {
   "cell_type": "code",
   "execution_count": 807,
   "id": "0deb5595",
   "metadata": {},
   "outputs": [
    {
     "data": {
      "text/html": [
       "<div>\n",
       "<style scoped>\n",
       "    .dataframe tbody tr th:only-of-type {\n",
       "        vertical-align: middle;\n",
       "    }\n",
       "\n",
       "    .dataframe tbody tr th {\n",
       "        vertical-align: top;\n",
       "    }\n",
       "\n",
       "    .dataframe thead th {\n",
       "        text-align: right;\n",
       "    }\n",
       "</style>\n",
       "<table border=\"1\" class=\"dataframe\">\n",
       "  <thead>\n",
       "    <tr style=\"text-align: right;\">\n",
       "      <th></th>\n",
       "      <th>Ind_ID</th>\n",
       "      <th>GENDER</th>\n",
       "      <th>Car_Owner</th>\n",
       "      <th>Propert_Owner</th>\n",
       "      <th>CHILDREN</th>\n",
       "      <th>Annual_income</th>\n",
       "      <th>Type_Income</th>\n",
       "      <th>EDUCATION</th>\n",
       "      <th>Marital_status</th>\n",
       "      <th>Housing_type</th>\n",
       "      <th>Family_Members</th>\n",
       "      <th>Approved_status</th>\n",
       "      <th>Age</th>\n",
       "      <th>Emp_status</th>\n",
       "    </tr>\n",
       "  </thead>\n",
       "  <tbody>\n",
       "    <tr>\n",
       "      <th>0</th>\n",
       "      <td>5056149</td>\n",
       "      <td>M</td>\n",
       "      <td>Y</td>\n",
       "      <td>N</td>\n",
       "      <td>0</td>\n",
       "      <td>157500.0</td>\n",
       "      <td>Working</td>\n",
       "      <td>Secondary / secondary special</td>\n",
       "      <td>Married</td>\n",
       "      <td>House / apartment</td>\n",
       "      <td>2</td>\n",
       "      <td>0</td>\n",
       "      <td>64.18</td>\n",
       "      <td>Employed</td>\n",
       "    </tr>\n",
       "    <tr>\n",
       "      <th>1</th>\n",
       "      <td>5090386</td>\n",
       "      <td>F</td>\n",
       "      <td>N</td>\n",
       "      <td>Y</td>\n",
       "      <td>0</td>\n",
       "      <td>247500.0</td>\n",
       "      <td>Commercial associate</td>\n",
       "      <td>Higher education</td>\n",
       "      <td>Single / not married</td>\n",
       "      <td>House / apartment</td>\n",
       "      <td>1</td>\n",
       "      <td>0</td>\n",
       "      <td>59.01</td>\n",
       "      <td>Employed</td>\n",
       "    </tr>\n",
       "    <tr>\n",
       "      <th>2</th>\n",
       "      <td>5033628</td>\n",
       "      <td>F</td>\n",
       "      <td>N</td>\n",
       "      <td>Y</td>\n",
       "      <td>0</td>\n",
       "      <td>166500.0</td>\n",
       "      <td>State servant</td>\n",
       "      <td>Higher education</td>\n",
       "      <td>Married</td>\n",
       "      <td>House / apartment</td>\n",
       "      <td>2</td>\n",
       "      <td>0</td>\n",
       "      <td>64.65</td>\n",
       "      <td>Employed</td>\n",
       "    </tr>\n",
       "    <tr>\n",
       "      <th>3</th>\n",
       "      <td>5126108</td>\n",
       "      <td>F</td>\n",
       "      <td>N</td>\n",
       "      <td>Y</td>\n",
       "      <td>0</td>\n",
       "      <td>112500.0</td>\n",
       "      <td>State servant</td>\n",
       "      <td>Secondary / secondary special</td>\n",
       "      <td>Single / not married</td>\n",
       "      <td>House / apartment</td>\n",
       "      <td>1</td>\n",
       "      <td>0</td>\n",
       "      <td>56.38</td>\n",
       "      <td>Employed</td>\n",
       "    </tr>\n",
       "    <tr>\n",
       "      <th>4</th>\n",
       "      <td>5112599</td>\n",
       "      <td>F</td>\n",
       "      <td>N</td>\n",
       "      <td>Y</td>\n",
       "      <td>0</td>\n",
       "      <td>103500.0</td>\n",
       "      <td>Working</td>\n",
       "      <td>Secondary / secondary special</td>\n",
       "      <td>Married</td>\n",
       "      <td>House / apartment</td>\n",
       "      <td>2</td>\n",
       "      <td>0</td>\n",
       "      <td>61.55</td>\n",
       "      <td>Employed</td>\n",
       "    </tr>\n",
       "  </tbody>\n",
       "</table>\n",
       "</div>"
      ],
      "text/plain": [
       "    Ind_ID GENDER Car_Owner Propert_Owner  CHILDREN  Annual_income  \\\n",
       "0  5056149      M         Y             N         0       157500.0   \n",
       "1  5090386      F         N             Y         0       247500.0   \n",
       "2  5033628      F         N             Y         0       166500.0   \n",
       "3  5126108      F         N             Y         0       112500.0   \n",
       "4  5112599      F         N             Y         0       103500.0   \n",
       "\n",
       "            Type_Income                      EDUCATION        Marital_status  \\\n",
       "0               Working  Secondary / secondary special               Married   \n",
       "1  Commercial associate               Higher education  Single / not married   \n",
       "2         State servant               Higher education               Married   \n",
       "3         State servant  Secondary / secondary special  Single / not married   \n",
       "4               Working  Secondary / secondary special               Married   \n",
       "\n",
       "        Housing_type  Family_Members  Approved_status    Age Emp_status  \n",
       "0  House / apartment               2                0  64.18   Employed  \n",
       "1  House / apartment               1                0  59.01   Employed  \n",
       "2  House / apartment               2                0  64.65   Employed  \n",
       "3  House / apartment               1                0  56.38   Employed  \n",
       "4  House / apartment               2                0  61.55   Employed  "
      ]
     },
     "execution_count": 807,
     "metadata": {},
     "output_type": "execute_result"
    }
   ],
   "source": [
    "df.head()"
   ]
  },
  {
   "cell_type": "code",
   "execution_count": 808,
   "id": "9c2b514b",
   "metadata": {},
   "outputs": [
    {
     "data": {
      "text/plain": [
       "(1548, 14)"
      ]
     },
     "execution_count": 808,
     "metadata": {},
     "output_type": "execute_result"
    }
   ],
   "source": [
    "df.shape"
   ]
  },
  {
   "cell_type": "code",
   "execution_count": 809,
   "id": "b02f57dd",
   "metadata": {},
   "outputs": [
    {
     "data": {
      "text/html": [
       "<div>\n",
       "<style scoped>\n",
       "    .dataframe tbody tr th:only-of-type {\n",
       "        vertical-align: middle;\n",
       "    }\n",
       "\n",
       "    .dataframe tbody tr th {\n",
       "        vertical-align: top;\n",
       "    }\n",
       "\n",
       "    .dataframe thead th {\n",
       "        text-align: right;\n",
       "    }\n",
       "</style>\n",
       "<table border=\"1\" class=\"dataframe\">\n",
       "  <thead>\n",
       "    <tr style=\"text-align: right;\">\n",
       "      <th></th>\n",
       "      <th>Ind_ID</th>\n",
       "      <th>CHILDREN</th>\n",
       "      <th>Annual_income</th>\n",
       "      <th>Family_Members</th>\n",
       "      <th>Approved_status</th>\n",
       "      <th>Age</th>\n",
       "    </tr>\n",
       "  </thead>\n",
       "  <tbody>\n",
       "    <tr>\n",
       "      <th>count</th>\n",
       "      <td>1.548000e+03</td>\n",
       "      <td>1548.000000</td>\n",
       "      <td>1.525000e+03</td>\n",
       "      <td>1548.000000</td>\n",
       "      <td>1548.000000</td>\n",
       "      <td>1526.000000</td>\n",
       "    </tr>\n",
       "    <tr>\n",
       "      <th>mean</th>\n",
       "      <td>5.078920e+06</td>\n",
       "      <td>0.412791</td>\n",
       "      <td>1.913993e+05</td>\n",
       "      <td>2.161499</td>\n",
       "      <td>0.113049</td>\n",
       "      <td>43.946094</td>\n",
       "    </tr>\n",
       "    <tr>\n",
       "      <th>std</th>\n",
       "      <td>4.171759e+04</td>\n",
       "      <td>0.776691</td>\n",
       "      <td>1.132530e+05</td>\n",
       "      <td>0.947772</td>\n",
       "      <td>0.316755</td>\n",
       "      <td>11.587803</td>\n",
       "    </tr>\n",
       "    <tr>\n",
       "      <th>min</th>\n",
       "      <td>5.008827e+06</td>\n",
       "      <td>0.000000</td>\n",
       "      <td>3.375000e+04</td>\n",
       "      <td>1.000000</td>\n",
       "      <td>0.000000</td>\n",
       "      <td>21.110000</td>\n",
       "    </tr>\n",
       "    <tr>\n",
       "      <th>25%</th>\n",
       "      <td>5.045070e+06</td>\n",
       "      <td>0.000000</td>\n",
       "      <td>1.215000e+05</td>\n",
       "      <td>2.000000</td>\n",
       "      <td>0.000000</td>\n",
       "      <td>34.020000</td>\n",
       "    </tr>\n",
       "    <tr>\n",
       "      <th>50%</th>\n",
       "      <td>5.078842e+06</td>\n",
       "      <td>0.000000</td>\n",
       "      <td>1.665000e+05</td>\n",
       "      <td>2.000000</td>\n",
       "      <td>0.000000</td>\n",
       "      <td>42.905000</td>\n",
       "    </tr>\n",
       "    <tr>\n",
       "      <th>75%</th>\n",
       "      <td>5.115673e+06</td>\n",
       "      <td>1.000000</td>\n",
       "      <td>2.250000e+05</td>\n",
       "      <td>3.000000</td>\n",
       "      <td>0.000000</td>\n",
       "      <td>53.567500</td>\n",
       "    </tr>\n",
       "    <tr>\n",
       "      <th>max</th>\n",
       "      <td>5.150412e+06</td>\n",
       "      <td>14.000000</td>\n",
       "      <td>1.575000e+06</td>\n",
       "      <td>15.000000</td>\n",
       "      <td>1.000000</td>\n",
       "      <td>68.350000</td>\n",
       "    </tr>\n",
       "  </tbody>\n",
       "</table>\n",
       "</div>"
      ],
      "text/plain": [
       "             Ind_ID     CHILDREN  Annual_income  Family_Members  \\\n",
       "count  1.548000e+03  1548.000000   1.525000e+03     1548.000000   \n",
       "mean   5.078920e+06     0.412791   1.913993e+05        2.161499   \n",
       "std    4.171759e+04     0.776691   1.132530e+05        0.947772   \n",
       "min    5.008827e+06     0.000000   3.375000e+04        1.000000   \n",
       "25%    5.045070e+06     0.000000   1.215000e+05        2.000000   \n",
       "50%    5.078842e+06     0.000000   1.665000e+05        2.000000   \n",
       "75%    5.115673e+06     1.000000   2.250000e+05        3.000000   \n",
       "max    5.150412e+06    14.000000   1.575000e+06       15.000000   \n",
       "\n",
       "       Approved_status          Age  \n",
       "count      1548.000000  1526.000000  \n",
       "mean          0.113049    43.946094  \n",
       "std           0.316755    11.587803  \n",
       "min           0.000000    21.110000  \n",
       "25%           0.000000    34.020000  \n",
       "50%           0.000000    42.905000  \n",
       "75%           0.000000    53.567500  \n",
       "max           1.000000    68.350000  "
      ]
     },
     "execution_count": 809,
     "metadata": {},
     "output_type": "execute_result"
    }
   ],
   "source": [
    "df.describe()"
   ]
  },
  {
   "cell_type": "code",
   "execution_count": 810,
   "id": "b3b3ce36",
   "metadata": {},
   "outputs": [
    {
     "name": "stdout",
     "output_type": "stream",
     "text": [
      "['M' 'F' nan]\n",
      "***********************************************************************\n",
      "['Y' 'N']\n",
      "***********************************************************************\n",
      "['N' 'Y']\n",
      "***********************************************************************\n",
      "['Working' 'Commercial associate' 'State servant' 'Pensioner']\n",
      "***********************************************************************\n",
      "['Secondary / secondary special' 'Higher education' 'Incomplete higher'\n",
      " 'Academic degree' 'Lower secondary']\n",
      "***********************************************************************\n",
      "['Married' 'Single / not married' 'Separated' 'Civil marriage' 'Widow']\n",
      "***********************************************************************\n",
      "['House / apartment' 'Municipal apartment' 'With parents'\n",
      " 'Co-op apartment' 'Office apartment' 'Rented apartment']\n",
      "***********************************************************************\n",
      "['Employed' 'Unemployed']\n",
      "***********************************************************************\n"
     ]
    }
   ],
   "source": [
    "#Check Unique Value in Categorical Columns\n",
    "for i in data.columns:\n",
    "    if data[i].dtypes == \"object\":\n",
    "        print(df[i].unique())\n",
    "        print(\"***********************************************************************\")"
   ]
  },
  {
   "cell_type": "code",
   "execution_count": 811,
   "id": "30b23a0b",
   "metadata": {},
   "outputs": [],
   "source": [
    "# Replacing Marital Status Column\n",
    "df['Marital_status'] = df['Marital_status'].replace({\"Single / not married\" : \"not married\"} )"
   ]
  },
  {
   "cell_type": "code",
   "execution_count": 812,
   "id": "0d2a5410",
   "metadata": {},
   "outputs": [],
   "source": [
    "df['EDUCATION'] = df['EDUCATION'].replace({\"Secondary / secondary special\" : \"Secondary Education\"} )"
   ]
  },
  {
   "cell_type": "markdown",
   "id": "3a971ec3",
   "metadata": {},
   "source": [
    "# EDA"
   ]
  },
  {
   "cell_type": "code",
   "execution_count": 813,
   "id": "52b56984",
   "metadata": {},
   "outputs": [
    {
     "data": {
      "text/plain": [
       "()"
      ]
     },
     "execution_count": 813,
     "metadata": {},
     "output_type": "execute_result"
    },
    {
     "data": {
      "image/png": "[encoded data removed]",
      "text/plain": [
       "<Figure size 1000x800 with 6 Axes>"
      ]
     },
     "metadata": {},
     "output_type": "display_data"
    }
   ],
   "source": [
    "df.hist(bins = 50 , figsize = (10,8))\n",
    "plt.show"
   ]
  },
  {
   "cell_type": "code",
   "execution_count": 814,
   "id": "6087d658",
   "metadata": {},
   "outputs": [
    {
     "data": {
      "text/plain": [
       "()"
      ]
     },
     "execution_count": 814,
     "metadata": {},
     "output_type": "execute_result"
    },
    {
     "data": {
      "image/png": "[encoded data removed]",
      "text/plain": [
       "<Figure size 1000x800 with 6 Axes>"
      ]
     },
     "metadata": {},
     "output_type": "display_data"
    }
   ],
   "source": [
    "df.plot(kind = 'density' , subplots = True , figsize = (10,8))\n",
    "plt.show"
   ]
  },
  {
   "cell_type": "code",
   "execution_count": 815,
   "id": "c176cd62",
   "metadata": {},
   "outputs": [
    {
     "name": "stdout",
     "output_type": "stream",
     "text": [
      "Ind_ID\n",
      "CHILDREN\n",
      "Annual_income\n",
      "Family_Members\n",
      "Approved_status\n",
      "Age\n"
     ]
    }
   ],
   "source": [
    "for i in df.columns:\n",
    "    if df[i].dtypes == 'int64' or df[i].dtypes == 'float64':\n",
    "        print(i)"
   ]
  },
  {
   "cell_type": "code",
   "execution_count": 816,
   "id": "80e774fc",
   "metadata": {},
   "outputs": [
    {
     "data": {
      "text/plain": [
       "['Ind_ID',\n",
       " 'CHILDREN',\n",
       " 'Annual_income',\n",
       " 'Birthday_count',\n",
       " 'Employed_days',\n",
       " 'Mobile_phone',\n",
       " 'Work_Phone',\n",
       " 'Phone',\n",
       " 'EMAIL_ID',\n",
       " 'Family_Members',\n",
       " 'Approved_status']"
      ]
     },
     "execution_count": 816,
     "metadata": {},
     "output_type": "execute_result"
    }
   ],
   "source": [
    "numerical_column"
   ]
  },
  {
   "cell_type": "code",
   "execution_count": 817,
   "id": "398a34a4",
   "metadata": {},
   "outputs": [
    {
     "data": {
      "text/plain": [
       "Approved_status\n",
       "0    1373\n",
       "1     175\n",
       "Name: count, dtype: int64"
      ]
     },
     "execution_count": 817,
     "metadata": {},
     "output_type": "execute_result"
    }
   ],
   "source": [
    "df['Approved_status'].value_counts()"
   ]
  },
  {
   "cell_type": "code",
   "execution_count": 823,
   "id": "e25c3ff8",
   "metadata": {},
   "outputs": [
    {
     "data": {
      "application/vnd.plotly.v1+json": {
       "config": {
        "plotlyServerURL": "https://plot.ly"
       },
       "data": [
        {
         "alignmentgroup": "True",
         "bingroup": "x",
         "hovertemplate": "color=0<br>x=%{x}<br>count=%{y}<extra></extra>",
         "legendgroup": "0",
         "marker": {
          "color": "#636efa",
          "pattern": {
           "shape": ""
          }
         },
         "name": "0",
         "offsetgroup": "0",
         "orientation": "v",
         "showlegend": true,
         "type": "histogram",
         "x": [
          0,
          0,
          0,
          0,
          0,
          0,
          0,
          0,
          0,
          0,
          0,
          0,
          0,
          0,
          0,
          0,
          0,
          0,
          0,
          0,
          0,
          0,
          0,
          0,
          0,
          0,
          0,
          0,
          0,
          0,
          0,
          1,
          0,
          0,
          1,
          0,
          0,
          0,
          0,
          1,
          0,
          0,
          0,
          0,
          0,
          0,
          1,
          0,
          1,
          1,
          1,
          1,
          1,
          1,
          1,
          0,
          0,
          0,
          0,
          0,
          2,
          1,
          1,
          1,
          0,
          0,
          0,
          0,
          1,
          0,
          0,
          0,
          0,
          0,
          1,
          0,
          0,
          0,
          2,
          2,
          0,
          3,
          0,
          0,
          0,
          0,
          0,
          2,
          3,
          0,
          0,
          0,
          0,
          2,
          0,
          0,
          1,
          0,
          2,
          0,
          1,
          2,
          1,
          1,
          0,
          2,
          2,
          0,
          1,
          0,
          0,
          0,
          0,
          2,
          2,
          1,
          0,
          1,
          1,
          2,
          0,
          0,
          0,
          3,
          0,
          0,
          2,
          2,
          2,
          2,
          2,
          0,
          0,
          1,
          0,
          0,
          0,
          0,
          0,
          2,
          0,
          0,
          0,
          0,
          1,
          0,
          1,
          0,
          0,
          0,
          1,
          1,
          1,
          0,
          0,
          2,
          1,
          0,
          0,
          0,
          0,
          0,
          0,
          0,
          0,
          0,
          0,
          0,
          1,
          1,
          0,
          1,
          0,
          0,
          0,
          0,
          0,
          0,
          2,
          0,
          0,
          0,
          0,
          1,
          0,
          2,
          0,
          0,
          0,
          1,
          0,
          1,
          0,
          1,
          0,
          0,
          2,
          1,
          0,
          1,
          0,
          0,
          0,
          2,
          0,
          0,
          0,
          0,
          1,
          1,
          0,
          1,
          0,
          0,
          1,
          1,
          0,
          0,
          0,
          0,
          0,
          0,
          0,
          1,
          0,
          0,
          0,
          0,
          1,
          1,
          0,
          0,
          0,
          0,
          1,
          0,
          1,
          0,
          1,
          1,
          0,
          2,
          0,
          0,
          1,
          1,
          0,
          0,
          1,
          0,
          0,
          0,
          2,
          0,
          1,
          2,
          2,
          3,
          1,
          0,
          0,
          0,
          0,
          0,
          1,
          0,
          0,
          2,
          1,
          0,
          1,
          1,
          0,
          3,
          1,
          1,
          1,
          0,
          0,
          0,
          3,
          1,
          0,
          0,
          0,
          1,
          0,
          0,
          0,
          2,
          0,
          0,
          0,
          0,
          0,
          1,
          1,
          0,
          3,
          0,
          1,
          0,
          0,
          3,
          0,
          0,
          0,
          0,
          2,
          2,
          0,
          1,
          0,
          0,
          1,
          0,
          0,
          1,
          0,
          0,
          2,
          1,
          1,
          0,
          0,
          0,
          0,
          1,
          0,
          0,
          0,
          1,
          1,
          1,
          1,
          0,
          0,
          0,
          0,
          0,
          0,
          0,
          1,
          0,
          0,
          0,
          1,
          1,
          0,
          0,
          0,
          0,
          0,
          0,
          0,
          0,
          2,
          1,
          0,
          0,
          0,
          0,
          0,
          0,
          0,
          0,
          2,
          0,
          1,
          0,
          0,
          2,
          0,
          1,
          0,
          0,
          0,
          1,
          0,
          1,
          0,
          2,
          0,
          2,
          0,
          0,
          0,
          0,
          0,
          0,
          0,
          1,
          0,
          0,
          0,
          1,
          1,
          0,
          0,
          0,
          0,
          1,
          1,
          1,
          1,
          0,
          0,
          2,
          0,
          0,
          1,
          2,
          1,
          0,
          1,
          0,
          0,
          0,
          2,
          2,
          0,
          0,
          0,
          0,
          1,
          1,
          0,
          1,
          0,
          1,
          0,
          0,
          0,
          0,
          0,
          2,
          1,
          1,
          0,
          0,
          2,
          0,
          0,
          1,
          0,
          0,
          1,
          1,
          0,
          0,
          0,
          1,
          0,
          0,
          2,
          0,
          0,
          1,
          0,
          1,
          2,
          1,
          0,
          0,
          0,
          1,
          0,
          2,
          0,
          1,
          1,
          0,
          1,
          1,
          1,
          0,
          0,
          1,
          1,
          1,
          2,
          2,
          0,
          0,
          0,
          0,
          1,
          0,
          0,
          0,
          0,
          0,
          0,
          0,
          0,
          0,
          0,
          0,
          0,
          0,
          0,
          0,
          2,
          0,
          0,
          0,
          0,
          0,
          2,
          0,
          0,
          0,
          0,
          2,
          0,
          0,
          0,
          1,
          0,
          0,
          0,
          2,
          0,
          0,
          1,
          0,
          0,
          0,
          2,
          0,
          1,
          0,
          1,
          0,
          0,
          0,
          1,
          0,
          0,
          1,
          1,
          0,
          0,
          0,
          0,
          0,
          0,
          0,
          2,
          1,
          3,
          1,
          0,
          2,
          2,
          0,
          2,
          0,
          0,
          0,
          2,
          0,
          0,
          0,
          0,
          2,
          0,
          0,
          0,
          0,
          0,
          1,
          1,
          0,
          1,
          2,
          1,
          0,
          0,
          0,
          1,
          0,
          0,
          0,
          0,
          0,
          0,
          0,
          0,
          0,
          1,
          0,
          1,
          1,
          3,
          0,
          1,
          1,
          0,
          0,
          0,
          1,
          0,
          0,
          0,
          1,
          0,
          0,
          1,
          0,
          0,
          1,
          1,
          1,
          0,
          0,
          0,
          0,
          2,
          2,
          0,
          0,
          0,
          1,
          0,
          0,
          0,
          0,
          0,
          0,
          2,
          0,
          0,
          0,
          0,
          0,
          0,
          0,
          0,
          0,
          0,
          1,
          0,
          0,
          0,
          1,
          0,
          0,
          0,
          0,
          0,
          1,
          1,
          1,
          0,
          0,
          0,
          1,
          0,
          0,
          2,
          0,
          1,
          14,
          0,
          0,
          0,
          1,
          0,
          0,
          1,
          2,
          1,
          1,
          0,
          3,
          2,
          0,
          1,
          0,
          0,
          0,
          0,
          0,
          0,
          2,
          0,
          0,
          0,
          2,
          1,
          2,
          0,
          1,
          1,
          0,
          1,
          0,
          0,
          0,
          0,
          0,
          0,
          1,
          0,
          1,
          2,
          0,
          1,
          0,
          1,
          0,
          0,
          0,
          0,
          2,
          0,
          0,
          0,
          0,
          0,
          0,
          3,
          2,
          0,
          0,
          0,
          0,
          0,
          0,
          2,
          0,
          0,
          0,
          0,
          1,
          0,
          0,
          0,
          2,
          0,
          0,
          1,
          1,
          0,
          0,
          1,
          0,
          0,
          0,
          1,
          1,
          1,
          0,
          2,
          0,
          1,
          0,
          0,
          1,
          0,
          0,
          0,
          0,
          2,
          1,
          1,
          0,
          0,
          1,
          1,
          0,
          0,
          1,
          0,
          2,
          1,
          0,
          0,
          0,
          0,
          0,
          0,
          1,
          1,
          2,
          2,
          2,
          0,
          0,
          0,
          1,
          0,
          0,
          0,
          0,
          0,
          0,
          0,
          0,
          0,
          1,
          1,
          0,
          1,
          0,
          2,
          2,
          0,
          0,
          0,
          0,
          0,
          0,
          2,
          0,
          0,
          1,
          1,
          1,
          0,
          0,
          0,
          0,
          2,
          1,
          1,
          0,
          0,
          2,
          0,
          0,
          2,
          0,
          0,
          0,
          1,
          2,
          0,
          0,
          0,
          0,
          1,
          1,
          0,
          0,
          0,
          2,
          0,
          0,
          0,
          0,
          0,
          0,
          1,
          0,
          0,
          1,
          0,
          0,
          0,
          0,
          0,
          0,
          1,
          0,
          0,
          2,
          2,
          2,
          0,
          1,
          1,
          1,
          0,
          0,
          0,
          1,
          0,
          0,
          0,
          0,
          0,
          0,
          0,
          1,
          2,
          1,
          0,
          0,
          0,
          0,
          0,
          0,
          0,
          0,
          1,
          0,
          0,
          0,
          0,
          0,
          0,
          1,
          0,
          0,
          1,
          1,
          0,
          1,
          0,
          0,
          0,
          0,
          0,
          0,
          1,
          0,
          0,
          0,
          0,
          0,
          1,
          0,
          0,
          2,
          0,
          1,
          0,
          0,
          1,
          0,
          2,
          1,
          1,
          0,
          1,
          1,
          2,
          2,
          1,
          2,
          2,
          0,
          0,
          1,
          0,
          0,
          0,
          0,
          0,
          1,
          1,
          0,
          0,
          0,
          0,
          0,
          0,
          0,
          1,
          0,
          0,
          1,
          0,
          0,
          0,
          2,
          1,
          0,
          0,
          0,
          0,
          0,
          2,
          0,
          0,
          0,
          1,
          2,
          0,
          0,
          0,
          0,
          0,
          0,
          0,
          0,
          0,
          0,
          2,
          1,
          2,
          0,
          1,
          1,
          1,
          0,
          0,
          0,
          0,
          0,
          0,
          0,
          0,
          0,
          1,
          2,
          0,
          0,
          0,
          0,
          2,
          0,
          0,
          0,
          0,
          1,
          0,
          3,
          0,
          2,
          2,
          0,
          1,
          0,
          3,
          0,
          0,
          0,
          1,
          0,
          2,
          0,
          1,
          0,
          0,
          0,
          2,
          1,
          0,
          0,
          3,
          0,
          0,
          0,
          1,
          2,
          1,
          0,
          0,
          0,
          0,
          1,
          0,
          0,
          0,
          0,
          0,
          0,
          0,
          0,
          0,
          2,
          0,
          1,
          0,
          0,
          0,
          0,
          0,
          0,
          0,
          0,
          2,
          0,
          2,
          2,
          0,
          1,
          1,
          0,
          1,
          0,
          0,
          0,
          0,
          0,
          0,
          0,
          1,
          0,
          0,
          2,
          0,
          1,
          0,
          1,
          0,
          0,
          0,
          1,
          1,
          0,
          0,
          0,
          0,
          1,
          0,
          1,
          2,
          0,
          0,
          0,
          0,
          0,
          1,
          0,
          1,
          1,
          1,
          1,
          1,
          0,
          0,
          1,
          0,
          0,
          2,
          1,
          1,
          1,
          0,
          1,
          1,
          1,
          0,
          2,
          2,
          0,
          0,
          2,
          0,
          2,
          1,
          0,
          2,
          0,
          0,
          0,
          0,
          0,
          0,
          0,
          0,
          0,
          0,
          0,
          0,
          0,
          0,
          0,
          0,
          0,
          0,
          0,
          0,
          0,
          0,
          0,
          0,
          0,
          0,
          0,
          0,
          0,
          0,
          0,
          0,
          0,
          0,
          0,
          0,
          0,
          0,
          0,
          0,
          0,
          0,
          0,
          0,
          0,
          0,
          0,
          0,
          0,
          0,
          0,
          0,
          0,
          0,
          0,
          0,
          0,
          0,
          0,
          0,
          0,
          0,
          0,
          0,
          0,
          0,
          0,
          0,
          0,
          0,
          0,
          0,
          0,
          0,
          0,
          0,
          0,
          0,
          0,
          0,
          0,
          0,
          0,
          0,
          0,
          0,
          0,
          0,
          0,
          0,
          0,
          0,
          0,
          0,
          0,
          0,
          0,
          0,
          0,
          0,
          0,
          0,
          0,
          0,
          0,
          0,
          0,
          0,
          0,
          0,
          0,
          0,
          0,
          0,
          0,
          0,
          0,
          0,
          0,
          0,
          0,
          0,
          0,
          0,
          0,
          0,
          0,
          0,
          0,
          0,
          0,
          0,
          0,
          0,
          0,
          0,
          0,
          0,
          0,
          0,
          0,
          0,
          0,
          0,
          0,
          0,
          0,
          0,
          0,
          0,
          0,
          0,
          0,
          0,
          0,
          0,
          0,
          0,
          0,
          0,
          0,
          0,
          0,
          0,
          0,
          0,
          0,
          0,
          0,
          0,
          0,
          0,
          0,
          0,
          0,
          0,
          1,
          0,
          0,
          0,
          0,
          0,
          0,
          0,
          0,
          0,
          0,
          0,
          0,
          0,
          0,
          0,
          0,
          0,
          0,
          0,
          0,
          0,
          0,
          0,
          0,
          0,
          0,
          1,
          0,
          0,
          0,
          1,
          1,
          0,
          1,
          0,
          0,
          0,
          0,
          0,
          0,
          0,
          0,
          1,
          0,
          3,
          0,
          0,
          0,
          0
         ],
         "xaxis": "x",
         "yaxis": "y"
        },
        {
         "alignmentgroup": "True",
         "bingroup": "x",
         "hovertemplate": "color=1<br>x=%{x}<br>count=%{y}<extra></extra>",
         "legendgroup": "1",
         "marker": {
          "color": "#EF553B",
          "pattern": {
           "shape": ""
          }
         },
         "name": "1",
         "offsetgroup": "1",
         "orientation": "v",
         "showlegend": true,
         "type": "histogram",
         "x": [
          2,
          2,
          0,
          0,
          4,
          2,
          0,
          0,
          0,
          1,
          2,
          0,
          0,
          2,
          2,
          2,
          1,
          0,
          1,
          0,
          2,
          2,
          0,
          0,
          0,
          0,
          0,
          0,
          0,
          0,
          0,
          1,
          0,
          0,
          0,
          0,
          0,
          1,
          0,
          1,
          1,
          0,
          0,
          1,
          0,
          0,
          0,
          2,
          1,
          1,
          0,
          0,
          0,
          0,
          0,
          1,
          0,
          0,
          1,
          0,
          1,
          1,
          0,
          0,
          0,
          0,
          0,
          0,
          0,
          0,
          1,
          1,
          1,
          0,
          0,
          0,
          0,
          0,
          0,
          0,
          0,
          1,
          1,
          2,
          0,
          1,
          1,
          1,
          1,
          1,
          0,
          0,
          1,
          0,
          0,
          0,
          0,
          1,
          1,
          1,
          0,
          0,
          0,
          0,
          0,
          0,
          0,
          0,
          0,
          0,
          0,
          0,
          0,
          0,
          0,
          0,
          0,
          2,
          0,
          0,
          0,
          1,
          1,
          1,
          0,
          0,
          0,
          1,
          0,
          0,
          0,
          0,
          0,
          0,
          0,
          0,
          1,
          1,
          1,
          1,
          0,
          0,
          0,
          0,
          0,
          0,
          0,
          0,
          0,
          0,
          0,
          0,
          0,
          0,
          0,
          0,
          0,
          0,
          0,
          0,
          0,
          0,
          0,
          0,
          0,
          0,
          0,
          0,
          0,
          0,
          0,
          0,
          0,
          0,
          0
         ],
         "xaxis": "x",
         "yaxis": "y"
        }
       ],
       "layout": {
        "barmode": "relative",
        "legend": {
         "title": {
          "text": "color"
         },
         "tracegroupgap": 0
        },
        "template": {
         "data": {
          "bar": [
           {
            "error_x": {
             "color": "#2a3f5f"
            },
            "error_y": {
             "color": "#2a3f5f"
            },
            "marker": {
             "line": {
              "color": "#E5ECF6",
              "width": 0.5
             },
             "pattern": {
              "fillmode": "overlay",
              "size": 10,
              "solidity": 0.2
             }
            },
            "type": "bar"
           }
          ],
          "barpolar": [
           {
            "marker": {
             "line": {
              "color": "#E5ECF6",
              "width": 0.5
             },
             "pattern": {
              "fillmode": "overlay",
              "size": 10,
              "solidity": 0.2
             }
            },
            "type": "barpolar"
           }
          ],
          "carpet": [
           {
            "aaxis": {
             "endlinecolor": "#2a3f5f",
             "gridcolor": "white",
             "linecolor": "white",
             "minorgridcolor": "white",
             "startlinecolor": "#2a3f5f"
            },
            "baxis": {
             "endlinecolor": "#2a3f5f",
             "gridcolor": "white",
             "linecolor": "white",
             "minorgridcolor": "white",
             "startlinecolor": "#2a3f5f"
            },
            "type": "carpet"
           }
          ],
          "choropleth": [
           {
            "colorbar": {
             "outlinewidth": 0,
             "ticks": ""
            },
            "type": "choropleth"
           }
          ],
          "contour": [
           {
            "colorbar": {
             "outlinewidth": 0,
             "ticks": ""
            },
            "colorscale": [
             [
              0,
              "#0d0887"
             ],
             [
              0.1111111111111111,
              "#46039f"
             ],
             [
              0.2222222222222222,
              "#7201a8"
             ],
             [
              0.3333333333333333,
              "#9c179e"
             ],
             [
              0.4444444444444444,
              "#bd3786"
             ],
             [
              0.5555555555555556,
              "#d8576b"
             ],
             [
              0.6666666666666666,
              "#ed7953"
             ],
             [
              0.7777777777777778,
              "#fb9f3a"
             ],
             [
              0.8888888888888888,
              "#fdca26"
             ],
             [
              1,
              "#f0f921"
             ]
            ],
            "type": "contour"
           }
          ],
          "contourcarpet": [
           {
            "colorbar": {
             "outlinewidth": 0,
             "ticks": ""
            },
            "type": "contourcarpet"
           }
          ],
          "heatmap": [
           {
            "colorbar": {
             "outlinewidth": 0,
             "ticks": ""
            },
            "colorscale": [
             [
              0,
              "#0d0887"
             ],
             [
              0.1111111111111111,
              "#46039f"
             ],
             [
              0.2222222222222222,
              "#7201a8"
             ],
             [
              0.3333333333333333,
              "#9c179e"
             ],
             [
              0.4444444444444444,
              "#bd3786"
             ],
             [
              0.5555555555555556,
              "#d8576b"
             ],
             [
              0.6666666666666666,
              "#ed7953"
             ],
             [
              0.7777777777777778,
              "#fb9f3a"
             ],
             [
              0.8888888888888888,
              "#fdca26"
             ],
             [
              1,
              "#f0f921"
             ]
            ],
            "type": "heatmap"
           }
          ],
          "heatmapgl": [
           {
            "colorbar": {
             "outlinewidth": 0,
             "ticks": ""
            },
            "colorscale": [
             [
              0,
              "#0d0887"
             ],
             [
              0.1111111111111111,
              "#46039f"
             ],
             [
              0.2222222222222222,
              "#7201a8"
             ],
             [
              0.3333333333333333,
              "#9c179e"
             ],
             [
              0.4444444444444444,
              "#bd3786"
             ],
             [
              0.5555555555555556,
              "#d8576b"
             ],
             [
              0.6666666666666666,
              "#ed7953"
             ],
             [
              0.7777777777777778,
              "#fb9f3a"
             ],
             [
              0.8888888888888888,
              "#fdca26"
             ],
             [
              1,
              "#f0f921"
             ]
            ],
            "type": "heatmapgl"
           }
          ],
          "histogram": [
           {
            "marker": {
             "pattern": {
              "fillmode": "overlay",
              "size": 10,
              "solidity": 0.2
             }
            },
            "type": "histogram"
           }
          ],
          "histogram2d": [
           {
            "colorbar": {
             "outlinewidth": 0,
             "ticks": ""
            },
            "colorscale": [
             [
              0,
              "#0d0887"
             ],
             [
              0.1111111111111111,
              "#46039f"
             ],
             [
              0.2222222222222222,
              "#7201a8"
             ],
             [
              0.3333333333333333,
              "#9c179e"
             ],
             [
              0.4444444444444444,
              "#bd3786"
             ],
             [
              0.5555555555555556,
              "#d8576b"
             ],
             [
              0.6666666666666666,
              "#ed7953"
             ],
             [
              0.7777777777777778,
              "#fb9f3a"
             ],
             [
              0.8888888888888888,
              "#fdca26"
             ],
             [
              1,
              "#f0f921"
             ]
            ],
            "type": "histogram2d"
           }
          ],
          "histogram2dcontour": [
           {
            "colorbar": {
             "outlinewidth": 0,
             "ticks": ""
            },
            "colorscale": [
             [
              0,
              "#0d0887"
             ],
             [
              0.1111111111111111,
              "#46039f"
             ],
             [
              0.2222222222222222,
              "#7201a8"
             ],
             [
              0.3333333333333333,
              "#9c179e"
             ],
             [
              0.4444444444444444,
              "#bd3786"
             ],
             [
              0.5555555555555556,
              "#d8576b"
             ],
             [
              0.6666666666666666,
              "#ed7953"
             ],
             [
              0.7777777777777778,
              "#fb9f3a"
             ],
             [
              0.8888888888888888,
              "#fdca26"
             ],
             [
              1,
              "#f0f921"
             ]
            ],
            "type": "histogram2dcontour"
           }
          ],
          "mesh3d": [
           {
            "colorbar": {
             "outlinewidth": 0,
             "ticks": ""
            },
            "type": "mesh3d"
           }
          ],
          "parcoords": [
           {
            "line": {
             "colorbar": {
              "outlinewidth": 0,
              "ticks": ""
             }
            },
            "type": "parcoords"
           }
          ],
          "pie": [
           {
            "automargin": true,
            "type": "pie"
           }
          ],
          "scatter": [
           {
            "fillpattern": {
             "fillmode": "overlay",
             "size": 10,
             "solidity": 0.2
            },
            "type": "scatter"
           }
          ],
          "scatter3d": [
           {
            "line": {
             "colorbar": {
              "outlinewidth": 0,
              "ticks": ""
             }
            },
            "marker": {
             "colorbar": {
              "outlinewidth": 0,
              "ticks": ""
             }
            },
            "type": "scatter3d"
           }
          ],
          "scattercarpet": [
           {
            "marker": {
             "colorbar": {
              "outlinewidth": 0,
              "ticks": ""
             }
            },
            "type": "scattercarpet"
           }
          ],
          "scattergeo": [
           {
            "marker": {
             "colorbar": {
              "outlinewidth": 0,
              "ticks": ""
             }
            },
            "type": "scattergeo"
           }
          ],
          "scattergl": [
           {
            "marker": {
             "colorbar": {
              "outlinewidth": 0,
              "ticks": ""
             }
            },
            "type": "scattergl"
           }
          ],
          "scattermapbox": [
           {
            "marker": {
             "colorbar": {
              "outlinewidth": 0,
              "ticks": ""
             }
            },
            "type": "scattermapbox"
           }
          ],
          "scatterpolar": [
           {
            "marker": {
             "colorbar": {
              "outlinewidth": 0,
              "ticks": ""
             }
            },
            "type": "scatterpolar"
           }
          ],
          "scatterpolargl": [
           {
            "marker": {
             "colorbar": {
              "outlinewidth": 0,
              "ticks": ""
             }
            },
            "type": "scatterpolargl"
           }
          ],
          "scatterternary": [
           {
            "marker": {
             "colorbar": {
              "outlinewidth": 0,
              "ticks": ""
             }
            },
            "type": "scatterternary"
           }
          ],
          "surface": [
           {
            "colorbar": {
             "outlinewidth": 0,
             "ticks": ""
            },
            "colorscale": [
             [
              0,
              "#0d0887"
             ],
             [
              0.1111111111111111,
              "#46039f"
             ],
             [
              0.2222222222222222,
              "#7201a8"
             ],
             [
              0.3333333333333333,
              "#9c179e"
             ],
             [
              0.4444444444444444,
              "#bd3786"
             ],
             [
              0.5555555555555556,
              "#d8576b"
             ],
             [
              0.6666666666666666,
              "#ed7953"
             ],
             [
              0.7777777777777778,
              "#fb9f3a"
             ],
             [
              0.8888888888888888,
              "#fdca26"
             ],
             [
              1,
              "#f0f921"
             ]
            ],
            "type": "surface"
           }
          ],
          "table": [
           {
            "cells": {
             "fill": {
              "color": "#EBF0F8"
             },
             "line": {
              "color": "white"
             }
            },
            "header": {
             "fill": {
              "color": "#C8D4E3"
             },
             "line": {
              "color": "white"
             }
            },
            "type": "table"
           }
          ]
         },
         "layout": {
          "annotationdefaults": {
           "arrowcolor": "#2a3f5f",
           "arrowhead": 0,
           "arrowwidth": 1
          },
          "autotypenumbers": "strict",
          "coloraxis": {
           "colorbar": {
            "outlinewidth": 0,
            "ticks": ""
           }
          },
          "colorscale": {
           "diverging": [
            [
             0,
             "#8e0152"
            ],
            [
             0.1,
             "#c51b7d"
            ],
            [
             0.2,
             "#de77ae"
            ],
            [
             0.3,
             "#f1b6da"
            ],
            [
             0.4,
             "#fde0ef"
            ],
            [
             0.5,
             "#f7f7f7"
            ],
            [
             0.6,
             "#e6f5d0"
            ],
            [
             0.7,
             "#b8e186"
            ],
            [
             0.8,
             "#7fbc41"
            ],
            [
             0.9,
             "#4d9221"
            ],
            [
             1,
             "#276419"
            ]
           ],
           "sequential": [
            [
             0,
             "#0d0887"
            ],
            [
             0.1111111111111111,
             "#46039f"
            ],
            [
             0.2222222222222222,
             "#7201a8"
            ],
            [
             0.3333333333333333,
             "#9c179e"
            ],
            [
             0.4444444444444444,
             "#bd3786"
            ],
            [
             0.5555555555555556,
             "#d8576b"
            ],
            [
             0.6666666666666666,
             "#ed7953"
            ],
            [
             0.7777777777777778,
             "#fb9f3a"
            ],
            [
             0.8888888888888888,
             "#fdca26"
            ],
            [
             1,
             "#f0f921"
            ]
           ],
           "sequentialminus": [
            [
             0,
             "#0d0887"
            ],
            [
             0.1111111111111111,
             "#46039f"
            ],
            [
             0.2222222222222222,
             "#7201a8"
            ],
            [
             0.3333333333333333,
             "#9c179e"
            ],
            [
             0.4444444444444444,
             "#bd3786"
            ],
            [
             0.5555555555555556,
             "#d8576b"
            ],
            [
             0.6666666666666666,
             "#ed7953"
            ],
            [
             0.7777777777777778,
             "#fb9f3a"
            ],
            [
             0.8888888888888888,
             "#fdca26"
            ],
            [
             1,
             "#f0f921"
            ]
           ]
          },
          "colorway": [
           "#636efa",
           "#EF553B",
           "#00cc96",
           "#ab63fa",
           "#FFA15A",
           "#19d3f3",
           "#FF6692",
           "#B6E880",
           "#FF97FF",
           "#FECB52"
          ],
          "font": {
           "color": "#2a3f5f"
          },
          "geo": {
           "bgcolor": "white",
           "lakecolor": "white",
           "landcolor": "#E5ECF6",
           "showlakes": true,
           "showland": true,
           "subunitcolor": "white"
          },
          "hoverlabel": {
           "align": "left"
          },
          "hovermode": "closest",
          "mapbox": {
           "style": "light"
          },
          "paper_bgcolor": "white",
          "plot_bgcolor": "#E5ECF6",
          "polar": {
           "angularaxis": {
            "gridcolor": "white",
            "linecolor": "white",
            "ticks": ""
           },
           "bgcolor": "#E5ECF6",
           "radialaxis": {
            "gridcolor": "white",
            "linecolor": "white",
            "ticks": ""
           }
          },
          "scene": {
           "xaxis": {
            "backgroundcolor": "#E5ECF6",
            "gridcolor": "white",
            "gridwidth": 2,
            "linecolor": "white",
            "showbackground": true,
            "ticks": "",
            "zerolinecolor": "white"
           },
           "yaxis": {
            "backgroundcolor": "#E5ECF6",
            "gridcolor": "white",
            "gridwidth": 2,
            "linecolor": "white",
            "showbackground": true,
            "ticks": "",
            "zerolinecolor": "white"
           },
           "zaxis": {
            "backgroundcolor": "#E5ECF6",
            "gridcolor": "white",
            "gridwidth": 2,
            "linecolor": "white",
            "showbackground": true,
            "ticks": "",
            "zerolinecolor": "white"
           }
          },
          "shapedefaults": {
           "line": {
            "color": "#2a3f5f"
           }
          },
          "ternary": {
           "aaxis": {
            "gridcolor": "white",
            "linecolor": "white",
            "ticks": ""
           },
           "baxis": {
            "gridcolor": "white",
            "linecolor": "white",
            "ticks": ""
           },
           "bgcolor": "#E5ECF6",
           "caxis": {
            "gridcolor": "white",
            "linecolor": "white",
            "ticks": ""
           }
          },
          "title": {
           "x": 0.05
          },
          "xaxis": {
           "automargin": true,
           "gridcolor": "white",
           "linecolor": "white",
           "ticks": "",
           "title": {
            "standoff": 15
           },
           "zerolinecolor": "white",
           "zerolinewidth": 2
          },
          "yaxis": {
           "automargin": true,
           "gridcolor": "white",
           "linecolor": "white",
           "ticks": "",
           "title": {
            "standoff": 15
           },
           "zerolinecolor": "white",
           "zerolinewidth": 2
          }
         }
        },
        "title": {
         "text": "Children distribution by approval status"
        },
        "xaxis": {
         "anchor": "y",
         "domain": [
          0,
          1
         ],
         "title": {
          "text": "x"
         }
        },
        "yaxis": {
         "anchor": "x",
         "domain": [
          0,
          1
         ],
         "title": {
          "text": "count"
         }
        }
       }
      },
      "text/html": [
       "<div>                            <div id=\"b2388109-d4d8-4a8f-9ae5-eeade4d7aa9c\" class=\"plotly-graph-div\" style=\"height:525px; width:100%;\"></div>            <script type=\"text/javascript\">                require([\"plotly\"], function(Plotly) {                    window.PLOTLYENV=window.PLOTLYENV || {};                                    if (document.getElementById(\"b2388109-d4d8-4a8f-9ae5-eeade4d7aa9c\")) {                    Plotly.newPlot(                        \"b2388109-d4d8-4a8f-9ae5-eeade4d7aa9c\",                        [{\"alignmentgroup\":\"True\",\"bingroup\":\"x\",\"hovertemplate\":\"color=0<br>x=%{x}<br>count=%{y}<extra></extra>\",\"legendgroup\":\"0\",\"marker\":{\"color\":\"#636efa\",\"pattern\":{\"shape\":\"\"}},\"name\":\"0\",\"offsetgroup\":\"0\",\"orientation\":\"v\",\"showlegend\":true,\"x\":[0,0,0,0,0,0,0,0,0,0,0,0,0,0,0,0,0,0,0,0,0,0,0,0,0,0,0,0,0,0,0,1,0,0,1,0,0,0,0,1,0,0,0,0,0,0,1,0,1,1,1,1,1,1,1,0,0,0,0,0,2,1,1,1,0,0,0,0,1,0,0,0,0,0,1,0,0,0,2,2,0,3,0,0,0,0,0,2,3,0,0,0,0,2,0,0,1,0,2,0,1,2,1,1,0,2,2,0,1,0,0,0,0,2,2,1,0,1,1,2,0,0,0,3,0,0,2,2,2,2,2,0,0,1,0,0,0,0,0,2,0,0,0,0,1,0,1,0,0,0,1,1,1,0,0,2,1,0,0,0,0,0,0,0,0,0,0,0,1,1,0,1,0,0,0,0,0,0,2,0,0,0,0,1,0,2,0,0,0,1,0,1,0,1,0,0,2,1,0,1,0,0,0,2,0,0,0,0,1,1,0,1,0,0,1,1,0,0,0,0,0,0,0,1,0,0,0,0,1,1,0,0,0,0,1,0,1,0,1,1,0,2,0,0,1,1,0,0,1,0,0,0,2,0,1,2,2,3,1,0,0,0,0,0,1,0,0,2,1,0,1,1,0,3,1,1,1,0,0,0,3,1,0,0,0,1,0,0,0,2,0,0,0,0,0,1,1,0,3,0,1,0,0,3,0,0,0,0,2,2,0,1,0,0,1,0,0,1,0,0,2,1,1,0,0,0,0,1,0,0,0,1,1,1,1,0,0,0,0,0,0,0,1,0,0,0,1,1,0,0,0,0,0,0,0,0,2,1,0,0,0,0,0,0,0,0,2,0,1,0,0,2,0,1,0,0,0,1,0,1,0,2,0,2,0,0,0,0,0,0,0,1,0,0,0,1,1,0,0,0,0,1,1,1,1,0,0,2,0,0,1,2,1,0,1,0,0,0,2,2,0,0,0,0,1,1,0,1,0,1,0,0,0,0,0,2,1,1,0,0,2,0,0,1,0,0,1,1,0,0,0,1,0,0,2,0,0,1,0,1,2,1,0,0,0,1,0,2,0,1,1,0,1,1,1,0,0,1,1,1,2,2,0,0,0,0,1,0,0,0,0,0,0,0,0,0,0,0,0,0,0,0,2,0,0,0,0,0,2,0,0,0,0,2,0,0,0,1,0,0,0,2,0,0,1,0,0,0,2,0,1,0,1,0,0,0,1,0,0,1,1,0,0,0,0,0,0,0,2,1,3,1,0,2,2,0,2,0,0,0,2,0,0,0,0,2,0,0,0,0,0,1,1,0,1,2,1,0,0,0,1,0,0,0,0,0,0,0,0,0,1,0,1,1,3,0,1,1,0,0,0,1,0,0,0,1,0,0,1,0,0,1,1,1,0,0,0,0,2,2,0,0,0,1,0,0,0,0,0,0,2,0,0,0,0,0,0,0,0,0,0,1,0,0,0,1,0,0,0,0,0,1,1,1,0,0,0,1,0,0,2,0,1,14,0,0,0,1,0,0,1,2,1,1,0,3,2,0,1,0,0,0,0,0,0,2,0,0,0,2,1,2,0,1,1,0,1,0,0,0,0,0,0,1,0,1,2,0,1,0,1,0,0,0,0,2,0,0,0,0,0,0,3,2,0,0,0,0,0,0,2,0,0,0,0,1,0,0,0,2,0,0,1,1,0,0,1,0,0,0,1,1,1,0,2,0,1,0,0,1,0,0,0,0,2,1,1,0,0,1,1,0,0,1,0,2,1,0,0,0,0,0,0,1,1,2,2,2,0,0,0,1,0,0,0,0,0,0,0,0,0,1,1,0,1,0,2,2,0,0,0,0,0,0,2,0,0,1,1,1,0,0,0,0,2,1,1,0,0,2,0,0,2,0,0,0,1,2,0,0,0,0,1,1,0,0,0,2,0,0,0,0,0,0,1,0,0,1,0,0,0,0,0,0,1,0,0,2,2,2,0,1,1,1,0,0,0,1,0,0,0,0,0,0,0,1,2,1,0,0,0,0,0,0,0,0,1,0,0,0,0,0,0,1,0,0,1,1,0,1,0,0,0,0,0,0,1,0,0,0,0,0,1,0,0,2,0,1,0,0,1,0,2,1,1,0,1,1,2,2,1,2,2,0,0,1,0,0,0,0,0,1,1,0,0,0,0,0,0,0,1,0,0,1,0,0,0,2,1,0,0,0,0,0,2,0,0,0,1,2,0,0,0,0,0,0,0,0,0,0,2,1,2,0,1,1,1,0,0,0,0,0,0,0,0,0,1,2,0,0,0,0,2,0,0,0,0,1,0,3,0,2,2,0,1,0,3,0,0,0,1,0,2,0,1,0,0,0,2,1,0,0,3,0,0,0,1,2,1,0,0,0,0,1,0,0,0,0,0,0,0,0,0,2,0,1,0,0,0,0,0,0,0,0,2,0,2,2,0,1,1,0,1,0,0,0,0,0,0,0,1,0,0,2,0,1,0,1,0,0,0,1,1,0,0,0,0,1,0,1,2,0,0,0,0,0,1,0,1,1,1,1,1,0,0,1,0,0,2,1,1,1,0,1,1,1,0,2,2,0,0,2,0,2,1,0,2,0,0,0,0,0,0,0,0,0,0,0,0,0,0,0,0,0,0,0,0,0,0,0,0,0,0,0,0,0,0,0,0,0,0,0,0,0,0,0,0,0,0,0,0,0,0,0,0,0,0,0,0,0,0,0,0,0,0,0,0,0,0,0,0,0,0,0,0,0,0,0,0,0,0,0,0,0,0,0,0,0,0,0,0,0,0,0,0,0,0,0,0,0,0,0,0,0,0,0,0,0,0,0,0,0,0,0,0,0,0,0,0,0,0,0,0,0,0,0,0,0,0,0,0,0,0,0,0,0,0,0,0,0,0,0,0,0,0,0,0,0,0,0,0,0,0,0,0,0,0,0,0,0,0,0,0,0,0,0,0,0,0,0,0,0,0,0,0,0,0,0,0,0,0,0,0,1,0,0,0,0,0,0,0,0,0,0,0,0,0,0,0,0,0,0,0,0,0,0,0,0,0,0,1,0,0,0,1,1,0,1,0,0,0,0,0,0,0,0,1,0,3,0,0,0,0],\"xaxis\":\"x\",\"yaxis\":\"y\",\"type\":\"histogram\"},{\"alignmentgroup\":\"True\",\"bingroup\":\"x\",\"hovertemplate\":\"color=1<br>x=%{x}<br>count=%{y}<extra></extra>\",\"legendgroup\":\"1\",\"marker\":{\"color\":\"#EF553B\",\"pattern\":{\"shape\":\"\"}},\"name\":\"1\",\"offsetgroup\":\"1\",\"orientation\":\"v\",\"showlegend\":true,\"x\":[2,2,0,0,4,2,0,0,0,1,2,0,0,2,2,2,1,0,1,0,2,2,0,0,0,0,0,0,0,0,0,1,0,0,0,0,0,1,0,1,1,0,0,1,0,0,0,2,1,1,0,0,0,0,0,1,0,0,1,0,1,1,0,0,0,0,0,0,0,0,1,1,1,0,0,0,0,0,0,0,0,1,1,2,0,1,1,1,1,1,0,0,1,0,0,0,0,1,1,1,0,0,0,0,0,0,0,0,0,0,0,0,0,0,0,0,0,2,0,0,0,1,1,1,0,0,0,1,0,0,0,0,0,0,0,0,1,1,1,1,0,0,0,0,0,0,0,0,0,0,0,0,0,0,0,0,0,0,0,0,0,0,0,0,0,0,0,0,0,0,0,0,0,0,0],\"xaxis\":\"x\",\"yaxis\":\"y\",\"type\":\"histogram\"}],                        {\"template\":{\"data\":{\"histogram2dcontour\":[{\"type\":\"histogram2dcontour\",\"colorbar\":{\"outlinewidth\":0,\"ticks\":\"\"},\"colorscale\":[[0.0,\"#0d0887\"],[0.1111111111111111,\"#46039f\"],[0.2222222222222222,\"#7201a8\"],[0.3333333333333333,\"#9c179e\"],[0.4444444444444444,\"#bd3786\"],[0.5555555555555556,\"#d8576b\"],[0.6666666666666666,\"#ed7953\"],[0.7777777777777778,\"#fb9f3a\"],[0.8888888888888888,\"#fdca26\"],[1.0,\"#f0f921\"]]}],\"choropleth\":[{\"type\":\"choropleth\",\"colorbar\":{\"outlinewidth\":0,\"ticks\":\"\"}}],\"histogram2d\":[{\"type\":\"histogram2d\",\"colorbar\":{\"outlinewidth\":0,\"ticks\":\"\"},\"colorscale\":[[0.0,\"#0d0887\"],[0.1111111111111111,\"#46039f\"],[0.2222222222222222,\"#7201a8\"],[0.3333333333333333,\"#9c179e\"],[0.4444444444444444,\"#bd3786\"],[0.5555555555555556,\"#d8576b\"],[0.6666666666666666,\"#ed7953\"],[0.7777777777777778,\"#fb9f3a\"],[0.8888888888888888,\"#fdca26\"],[1.0,\"#f0f921\"]]}],\"heatmap\":[{\"type\":\"heatmap\",\"colorbar\":{\"outlinewidth\":0,\"ticks\":\"\"},\"colorscale\":[[0.0,\"#0d0887\"],[0.1111111111111111,\"#46039f\"],[0.2222222222222222,\"#7201a8\"],[0.3333333333333333,\"#9c179e\"],[0.4444444444444444,\"#bd3786\"],[0.5555555555555556,\"#d8576b\"],[0.6666666666666666,\"#ed7953\"],[0.7777777777777778,\"#fb9f3a\"],[0.8888888888888888,\"#fdca26\"],[1.0,\"#f0f921\"]]}],\"heatmapgl\":[{\"type\":\"heatmapgl\",\"colorbar\":{\"outlinewidth\":0,\"ticks\":\"\"},\"colorscale\":[[0.0,\"#0d0887\"],[0.1111111111111111,\"#46039f\"],[0.2222222222222222,\"#7201a8\"],[0.3333333333333333,\"#9c179e\"],[0.4444444444444444,\"#bd3786\"],[0.5555555555555556,\"#d8576b\"],[0.6666666666666666,\"#ed7953\"],[0.7777777777777778,\"#fb9f3a\"],[0.8888888888888888,\"#fdca26\"],[1.0,\"#f0f921\"]]}],\"contourcarpet\":[{\"type\":\"contourcarpet\",\"colorbar\":{\"outlinewidth\":0,\"ticks\":\"\"}}],\"contour\":[{\"type\":\"contour\",\"colorbar\":{\"outlinewidth\":0,\"ticks\":\"\"},\"colorscale\":[[0.0,\"#0d0887\"],[0.1111111111111111,\"#46039f\"],[0.2222222222222222,\"#7201a8\"],[0.3333333333333333,\"#9c179e\"],[0.4444444444444444,\"#bd3786\"],[0.5555555555555556,\"#d8576b\"],[0.6666666666666666,\"#ed7953\"],[0.7777777777777778,\"#fb9f3a\"],[0.8888888888888888,\"#fdca26\"],[1.0,\"#f0f921\"]]}],\"surface\":[{\"type\":\"surface\",\"colorbar\":{\"outlinewidth\":0,\"ticks\":\"\"},\"colorscale\":[[0.0,\"#0d0887\"],[0.1111111111111111,\"#46039f\"],[0.2222222222222222,\"#7201a8\"],[0.3333333333333333,\"#9c179e\"],[0.4444444444444444,\"#bd3786\"],[0.5555555555555556,\"#d8576b\"],[0.6666666666666666,\"#ed7953\"],[0.7777777777777778,\"#fb9f3a\"],[0.8888888888888888,\"#fdca26\"],[1.0,\"#f0f921\"]]}],\"mesh3d\":[{\"type\":\"mesh3d\",\"colorbar\":{\"outlinewidth\":0,\"ticks\":\"\"}}],\"scatter\":[{\"fillpattern\":{\"fillmode\":\"overlay\",\"size\":10,\"solidity\":0.2},\"type\":\"scatter\"}],\"parcoords\":[{\"type\":\"parcoords\",\"line\":{\"colorbar\":{\"outlinewidth\":0,\"ticks\":\"\"}}}],\"scatterpolargl\":[{\"type\":\"scatterpolargl\",\"marker\":{\"colorbar\":{\"outlinewidth\":0,\"ticks\":\"\"}}}],\"bar\":[{\"error_x\":{\"color\":\"#2a3f5f\"},\"error_y\":{\"color\":\"#2a3f5f\"},\"marker\":{\"line\":{\"color\":\"#E5ECF6\",\"width\":0.5},\"pattern\":{\"fillmode\":\"overlay\",\"size\":10,\"solidity\":0.2}},\"type\":\"bar\"}],\"scattergeo\":[{\"type\":\"scattergeo\",\"marker\":{\"colorbar\":{\"outlinewidth\":0,\"ticks\":\"\"}}}],\"scatterpolar\":[{\"type\":\"scatterpolar\",\"marker\":{\"colorbar\":{\"outlinewidth\":0,\"ticks\":\"\"}}}],\"histogram\":[{\"marker\":{\"pattern\":{\"fillmode\":\"overlay\",\"size\":10,\"solidity\":0.2}},\"type\":\"histogram\"}],\"scattergl\":[{\"type\":\"scattergl\",\"marker\":{\"colorbar\":{\"outlinewidth\":0,\"ticks\":\"\"}}}],\"scatter3d\":[{\"type\":\"scatter3d\",\"line\":{\"colorbar\":{\"outlinewidth\":0,\"ticks\":\"\"}},\"marker\":{\"colorbar\":{\"outlinewidth\":0,\"ticks\":\"\"}}}],\"scattermapbox\":[{\"type\":\"scattermapbox\",\"marker\":{\"colorbar\":{\"outlinewidth\":0,\"ticks\":\"\"}}}],\"scatterternary\":[{\"type\":\"scatterternary\",\"marker\":{\"colorbar\":{\"outlinewidth\":0,\"ticks\":\"\"}}}],\"scattercarpet\":[{\"type\":\"scattercarpet\",\"marker\":{\"colorbar\":{\"outlinewidth\":0,\"ticks\":\"\"}}}],\"carpet\":[{\"aaxis\":{\"endlinecolor\":\"#2a3f5f\",\"gridcolor\":\"white\",\"linecolor\":\"white\",\"minorgridcolor\":\"white\",\"startlinecolor\":\"#2a3f5f\"},\"baxis\":{\"endlinecolor\":\"#2a3f5f\",\"gridcolor\":\"white\",\"linecolor\":\"white\",\"minorgridcolor\":\"white\",\"startlinecolor\":\"#2a3f5f\"},\"type\":\"carpet\"}],\"table\":[{\"cells\":{\"fill\":{\"color\":\"#EBF0F8\"},\"line\":{\"color\":\"white\"}},\"header\":{\"fill\":{\"color\":\"#C8D4E3\"},\"line\":{\"color\":\"white\"}},\"type\":\"table\"}],\"barpolar\":[{\"marker\":{\"line\":{\"color\":\"#E5ECF6\",\"width\":0.5},\"pattern\":{\"fillmode\":\"overlay\",\"size\":10,\"solidity\":0.2}},\"type\":\"barpolar\"}],\"pie\":[{\"automargin\":true,\"type\":\"pie\"}]},\"layout\":{\"autotypenumbers\":\"strict\",\"colorway\":[\"#636efa\",\"#EF553B\",\"#00cc96\",\"#ab63fa\",\"#FFA15A\",\"#19d3f3\",\"#FF6692\",\"#B6E880\",\"#FF97FF\",\"#FECB52\"],\"font\":{\"color\":\"#2a3f5f\"},\"hovermode\":\"closest\",\"hoverlabel\":{\"align\":\"left\"},\"paper_bgcolor\":\"white\",\"plot_bgcolor\":\"#E5ECF6\",\"polar\":{\"bgcolor\":\"#E5ECF6\",\"angularaxis\":{\"gridcolor\":\"white\",\"linecolor\":\"white\",\"ticks\":\"\"},\"radialaxis\":{\"gridcolor\":\"white\",\"linecolor\":\"white\",\"ticks\":\"\"}},\"ternary\":{\"bgcolor\":\"#E5ECF6\",\"aaxis\":{\"gridcolor\":\"white\",\"linecolor\":\"white\",\"ticks\":\"\"},\"baxis\":{\"gridcolor\":\"white\",\"linecolor\":\"white\",\"ticks\":\"\"},\"caxis\":{\"gridcolor\":\"white\",\"linecolor\":\"white\",\"ticks\":\"\"}},\"coloraxis\":{\"colorbar\":{\"outlinewidth\":0,\"ticks\":\"\"}},\"colorscale\":{\"sequential\":[[0.0,\"#0d0887\"],[0.1111111111111111,\"#46039f\"],[0.2222222222222222,\"#7201a8\"],[0.3333333333333333,\"#9c179e\"],[0.4444444444444444,\"#bd3786\"],[0.5555555555555556,\"#d8576b\"],[0.6666666666666666,\"#ed7953\"],[0.7777777777777778,\"#fb9f3a\"],[0.8888888888888888,\"#fdca26\"],[1.0,\"#f0f921\"]],\"sequentialminus\":[[0.0,\"#0d0887\"],[0.1111111111111111,\"#46039f\"],[0.2222222222222222,\"#7201a8\"],[0.3333333333333333,\"#9c179e\"],[0.4444444444444444,\"#bd3786\"],[0.5555555555555556,\"#d8576b\"],[0.6666666666666666,\"#ed7953\"],[0.7777777777777778,\"#fb9f3a\"],[0.8888888888888888,\"#fdca26\"],[1.0,\"#f0f921\"]],\"diverging\":[[0,\"#8e0152\"],[0.1,\"#c51b7d\"],[0.2,\"#de77ae\"],[0.3,\"#f1b6da\"],[0.4,\"#fde0ef\"],[0.5,\"#f7f7f7\"],[0.6,\"#e6f5d0\"],[0.7,\"#b8e186\"],[0.8,\"#7fbc41\"],[0.9,\"#4d9221\"],[1,\"#276419\"]]},\"xaxis\":{\"gridcolor\":\"white\",\"linecolor\":\"white\",\"ticks\":\"\",\"title\":{\"standoff\":15},\"zerolinecolor\":\"white\",\"automargin\":true,\"zerolinewidth\":2},\"yaxis\":{\"gridcolor\":\"white\",\"linecolor\":\"white\",\"ticks\":\"\",\"title\":{\"standoff\":15},\"zerolinecolor\":\"white\",\"automargin\":true,\"zerolinewidth\":2},\"scene\":{\"xaxis\":{\"backgroundcolor\":\"#E5ECF6\",\"gridcolor\":\"white\",\"linecolor\":\"white\",\"showbackground\":true,\"ticks\":\"\",\"zerolinecolor\":\"white\",\"gridwidth\":2},\"yaxis\":{\"backgroundcolor\":\"#E5ECF6\",\"gridcolor\":\"white\",\"linecolor\":\"white\",\"showbackground\":true,\"ticks\":\"\",\"zerolinecolor\":\"white\",\"gridwidth\":2},\"zaxis\":{\"backgroundcolor\":\"#E5ECF6\",\"gridcolor\":\"white\",\"linecolor\":\"white\",\"showbackground\":true,\"ticks\":\"\",\"zerolinecolor\":\"white\",\"gridwidth\":2}},\"shapedefaults\":{\"line\":{\"color\":\"#2a3f5f\"}},\"annotationdefaults\":{\"arrowcolor\":\"#2a3f5f\",\"arrowhead\":0,\"arrowwidth\":1},\"geo\":{\"bgcolor\":\"white\",\"landcolor\":\"#E5ECF6\",\"subunitcolor\":\"white\",\"showland\":true,\"showlakes\":true,\"lakecolor\":\"white\"},\"title\":{\"x\":0.05},\"mapbox\":{\"style\":\"light\"}}},\"xaxis\":{\"anchor\":\"y\",\"domain\":[0.0,1.0],\"title\":{\"text\":\"x\"}},\"yaxis\":{\"anchor\":\"x\",\"domain\":[0.0,1.0],\"title\":{\"text\":\"count\"}},\"legend\":{\"title\":{\"text\":\"color\"},\"tracegroupgap\":0},\"title\":{\"text\":\"Children distribution by approval status\"},\"barmode\":\"relative\"},                        {\"responsive\": true}                    ).then(function(){\n",
       "                            \n",
       "var gd = document.getElementById('b2388109-d4d8-4a8f-9ae5-eeade4d7aa9c');\n",
       "var x = new MutationObserver(function (mutations, observer) {{\n",
       "        var display = window.getComputedStyle(gd).display;\n",
       "        if (!display || display === 'none') {{\n",
       "            console.log([gd, 'removed!']);\n",
       "            Plotly.purge(gd);\n",
       "            observer.disconnect();\n",
       "        }}\n",
       "}});\n",
       "\n",
       "// Listen for the removal of the full notebook cells\n",
       "var notebookContainer = gd.closest('#notebook-container');\n",
       "if (notebookContainer) {{\n",
       "    x.observe(notebookContainer, {childList: true});\n",
       "}}\n",
       "\n",
       "// Listen for the clearing of the current output cell\n",
       "var outputEl = gd.closest('.output');\n",
       "if (outputEl) {{\n",
       "    x.observe(outputEl, {childList: true});\n",
       "}}\n",
       "\n",
       "                        })                };                });            </script>        </div>"
      ]
     },
     "metadata": {},
     "output_type": "display_data"
    },
    {
     "data": {
      "text/plain": [
       "<Figure size 800x600 with 0 Axes>"
      ]
     },
     "metadata": {},
     "output_type": "display_data"
    }
   ],
   "source": [
    "plt.figure(figsize = (8,6))\n",
    "fig = px.histogram(  x = df['CHILDREN'] ,title = \"Children distribution by approval status\", color = df['Approved_status'] )\n",
    "fig.show()"
   ]
  },
  {
   "cell_type": "code",
   "execution_count": 819,
   "id": "51f50bd8",
   "metadata": {},
   "outputs": [
    {
     "data": {
      "application/vnd.plotly.v1+json": {
       "config": {
        "plotlyServerURL": "https://plot.ly"
       },
       "data": [
        {
         "alignmentgroup": "True",
         "bingroup": "x",
         "hovertemplate": "color=0<br>x=%{x}<br>count=%{y}<extra></extra>",
         "legendgroup": "0",
         "marker": {
          "color": "#636efa",
          "pattern": {
           "shape": ""
          }
         },
         "name": "0",
         "offsetgroup": "0",
         "orientation": "v",
         "showlegend": true,
         "type": "histogram",
         "x": [
          157500,
          247500,
          166500,
          112500,
          103500,
          292500,
          270000,
          270000,
          202500,
          202500,
          225000,
          180000,
          67500,
          193500,
          193500,
          157500,
          135000,
          292500,
          292500,
          112500,
          157500,
          94500,
          202500,
          216000,
          157500,
          135000,
          193500,
          135000,
          135000,
          135000,
          112500,
          135000,
          292500,
          193500,
          202500,
          85500,
          85500,
          292500,
          292500,
          351000,
          171000,
          135000,
          135000,
          202500,
          202500,
          270000,
          135000,
          135000,
          90000,
          90000,
          90000,
          234000,
          166500,
          166500,
          135000,
          135000,
          135000,
          180000,
          157500,
          153000,
          193500,
          112500,
          112500,
          135000,
          337500,
          337500,
          247500,
          112500,
          135000,
          108000,
          117000,
          144000,
          202500,
          391500,
          225000,
          180000,
          135000,
          238500,
          73350,
          73350,
          202500,
          180000,
          67500,
          274500,
          157500,
          157500,
          121500,
          157500,
          180000,
          157500,
          337500,
          135000,
          135000,
          112500,
          95850,
          315000,
          180000,
          103500,
          103500,
          135000,
          247500,
          135000,
          171000,
          81000,
          202500,
          157500,
          157500,
          94500,
          225000,
          112500,
          83250,
          202500,
          189000,
          315000,
          135000,
          180000,
          112500,
          180000,
          180000,
          58500,
          270000,
          270000,
          112500,
          180000,
          202500,
          126000,
          171000,
          247500,
          360000,
          360000,
          360000,
          180000,
          306000,
          450000,
          450000,
          99000,
          135000,
          315000,
          112500,
          72000,
          202500,
          130500,
          130500,
          90000,
          112500,
          99000,
          157500,
          99000,
          202500,
          90000,
          270000,
          270000,
          225000,
          495000,
          90000,
          157500,
          157500,
          45000,
          202500,
          112500,
          234000,
          270000,
          126000,
          126000,
          121500,
          135000,
          135000,
          202500,
          148500,
          112500,
          360000,
          112500,
          270000,
          225000,
          225000,
          202500,
          315000,
          202500,
          144000,
          387000,
          180000,
          157500,
          40500,
          405000,
          225000,
          216000,
          405000,
          292500,
          130500,
          315000,
          135000,
          337500,
          211500,
          450000,
          180000,
          144000,
          135000,
          108000,
          180000,
          270000,
          103500,
          157500,
          157500,
          54000,
          180000,
          157500,
          157500,
          117000,
          405000,
          900000,
          157500,
          180000,
          450000,
          202500,
          135000,
          119250,
          99000,
          225000,
          180000,
          180000,
          135000,
          157500,
          202500,
          112500,
          135000,
          202500,
          202500,
          157500,
          126000,
          108000,
          360000,
          360000,
          315000,
          225000,
          292500,
          166500,
          360000,
          112500,
          193500,
          193500,
          315000,
          180000,
          405000,
          135000,
          225000,
          180000,
          67500,
          360000,
          315000,
          180000,
          360000,
          171000,
          225000,
          180000,
          157500,
          315000,
          202500,
          112500,
          202500,
          202500,
          225000,
          315000,
          225000,
          144000,
          180000,
          612000,
          612000,
          270000,
          157500,
          112500,
          90000,
          90000,
          225000,
          112500,
          225000,
          270000,
          270000,
          112500,
          292500,
          225000,
          202500,
          189000,
          202500,
          157500,
          null,
          315000,
          216000,
          157500,
          180000,
          270000,
          135000,
          157500,
          157500,
          247500,
          450000,
          112500,
          360000,
          360000,
          180000,
          225000,
          292500,
          207000,
          135000,
          171000,
          315000,
          112500,
          247500,
          180000,
          130500,
          130500,
          94500,
          810000,
          112500,
          180000,
          202500,
          306000,
          306000,
          180000,
          243000,
          270000,
          225000,
          225000,
          157500,
          135000,
          225000,
          450000,
          135000,
          225000,
          247500,
          90000,
          135000,
          119700,
          337500,
          292500,
          292500,
          90000,
          337500,
          315000,
          157500,
          225000,
          90000,
          null,
          112500,
          315000,
          81000,
          180000,
          270000,
          225000,
          157500,
          157500,
          121500,
          315000,
          185400,
          135000,
          108000,
          180000,
          135000,
          202500,
          360000,
          180000,
          157500,
          270000,
          423000,
          90000,
          180000,
          166500,
          216000,
          225000,
          157500,
          202500,
          135000,
          225000,
          null,
          117000,
          202500,
          202500,
          216000,
          135000,
          135000,
          135000,
          180000,
          67500,
          157500,
          270000,
          157500,
          157500,
          180000,
          180000,
          180000,
          225000,
          157500,
          63000,
          180000,
          247500,
          306000,
          135000,
          180000,
          225000,
          202500,
          198000,
          225000,
          360000,
          144000,
          135000,
          360000,
          126000,
          202500,
          180000,
          126000,
          90000,
          135000,
          180000,
          148500,
          225000,
          234000,
          67500,
          162000,
          67500,
          198000,
          144000,
          315000,
          315000,
          315000,
          247500,
          337500,
          157500,
          135000,
          157500,
          180000,
          135000,
          292500,
          292500,
          135000,
          180000,
          252000,
          180000,
          292500,
          112500,
          328500,
          202500,
          292500,
          112500,
          225000,
          450000,
          405000,
          180000,
          135000,
          135000,
          247500,
          247500,
          135000,
          180000,
          225000,
          null,
          216000,
          261000,
          270000,
          360000,
          247500,
          427500,
          360000,
          900000,
          225000,
          112500,
          112500,
          112500,
          157500,
          225000,
          112500,
          315000,
          270000,
          207000,
          180000,
          202500,
          225000,
          225000,
          225000,
          135000,
          1575000,
          1575000,
          180000,
          180000,
          180000,
          445500,
          445500,
          157500,
          202500,
          112500,
          180000,
          81000,
          225000,
          360000,
          116100,
          225000,
          315000,
          180000,
          180000,
          157500,
          180000,
          180000,
          225000,
          270000,
          112500,
          292500,
          173250,
          247500,
          247500,
          144000,
          157500,
          270000,
          135000,
          225000,
          112500,
          81000,
          112500,
          117000,
          117000,
          157500,
          135000,
          135000,
          135000,
          112500,
          112500,
          112500,
          135000,
          99000,
          99000,
          360000,
          202500,
          148500,
          157500,
          90000,
          225000,
          157500,
          157500,
          270000,
          157500,
          270000,
          157500,
          112500,
          225000,
          126000,
          126000,
          157500,
          292500,
          135000,
          180000,
          193500,
          360000,
          112500,
          247500,
          112500,
          202500,
          270000,
          270000,
          180000,
          450000,
          null,
          202500,
          67500,
          337500,
          202500,
          225000,
          225000,
          126000,
          76500,
          247500,
          157500,
          103500,
          112500,
          135000,
          157500,
          126000,
          112500,
          202500,
          157500,
          202500,
          135000,
          72000,
          202500,
          315000,
          225000,
          243000,
          243000,
          157500,
          270000,
          144000,
          144000,
          315000,
          126000,
          135000,
          202500,
          180000,
          180000,
          202500,
          315000,
          90000,
          133650,
          112500,
          202500,
          202500,
          40500,
          135000,
          202500,
          67500,
          null,
          81000,
          81000,
          135000,
          360000,
          360000,
          360000,
          135000,
          225000,
          180000,
          135000,
          135000,
          180000,
          270000,
          157500,
          67500,
          67500,
          247500,
          247500,
          135000,
          135000,
          112500,
          193500,
          135000,
          135000,
          112500,
          405000,
          360000,
          360000,
          157500,
          180000,
          225000,
          135000,
          112500,
          112500,
          112500,
          216000,
          157500,
          225000,
          90000,
          135000,
          225000,
          112500,
          112500,
          247500,
          247500,
          450000,
          234000,
          234000,
          270000,
          180000,
          270000,
          157500,
          270000,
          270000,
          184500,
          180000,
          180000,
          225000,
          225000,
          121500,
          90000,
          292500,
          315000,
          180000,
          405000,
          337500,
          67500,
          225000,
          256500,
          360000,
          135000,
          211500,
          180000,
          337500,
          135000,
          306000,
          306000,
          306000,
          180000,
          225000,
          585000,
          216000,
          157500,
          135000,
          261000,
          157500,
          94500,
          135000,
          112500,
          202500,
          333000,
          157500,
          112500,
          112500,
          121500,
          157500,
          202500,
          225000,
          135000,
          135000,
          126000,
          67500,
          180000,
          202500,
          157500,
          135000,
          103500,
          270000,
          225000,
          112500,
          270000,
          270000,
          157500,
          292500,
          90000,
          270000,
          135000,
          225000,
          180000,
          157500,
          90000,
          null,
          292500,
          225000,
          135000,
          157500,
          261000,
          180000,
          180000,
          135000,
          202500,
          202500,
          202500,
          null,
          202500,
          null,
          135000,
          135000,
          180000,
          72000,
          180000,
          180000,
          202500,
          135000,
          90000,
          157500,
          315000,
          315000,
          157500,
          225000,
          180000,
          787500,
          225000,
          270000,
          180000,
          135000,
          135000,
          180000,
          157500,
          81000,
          105750,
          135000,
          112500,
          180000,
          225000,
          270000,
          157500,
          126000,
          306000,
          180000,
          112500,
          247500,
          144000,
          225000,
          225000,
          202500,
          180000,
          405000,
          360000,
          315000,
          153000,
          112500,
          225000,
          247500,
          135000,
          112500,
          450000,
          117000,
          337500,
          157500,
          247500,
          247500,
          252000,
          135000,
          112500,
          247500,
          247500,
          247500,
          112500,
          157500,
          315000,
          315000,
          225000,
          225000,
          112500,
          180000,
          112500,
          157500,
          166500,
          180000,
          148500,
          103500,
          103500,
          495000,
          225000,
          135000,
          337500,
          225000,
          112500,
          135000,
          67500,
          112500,
          297000,
          171000,
          315000,
          157500,
          157500,
          135000,
          135000,
          315000,
          112500,
          225000,
          202500,
          null,
          157500,
          180000,
          36000,
          157500,
          225000,
          211500,
          90000,
          112500,
          180000,
          351000,
          202500,
          315000,
          null,
          261000,
          144000,
          90000,
          225000,
          292500,
          135000,
          112500,
          157500,
          112500,
          117000,
          337500,
          90000,
          180000,
          270000,
          900000,
          900000,
          225000,
          180000,
          90000,
          225000,
          225000,
          225000,
          225000,
          315000,
          90000,
          null,
          148500,
          135000,
          157500,
          94500,
          90000,
          225000,
          67500,
          112500,
          180000,
          108000,
          450000,
          270000,
          270000,
          135000,
          135000,
          202500,
          292500,
          85500,
          135000,
          270000,
          99000,
          180000,
          180000,
          90000,
          135000,
          247500,
          135000,
          225000,
          189000,
          301500,
          270000,
          450000,
          180000,
          112500,
          157500,
          90000,
          135000,
          202500,
          112500,
          112500,
          112500,
          112500,
          112500,
          225000,
          45000,
          112500,
          54000,
          90000,
          76500,
          135000,
          135000,
          252000,
          247500,
          202500,
          202500,
          76500,
          202500,
          202500,
          387000,
          202500,
          202500,
          108000,
          115200,
          90000,
          157500,
          270000,
          450000,
          90000,
          112500,
          90000,
          90000,
          180000,
          135000,
          450000,
          261000,
          225000,
          135000,
          135000,
          225000,
          175500,
          135000,
          103500,
          112500,
          283500,
          135000,
          270000,
          135000,
          135000,
          157500,
          157500,
          135000,
          270000,
          270000,
          72000,
          72000,
          121500,
          135000,
          157500,
          135000,
          135000,
          67500,
          225000,
          450000,
          450000,
          337500,
          157500,
          162000,
          247500,
          315000,
          135000,
          180000,
          270000,
          135000,
          135000,
          112500,
          382500,
          315000,
          112500,
          112500,
          180000,
          117000,
          180000,
          180000,
          90000,
          99000,
          112500,
          135000,
          112500,
          180000,
          112500,
          112500,
          112500,
          225000,
          450000,
          225000,
          360000,
          112500,
          112500,
          360000,
          135000,
          207000,
          225000,
          135000,
          202500,
          112500,
          225000,
          126000,
          270000,
          157500,
          157500,
          166500,
          202500,
          157500,
          99000,
          157500,
          108000,
          90000,
          180000,
          103500,
          540000,
          112500,
          135000,
          247500,
          67500,
          270000,
          270000,
          null,
          405000,
          112500,
          135000,
          135000,
          81000,
          270000,
          99000,
          157500,
          270000,
          117000,
          180000,
          112500,
          202500,
          157500,
          180000,
          202500,
          135000,
          90000,
          360000,
          202500,
          315000,
          315000,
          225000,
          112500,
          180000,
          81000,
          247500,
          216000,
          225000,
          270000,
          135000,
          225000,
          202500,
          135000,
          495000,
          90000,
          112500,
          202500,
          72000,
          72000,
          112500,
          90000,
          225000,
          90000,
          180000,
          202500,
          69372,
          112500,
          180000,
          270000,
          157500,
          112500,
          94500,
          225000,
          112500,
          247500,
          67500,
          225000,
          67500,
          112500,
          270000,
          180000,
          67500,
          225000,
          315000,
          225000,
          81000,
          270000,
          139500,
          112500,
          126000,
          225000,
          135000,
          null,
          270000,
          126000,
          198000,
          90000,
          202500,
          231750,
          180000,
          180000,
          112500,
          225000,
          180000,
          135000,
          225000,
          315000,
          148500,
          202500,
          202500,
          121500,
          121500,
          76500,
          76500,
          90000,
          135000,
          180000,
          162000,
          418500,
          157500,
          58500,
          198000,
          135000,
          247500,
          135000,
          54000,
          126000,
          103500,
          157500,
          112500,
          207000,
          67050,
          94500,
          193500,
          121500,
          112500,
          121500,
          157500,
          270000,
          225000,
          103500,
          157500,
          112500,
          90000,
          99000,
          157500,
          157500,
          49500,
          103500,
          67500,
          153000,
          153000,
          131400,
          135000,
          157500,
          157500,
          180000,
          67500,
          270000,
          157500,
          157500,
          90000,
          450000,
          180000,
          180000,
          180000,
          144000,
          121500,
          202500,
          135000,
          247500,
          247500,
          162000,
          112500,
          90000,
          90000,
          76500,
          null,
          90000,
          135000,
          135000,
          180000,
          112500,
          112500,
          112500,
          360000,
          67500,
          112500,
          157500,
          225000,
          44550,
          135000,
          135000,
          216000,
          157500,
          315000,
          162000,
          148500,
          135000,
          112500,
          112500,
          189000,
          112500,
          292500,
          121500,
          135000,
          135000,
          157500,
          225000,
          112500,
          112500,
          157500,
          67500,
          270000,
          90900,
          67500,
          90000,
          85500,
          67500,
          247500,
          450000,
          175500,
          45000,
          112500,
          112500,
          90000,
          112500,
          135000,
          198000,
          198000,
          198000,
          69750,
          630000,
          90000,
          225000,
          225000,
          126000,
          202500,
          189000,
          72000,
          153000,
          157500,
          202500,
          112500,
          225000,
          103500,
          112500,
          112500,
          135000,
          180000,
          99000,
          99000,
          90000,
          67500,
          148500,
          157500,
          81000,
          90000,
          90000,
          90000,
          47250,
          144000,
          112500,
          165600,
          180000,
          56250,
          112500,
          121500,
          114750,
          112500,
          202500,
          90000,
          135000,
          112500,
          157500,
          112500,
          99000,
          315000,
          315000,
          139500,
          225000,
          225000,
          171000,
          58500,
          270000,
          360000,
          189000,
          81000,
          112500,
          270000,
          135000,
          148500,
          45000,
          45000,
          126000,
          202500,
          157500,
          76500,
          180000,
          112500,
          67500,
          157500,
          157500,
          225000,
          180000,
          135000,
          216000,
          76500,
          141750,
          126000,
          45900,
          83250,
          202500,
          135000,
          180000,
          54000,
          90000,
          135000,
          189000,
          171000,
          112500,
          135000,
          126000,
          135000,
          112500,
          33750,
          167400,
          180000,
          180000,
          292500,
          99000,
          90000,
          225000,
          225000,
          594000,
          450000,
          135000,
          126000,
          121900.5,
          270000,
          360000,
          37800,
          94500,
          135000,
          202500,
          76500
         ],
         "xaxis": "x",
         "yaxis": "y"
        },
        {
         "alignmentgroup": "True",
         "bingroup": "x",
         "hovertemplate": "color=1<br>x=%{x}<br>count=%{y}<extra></extra>",
         "legendgroup": "1",
         "marker": {
          "color": "#EF553B",
          "pattern": {
           "shape": ""
          }
         },
         "name": "1",
         "offsetgroup": "1",
         "orientation": "v",
         "showlegend": true,
         "type": "histogram",
         "x": [
          180000,
          180000,
          121500,
          211500,
          180000,
          270000,
          157500,
          157500,
          135000,
          85500,
          225000,
          90000,
          202500,
          null,
          450000,
          450000,
          67500,
          202500,
          157500,
          180000,
          180000,
          180000,
          202500,
          202500,
          202500,
          202500,
          202500,
          225000,
          225000,
          225000,
          292500,
          202500,
          135000,
          225000,
          126000,
          126000,
          315000,
          216000,
          135000,
          157500,
          157500,
          180000,
          180000,
          126000,
          135000,
          135000,
          360000,
          135000,
          130500,
          130500,
          135000,
          256500,
          256500,
          202500,
          90000,
          135000,
          270000,
          157500,
          67500,
          112500,
          157500,
          157500,
          202500,
          202500,
          202500,
          157500,
          157500,
          157500,
          215100,
          315000,
          180000,
          180000,
          108000,
          157500,
          108000,
          108000,
          72000,
          90000,
          null,
          90000,
          195750,
          112500,
          112500,
          112500,
          135000,
          472500,
          585000,
          585000,
          135000,
          135000,
          126000,
          126000,
          675000,
          450000,
          180000,
          292500,
          540000,
          450000,
          450000,
          450000,
          135000,
          135000,
          180000,
          null,
          315000,
          null,
          315000,
          315000,
          315000,
          315000,
          135000,
          135000,
          103500,
          103500,
          112500,
          112500,
          112500,
          247500,
          391500,
          391500,
          391500,
          450000,
          450000,
          450000,
          67500,
          67500,
          67500,
          135000,
          225000,
          270000,
          270000,
          135000,
          135000,
          225000,
          540000,
          171000,
          270000,
          180000,
          null,
          202500,
          99000,
          null,
          99000,
          99000,
          81000,
          76500,
          72900,
          135000,
          225000,
          225000,
          225000,
          67500,
          225000,
          180000,
          180000,
          180000,
          null,
          81000,
          180000,
          103500,
          90000,
          112500,
          112500,
          null,
          225000,
          306000,
          112500,
          112500,
          112500,
          112500,
          112500,
          162000,
          65250,
          148500,
          180000
         ],
         "xaxis": "x",
         "yaxis": "y"
        }
       ],
       "layout": {
        "barmode": "relative",
        "legend": {
         "title": {
          "text": "color"
         },
         "tracegroupgap": 0
        },
        "template": {
         "data": {
          "bar": [
           {
            "error_x": {
             "color": "#2a3f5f"
            },
            "error_y": {
             "color": "#2a3f5f"
            },
            "marker": {
             "line": {
              "color": "#E5ECF6",
              "width": 0.5
             },
             "pattern": {
              "fillmode": "overlay",
              "size": 10,
              "solidity": 0.2
             }
            },
            "type": "bar"
           }
          ],
          "barpolar": [
           {
            "marker": {
             "line": {
              "color": "#E5ECF6",
              "width": 0.5
             },
             "pattern": {
              "fillmode": "overlay",
              "size": 10,
              "solidity": 0.2
             }
            },
            "type": "barpolar"
           }
          ],
          "carpet": [
           {
            "aaxis": {
             "endlinecolor": "#2a3f5f",
             "gridcolor": "white",
             "linecolor": "white",
             "minorgridcolor": "white",
             "startlinecolor": "#2a3f5f"
            },
            "baxis": {
             "endlinecolor": "#2a3f5f",
             "gridcolor": "white",
             "linecolor": "white",
             "minorgridcolor": "white",
             "startlinecolor": "#2a3f5f"
            },
            "type": "carpet"
           }
          ],
          "choropleth": [
           {
            "colorbar": {
             "outlinewidth": 0,
             "ticks": ""
            },
            "type": "choropleth"
           }
          ],
          "contour": [
           {
            "colorbar": {
             "outlinewidth": 0,
             "ticks": ""
            },
            "colorscale": [
             [
              0,
              "#0d0887"
             ],
             [
              0.1111111111111111,
              "#46039f"
             ],
             [
              0.2222222222222222,
              "#7201a8"
             ],
             [
              0.3333333333333333,
              "#9c179e"
             ],
             [
              0.4444444444444444,
              "#bd3786"
             ],
             [
              0.5555555555555556,
              "#d8576b"
             ],
             [
              0.6666666666666666,
              "#ed7953"
             ],
             [
              0.7777777777777778,
              "#fb9f3a"
             ],
             [
              0.8888888888888888,
              "#fdca26"
             ],
             [
              1,
              "#f0f921"
             ]
            ],
            "type": "contour"
           }
          ],
          "contourcarpet": [
           {
            "colorbar": {
             "outlinewidth": 0,
             "ticks": ""
            },
            "type": "contourcarpet"
           }
          ],
          "heatmap": [
           {
            "colorbar": {
             "outlinewidth": 0,
             "ticks": ""
            },
            "colorscale": [
             [
              0,
              "#0d0887"
             ],
             [
              0.1111111111111111,
              "#46039f"
             ],
             [
              0.2222222222222222,
              "#7201a8"
             ],
             [
              0.3333333333333333,
              "#9c179e"
             ],
             [
              0.4444444444444444,
              "#bd3786"
             ],
             [
              0.5555555555555556,
              "#d8576b"
             ],
             [
              0.6666666666666666,
              "#ed7953"
             ],
             [
              0.7777777777777778,
              "#fb9f3a"
             ],
             [
              0.8888888888888888,
              "#fdca26"
             ],
             [
              1,
              "#f0f921"
             ]
            ],
            "type": "heatmap"
           }
          ],
          "heatmapgl": [
           {
            "colorbar": {
             "outlinewidth": 0,
             "ticks": ""
            },
            "colorscale": [
             [
              0,
              "#0d0887"
             ],
             [
              0.1111111111111111,
              "#46039f"
             ],
             [
              0.2222222222222222,
              "#7201a8"
             ],
             [
              0.3333333333333333,
              "#9c179e"
             ],
             [
              0.4444444444444444,
              "#bd3786"
             ],
             [
              0.5555555555555556,
              "#d8576b"
             ],
             [
              0.6666666666666666,
              "#ed7953"
             ],
             [
              0.7777777777777778,
              "#fb9f3a"
             ],
             [
              0.8888888888888888,
              "#fdca26"
             ],
             [
              1,
              "#f0f921"
             ]
            ],
            "type": "heatmapgl"
           }
          ],
          "histogram": [
           {
            "marker": {
             "pattern": {
              "fillmode": "overlay",
              "size": 10,
              "solidity": 0.2
             }
            },
            "type": "histogram"
           }
          ],
          "histogram2d": [
           {
            "colorbar": {
             "outlinewidth": 0,
             "ticks": ""
            },
            "colorscale": [
             [
              0,
              "#0d0887"
             ],
             [
              0.1111111111111111,
              "#46039f"
             ],
             [
              0.2222222222222222,
              "#7201a8"
             ],
             [
              0.3333333333333333,
              "#9c179e"
             ],
             [
              0.4444444444444444,
              "#bd3786"
             ],
             [
              0.5555555555555556,
              "#d8576b"
             ],
             [
              0.6666666666666666,
              "#ed7953"
             ],
             [
              0.7777777777777778,
              "#fb9f3a"
             ],
             [
              0.8888888888888888,
              "#fdca26"
             ],
             [
              1,
              "#f0f921"
             ]
            ],
            "type": "histogram2d"
           }
          ],
          "histogram2dcontour": [
           {
            "colorbar": {
             "outlinewidth": 0,
             "ticks": ""
            },
            "colorscale": [
             [
              0,
              "#0d0887"
             ],
             [
              0.1111111111111111,
              "#46039f"
             ],
             [
              0.2222222222222222,
              "#7201a8"
             ],
             [
              0.3333333333333333,
              "#9c179e"
             ],
             [
              0.4444444444444444,
              "#bd3786"
             ],
             [
              0.5555555555555556,
              "#d8576b"
             ],
             [
              0.6666666666666666,
              "#ed7953"
             ],
             [
              0.7777777777777778,
              "#fb9f3a"
             ],
             [
              0.8888888888888888,
              "#fdca26"
             ],
             [
              1,
              "#f0f921"
             ]
            ],
            "type": "histogram2dcontour"
           }
          ],
          "mesh3d": [
           {
            "colorbar": {
             "outlinewidth": 0,
             "ticks": ""
            },
            "type": "mesh3d"
           }
          ],
          "parcoords": [
           {
            "line": {
             "colorbar": {
              "outlinewidth": 0,
              "ticks": ""
             }
            },
            "type": "parcoords"
           }
          ],
          "pie": [
           {
            "automargin": true,
            "type": "pie"
           }
          ],
          "scatter": [
           {
            "fillpattern": {
             "fillmode": "overlay",
             "size": 10,
             "solidity": 0.2
            },
            "type": "scatter"
           }
          ],
          "scatter3d": [
           {
            "line": {
             "colorbar": {
              "outlinewidth": 0,
              "ticks": ""
             }
            },
            "marker": {
             "colorbar": {
              "outlinewidth": 0,
              "ticks": ""
             }
            },
            "type": "scatter3d"
           }
          ],
          "scattercarpet": [
           {
            "marker": {
             "colorbar": {
              "outlinewidth": 0,
              "ticks": ""
             }
            },
            "type": "scattercarpet"
           }
          ],
          "scattergeo": [
           {
            "marker": {
             "colorbar": {
              "outlinewidth": 0,
              "ticks": ""
             }
            },
            "type": "scattergeo"
           }
          ],
          "scattergl": [
           {
            "marker": {
             "colorbar": {
              "outlinewidth": 0,
              "ticks": ""
             }
            },
            "type": "scattergl"
           }
          ],
          "scattermapbox": [
           {
            "marker": {
             "colorbar": {
              "outlinewidth": 0,
              "ticks": ""
             }
            },
            "type": "scattermapbox"
           }
          ],
          "scatterpolar": [
           {
            "marker": {
             "colorbar": {
              "outlinewidth": 0,
              "ticks": ""
             }
            },
            "type": "scatterpolar"
           }
          ],
          "scatterpolargl": [
           {
            "marker": {
             "colorbar": {
              "outlinewidth": 0,
              "ticks": ""
             }
            },
            "type": "scatterpolargl"
           }
          ],
          "scatterternary": [
           {
            "marker": {
             "colorbar": {
              "outlinewidth": 0,
              "ticks": ""
             }
            },
            "type": "scatterternary"
           }
          ],
          "surface": [
           {
            "colorbar": {
             "outlinewidth": 0,
             "ticks": ""
            },
            "colorscale": [
             [
              0,
              "#0d0887"
             ],
             [
              0.1111111111111111,
              "#46039f"
             ],
             [
              0.2222222222222222,
              "#7201a8"
             ],
             [
              0.3333333333333333,
              "#9c179e"
             ],
             [
              0.4444444444444444,
              "#bd3786"
             ],
             [
              0.5555555555555556,
              "#d8576b"
             ],
             [
              0.6666666666666666,
              "#ed7953"
             ],
             [
              0.7777777777777778,
              "#fb9f3a"
             ],
             [
              0.8888888888888888,
              "#fdca26"
             ],
             [
              1,
              "#f0f921"
             ]
            ],
            "type": "surface"
           }
          ],
          "table": [
           {
            "cells": {
             "fill": {
              "color": "#EBF0F8"
             },
             "line": {
              "color": "white"
             }
            },
            "header": {
             "fill": {
              "color": "#C8D4E3"
             },
             "line": {
              "color": "white"
             }
            },
            "type": "table"
           }
          ]
         },
         "layout": {
          "annotationdefaults": {
           "arrowcolor": "#2a3f5f",
           "arrowhead": 0,
           "arrowwidth": 1
          },
          "autotypenumbers": "strict",
          "coloraxis": {
           "colorbar": {
            "outlinewidth": 0,
            "ticks": ""
           }
          },
          "colorscale": {
           "diverging": [
            [
             0,
             "#8e0152"
            ],
            [
             0.1,
             "#c51b7d"
            ],
            [
             0.2,
             "#de77ae"
            ],
            [
             0.3,
             "#f1b6da"
            ],
            [
             0.4,
             "#fde0ef"
            ],
            [
             0.5,
             "#f7f7f7"
            ],
            [
             0.6,
             "#e6f5d0"
            ],
            [
             0.7,
             "#b8e186"
            ],
            [
             0.8,
             "#7fbc41"
            ],
            [
             0.9,
             "#4d9221"
            ],
            [
             1,
             "#276419"
            ]
           ],
           "sequential": [
            [
             0,
             "#0d0887"
            ],
            [
             0.1111111111111111,
             "#46039f"
            ],
            [
             0.2222222222222222,
             "#7201a8"
            ],
            [
             0.3333333333333333,
             "#9c179e"
            ],
            [
             0.4444444444444444,
             "#bd3786"
            ],
            [
             0.5555555555555556,
             "#d8576b"
            ],
            [
             0.6666666666666666,
             "#ed7953"
            ],
            [
             0.7777777777777778,
             "#fb9f3a"
            ],
            [
             0.8888888888888888,
             "#fdca26"
            ],
            [
             1,
             "#f0f921"
            ]
           ],
           "sequentialminus": [
            [
             0,
             "#0d0887"
            ],
            [
             0.1111111111111111,
             "#46039f"
            ],
            [
             0.2222222222222222,
             "#7201a8"
            ],
            [
             0.3333333333333333,
             "#9c179e"
            ],
            [
             0.4444444444444444,
             "#bd3786"
            ],
            [
             0.5555555555555556,
             "#d8576b"
            ],
            [
             0.6666666666666666,
             "#ed7953"
            ],
            [
             0.7777777777777778,
             "#fb9f3a"
            ],
            [
             0.8888888888888888,
             "#fdca26"
            ],
            [
             1,
             "#f0f921"
            ]
           ]
          },
          "colorway": [
           "#636efa",
           "#EF553B",
           "#00cc96",
           "#ab63fa",
           "#FFA15A",
           "#19d3f3",
           "#FF6692",
           "#B6E880",
           "#FF97FF",
           "#FECB52"
          ],
          "font": {
           "color": "#2a3f5f"
          },
          "geo": {
           "bgcolor": "white",
           "lakecolor": "white",
           "landcolor": "#E5ECF6",
           "showlakes": true,
           "showland": true,
           "subunitcolor": "white"
          },
          "hoverlabel": {
           "align": "left"
          },
          "hovermode": "closest",
          "mapbox": {
           "style": "light"
          },
          "paper_bgcolor": "white",
          "plot_bgcolor": "#E5ECF6",
          "polar": {
           "angularaxis": {
            "gridcolor": "white",
            "linecolor": "white",
            "ticks": ""
           },
           "bgcolor": "#E5ECF6",
           "radialaxis": {
            "gridcolor": "white",
            "linecolor": "white",
            "ticks": ""
           }
          },
          "scene": {
           "xaxis": {
            "backgroundcolor": "#E5ECF6",
            "gridcolor": "white",
            "gridwidth": 2,
            "linecolor": "white",
            "showbackground": true,
            "ticks": "",
            "zerolinecolor": "white"
           },
           "yaxis": {
            "backgroundcolor": "#E5ECF6",
            "gridcolor": "white",
            "gridwidth": 2,
            "linecolor": "white",
            "showbackground": true,
            "ticks": "",
            "zerolinecolor": "white"
           },
           "zaxis": {
            "backgroundcolor": "#E5ECF6",
            "gridcolor": "white",
            "gridwidth": 2,
            "linecolor": "white",
            "showbackground": true,
            "ticks": "",
            "zerolinecolor": "white"
           }
          },
          "shapedefaults": {
           "line": {
            "color": "#2a3f5f"
           }
          },
          "ternary": {
           "aaxis": {
            "gridcolor": "white",
            "linecolor": "white",
            "ticks": ""
           },
           "baxis": {
            "gridcolor": "white",
            "linecolor": "white",
            "ticks": ""
           },
           "bgcolor": "#E5ECF6",
           "caxis": {
            "gridcolor": "white",
            "linecolor": "white",
            "ticks": ""
           }
          },
          "title": {
           "x": 0.05
          },
          "xaxis": {
           "automargin": true,
           "gridcolor": "white",
           "linecolor": "white",
           "ticks": "",
           "title": {
            "standoff": 15
           },
           "zerolinecolor": "white",
           "zerolinewidth": 2
          },
          "yaxis": {
           "automargin": true,
           "gridcolor": "white",
           "linecolor": "white",
           "ticks": "",
           "title": {
            "standoff": 15
           },
           "zerolinecolor": "white",
           "zerolinewidth": 2
          }
         }
        },
        "title": {
         "text": "Income distribution by approval status"
        },
        "xaxis": {
         "anchor": "y",
         "domain": [
          0,
          1
         ],
         "title": {
          "text": "x"
         }
        },
        "yaxis": {
         "anchor": "x",
         "domain": [
          0,
          1
         ],
         "title": {
          "text": "count"
         }
        }
       }
      },
      "text/html": [
       "<div>                            <div id=\"c795d32f-f154-46e8-9b09-f24b7f5be37c\" class=\"plotly-graph-div\" style=\"height:525px; width:100%;\"></div>            <script type=\"text/javascript\">                require([\"plotly\"], function(Plotly) {                    window.PLOTLYENV=window.PLOTLYENV || {};                                    if (document.getElementById(\"c795d32f-f154-46e8-9b09-f24b7f5be37c\")) {                    Plotly.newPlot(                        \"c795d32f-f154-46e8-9b09-f24b7f5be37c\",                        [{\"alignmentgroup\":\"True\",\"bingroup\":\"x\",\"hovertemplate\":\"color=0<br>x=%{x}<br>count=%{y}<extra></extra>\",\"legendgroup\":\"0\",\"marker\":{\"color\":\"#636efa\",\"pattern\":{\"shape\":\"\"}},\"name\":\"0\",\"offsetgroup\":\"0\",\"orientation\":\"v\",\"showlegend\":true,\"x\":[157500.0,247500.0,166500.0,112500.0,103500.0,292500.0,270000.0,270000.0,202500.0,202500.0,225000.0,180000.0,67500.0,193500.0,193500.0,157500.0,135000.0,292500.0,292500.0,112500.0,157500.0,94500.0,202500.0,216000.0,157500.0,135000.0,193500.0,135000.0,135000.0,135000.0,112500.0,135000.0,292500.0,193500.0,202500.0,85500.0,85500.0,292500.0,292500.0,351000.0,171000.0,135000.0,135000.0,202500.0,202500.0,270000.0,135000.0,135000.0,90000.0,90000.0,90000.0,234000.0,166500.0,166500.0,135000.0,135000.0,135000.0,180000.0,157500.0,153000.0,193500.0,112500.0,112500.0,135000.0,337500.0,337500.0,247500.0,112500.0,135000.0,108000.0,117000.0,144000.0,202500.0,391500.0,225000.0,180000.0,135000.0,238500.0,73350.0,73350.0,202500.0,180000.0,67500.0,274500.0,157500.0,157500.0,121500.0,157500.0,180000.0,157500.0,337500.0,135000.0,135000.0,112500.0,95850.0,315000.0,180000.0,103500.0,103500.0,135000.0,247500.0,135000.0,171000.0,81000.0,202500.0,157500.0,157500.0,94500.0,225000.0,112500.0,83250.0,202500.0,189000.0,315000.0,135000.0,180000.0,112500.0,180000.0,180000.0,58500.0,270000.0,270000.0,112500.0,180000.0,202500.0,126000.0,171000.0,247500.0,360000.0,360000.0,360000.0,180000.0,306000.0,450000.0,450000.0,99000.0,135000.0,315000.0,112500.0,72000.0,202500.0,130500.0,130500.0,90000.0,112500.0,99000.0,157500.0,99000.0,202500.0,90000.0,270000.0,270000.0,225000.0,495000.0,90000.0,157500.0,157500.0,45000.0,202500.0,112500.0,234000.0,270000.0,126000.0,126000.0,121500.0,135000.0,135000.0,202500.0,148500.0,112500.0,360000.0,112500.0,270000.0,225000.0,225000.0,202500.0,315000.0,202500.0,144000.0,387000.0,180000.0,157500.0,40500.0,405000.0,225000.0,216000.0,405000.0,292500.0,130500.0,315000.0,135000.0,337500.0,211500.0,450000.0,180000.0,144000.0,135000.0,108000.0,180000.0,270000.0,103500.0,157500.0,157500.0,54000.0,180000.0,157500.0,157500.0,117000.0,405000.0,900000.0,157500.0,180000.0,450000.0,202500.0,135000.0,119250.0,99000.0,225000.0,180000.0,180000.0,135000.0,157500.0,202500.0,112500.0,135000.0,202500.0,202500.0,157500.0,126000.0,108000.0,360000.0,360000.0,315000.0,225000.0,292500.0,166500.0,360000.0,112500.0,193500.0,193500.0,315000.0,180000.0,405000.0,135000.0,225000.0,180000.0,67500.0,360000.0,315000.0,180000.0,360000.0,171000.0,225000.0,180000.0,157500.0,315000.0,202500.0,112500.0,202500.0,202500.0,225000.0,315000.0,225000.0,144000.0,180000.0,612000.0,612000.0,270000.0,157500.0,112500.0,90000.0,90000.0,225000.0,112500.0,225000.0,270000.0,270000.0,112500.0,292500.0,225000.0,202500.0,189000.0,202500.0,157500.0,null,315000.0,216000.0,157500.0,180000.0,270000.0,135000.0,157500.0,157500.0,247500.0,450000.0,112500.0,360000.0,360000.0,180000.0,225000.0,292500.0,207000.0,135000.0,171000.0,315000.0,112500.0,247500.0,180000.0,130500.0,130500.0,94500.0,810000.0,112500.0,180000.0,202500.0,306000.0,306000.0,180000.0,243000.0,270000.0,225000.0,225000.0,157500.0,135000.0,225000.0,450000.0,135000.0,225000.0,247500.0,90000.0,135000.0,119700.0,337500.0,292500.0,292500.0,90000.0,337500.0,315000.0,157500.0,225000.0,90000.0,null,112500.0,315000.0,81000.0,180000.0,270000.0,225000.0,157500.0,157500.0,121500.0,315000.0,185400.0,135000.0,108000.0,180000.0,135000.0,202500.0,360000.0,180000.0,157500.0,270000.0,423000.0,90000.0,180000.0,166500.0,216000.0,225000.0,157500.0,202500.0,135000.0,225000.0,null,117000.0,202500.0,202500.0,216000.0,135000.0,135000.0,135000.0,180000.0,67500.0,157500.0,270000.0,157500.0,157500.0,180000.0,180000.0,180000.0,225000.0,157500.0,63000.0,180000.0,247500.0,306000.0,135000.0,180000.0,225000.0,202500.0,198000.0,225000.0,360000.0,144000.0,135000.0,360000.0,126000.0,202500.0,180000.0,126000.0,90000.0,135000.0,180000.0,148500.0,225000.0,234000.0,67500.0,162000.0,67500.0,198000.0,144000.0,315000.0,315000.0,315000.0,247500.0,337500.0,157500.0,135000.0,157500.0,180000.0,135000.0,292500.0,292500.0,135000.0,180000.0,252000.0,180000.0,292500.0,112500.0,328500.0,202500.0,292500.0,112500.0,225000.0,450000.0,405000.0,180000.0,135000.0,135000.0,247500.0,247500.0,135000.0,180000.0,225000.0,null,216000.0,261000.0,270000.0,360000.0,247500.0,427500.0,360000.0,900000.0,225000.0,112500.0,112500.0,112500.0,157500.0,225000.0,112500.0,315000.0,270000.0,207000.0,180000.0,202500.0,225000.0,225000.0,225000.0,135000.0,1575000.0,1575000.0,180000.0,180000.0,180000.0,445500.0,445500.0,157500.0,202500.0,112500.0,180000.0,81000.0,225000.0,360000.0,116100.0,225000.0,315000.0,180000.0,180000.0,157500.0,180000.0,180000.0,225000.0,270000.0,112500.0,292500.0,173250.0,247500.0,247500.0,144000.0,157500.0,270000.0,135000.0,225000.0,112500.0,81000.0,112500.0,117000.0,117000.0,157500.0,135000.0,135000.0,135000.0,112500.0,112500.0,112500.0,135000.0,99000.0,99000.0,360000.0,202500.0,148500.0,157500.0,90000.0,225000.0,157500.0,157500.0,270000.0,157500.0,270000.0,157500.0,112500.0,225000.0,126000.0,126000.0,157500.0,292500.0,135000.0,180000.0,193500.0,360000.0,112500.0,247500.0,112500.0,202500.0,270000.0,270000.0,180000.0,450000.0,null,202500.0,67500.0,337500.0,202500.0,225000.0,225000.0,126000.0,76500.0,247500.0,157500.0,103500.0,112500.0,135000.0,157500.0,126000.0,112500.0,202500.0,157500.0,202500.0,135000.0,72000.0,202500.0,315000.0,225000.0,243000.0,243000.0,157500.0,270000.0,144000.0,144000.0,315000.0,126000.0,135000.0,202500.0,180000.0,180000.0,202500.0,315000.0,90000.0,133650.0,112500.0,202500.0,202500.0,40500.0,135000.0,202500.0,67500.0,null,81000.0,81000.0,135000.0,360000.0,360000.0,360000.0,135000.0,225000.0,180000.0,135000.0,135000.0,180000.0,270000.0,157500.0,67500.0,67500.0,247500.0,247500.0,135000.0,135000.0,112500.0,193500.0,135000.0,135000.0,112500.0,405000.0,360000.0,360000.0,157500.0,180000.0,225000.0,135000.0,112500.0,112500.0,112500.0,216000.0,157500.0,225000.0,90000.0,135000.0,225000.0,112500.0,112500.0,247500.0,247500.0,450000.0,234000.0,234000.0,270000.0,180000.0,270000.0,157500.0,270000.0,270000.0,184500.0,180000.0,180000.0,225000.0,225000.0,121500.0,90000.0,292500.0,315000.0,180000.0,405000.0,337500.0,67500.0,225000.0,256500.0,360000.0,135000.0,211500.0,180000.0,337500.0,135000.0,306000.0,306000.0,306000.0,180000.0,225000.0,585000.0,216000.0,157500.0,135000.0,261000.0,157500.0,94500.0,135000.0,112500.0,202500.0,333000.0,157500.0,112500.0,112500.0,121500.0,157500.0,202500.0,225000.0,135000.0,135000.0,126000.0,67500.0,180000.0,202500.0,157500.0,135000.0,103500.0,270000.0,225000.0,112500.0,270000.0,270000.0,157500.0,292500.0,90000.0,270000.0,135000.0,225000.0,180000.0,157500.0,90000.0,null,292500.0,225000.0,135000.0,157500.0,261000.0,180000.0,180000.0,135000.0,202500.0,202500.0,202500.0,null,202500.0,null,135000.0,135000.0,180000.0,72000.0,180000.0,180000.0,202500.0,135000.0,90000.0,157500.0,315000.0,315000.0,157500.0,225000.0,180000.0,787500.0,225000.0,270000.0,180000.0,135000.0,135000.0,180000.0,157500.0,81000.0,105750.0,135000.0,112500.0,180000.0,225000.0,270000.0,157500.0,126000.0,306000.0,180000.0,112500.0,247500.0,144000.0,225000.0,225000.0,202500.0,180000.0,405000.0,360000.0,315000.0,153000.0,112500.0,225000.0,247500.0,135000.0,112500.0,450000.0,117000.0,337500.0,157500.0,247500.0,247500.0,252000.0,135000.0,112500.0,247500.0,247500.0,247500.0,112500.0,157500.0,315000.0,315000.0,225000.0,225000.0,112500.0,180000.0,112500.0,157500.0,166500.0,180000.0,148500.0,103500.0,103500.0,495000.0,225000.0,135000.0,337500.0,225000.0,112500.0,135000.0,67500.0,112500.0,297000.0,171000.0,315000.0,157500.0,157500.0,135000.0,135000.0,315000.0,112500.0,225000.0,202500.0,null,157500.0,180000.0,36000.0,157500.0,225000.0,211500.0,90000.0,112500.0,180000.0,351000.0,202500.0,315000.0,null,261000.0,144000.0,90000.0,225000.0,292500.0,135000.0,112500.0,157500.0,112500.0,117000.0,337500.0,90000.0,180000.0,270000.0,900000.0,900000.0,225000.0,180000.0,90000.0,225000.0,225000.0,225000.0,225000.0,315000.0,90000.0,null,148500.0,135000.0,157500.0,94500.0,90000.0,225000.0,67500.0,112500.0,180000.0,108000.0,450000.0,270000.0,270000.0,135000.0,135000.0,202500.0,292500.0,85500.0,135000.0,270000.0,99000.0,180000.0,180000.0,90000.0,135000.0,247500.0,135000.0,225000.0,189000.0,301500.0,270000.0,450000.0,180000.0,112500.0,157500.0,90000.0,135000.0,202500.0,112500.0,112500.0,112500.0,112500.0,112500.0,225000.0,45000.0,112500.0,54000.0,90000.0,76500.0,135000.0,135000.0,252000.0,247500.0,202500.0,202500.0,76500.0,202500.0,202500.0,387000.0,202500.0,202500.0,108000.0,115200.0,90000.0,157500.0,270000.0,450000.0,90000.0,112500.0,90000.0,90000.0,180000.0,135000.0,450000.0,261000.0,225000.0,135000.0,135000.0,225000.0,175500.0,135000.0,103500.0,112500.0,283500.0,135000.0,270000.0,135000.0,135000.0,157500.0,157500.0,135000.0,270000.0,270000.0,72000.0,72000.0,121500.0,135000.0,157500.0,135000.0,135000.0,67500.0,225000.0,450000.0,450000.0,337500.0,157500.0,162000.0,247500.0,315000.0,135000.0,180000.0,270000.0,135000.0,135000.0,112500.0,382500.0,315000.0,112500.0,112500.0,180000.0,117000.0,180000.0,180000.0,90000.0,99000.0,112500.0,135000.0,112500.0,180000.0,112500.0,112500.0,112500.0,225000.0,450000.0,225000.0,360000.0,112500.0,112500.0,360000.0,135000.0,207000.0,225000.0,135000.0,202500.0,112500.0,225000.0,126000.0,270000.0,157500.0,157500.0,166500.0,202500.0,157500.0,99000.0,157500.0,108000.0,90000.0,180000.0,103500.0,540000.0,112500.0,135000.0,247500.0,67500.0,270000.0,270000.0,null,405000.0,112500.0,135000.0,135000.0,81000.0,270000.0,99000.0,157500.0,270000.0,117000.0,180000.0,112500.0,202500.0,157500.0,180000.0,202500.0,135000.0,90000.0,360000.0,202500.0,315000.0,315000.0,225000.0,112500.0,180000.0,81000.0,247500.0,216000.0,225000.0,270000.0,135000.0,225000.0,202500.0,135000.0,495000.0,90000.0,112500.0,202500.0,72000.0,72000.0,112500.0,90000.0,225000.0,90000.0,180000.0,202500.0,69372.0,112500.0,180000.0,270000.0,157500.0,112500.0,94500.0,225000.0,112500.0,247500.0,67500.0,225000.0,67500.0,112500.0,270000.0,180000.0,67500.0,225000.0,315000.0,225000.0,81000.0,270000.0,139500.0,112500.0,126000.0,225000.0,135000.0,null,270000.0,126000.0,198000.0,90000.0,202500.0,231750.0,180000.0,180000.0,112500.0,225000.0,180000.0,135000.0,225000.0,315000.0,148500.0,202500.0,202500.0,121500.0,121500.0,76500.0,76500.0,90000.0,135000.0,180000.0,162000.0,418500.0,157500.0,58500.0,198000.0,135000.0,247500.0,135000.0,54000.0,126000.0,103500.0,157500.0,112500.0,207000.0,67050.0,94500.0,193500.0,121500.0,112500.0,121500.0,157500.0,270000.0,225000.0,103500.0,157500.0,112500.0,90000.0,99000.0,157500.0,157500.0,49500.0,103500.0,67500.0,153000.0,153000.0,131400.0,135000.0,157500.0,157500.0,180000.0,67500.0,270000.0,157500.0,157500.0,90000.0,450000.0,180000.0,180000.0,180000.0,144000.0,121500.0,202500.0,135000.0,247500.0,247500.0,162000.0,112500.0,90000.0,90000.0,76500.0,null,90000.0,135000.0,135000.0,180000.0,112500.0,112500.0,112500.0,360000.0,67500.0,112500.0,157500.0,225000.0,44550.0,135000.0,135000.0,216000.0,157500.0,315000.0,162000.0,148500.0,135000.0,112500.0,112500.0,189000.0,112500.0,292500.0,121500.0,135000.0,135000.0,157500.0,225000.0,112500.0,112500.0,157500.0,67500.0,270000.0,90900.0,67500.0,90000.0,85500.0,67500.0,247500.0,450000.0,175500.0,45000.0,112500.0,112500.0,90000.0,112500.0,135000.0,198000.0,198000.0,198000.0,69750.0,630000.0,90000.0,225000.0,225000.0,126000.0,202500.0,189000.0,72000.0,153000.0,157500.0,202500.0,112500.0,225000.0,103500.0,112500.0,112500.0,135000.0,180000.0,99000.0,99000.0,90000.0,67500.0,148500.0,157500.0,81000.0,90000.0,90000.0,90000.0,47250.0,144000.0,112500.0,165600.0,180000.0,56250.0,112500.0,121500.0,114750.0,112500.0,202500.0,90000.0,135000.0,112500.0,157500.0,112500.0,99000.0,315000.0,315000.0,139500.0,225000.0,225000.0,171000.0,58500.0,270000.0,360000.0,189000.0,81000.0,112500.0,270000.0,135000.0,148500.0,45000.0,45000.0,126000.0,202500.0,157500.0,76500.0,180000.0,112500.0,67500.0,157500.0,157500.0,225000.0,180000.0,135000.0,216000.0,76500.0,141750.0,126000.0,45900.0,83250.0,202500.0,135000.0,180000.0,54000.0,90000.0,135000.0,189000.0,171000.0,112500.0,135000.0,126000.0,135000.0,112500.0,33750.0,167400.0,180000.0,180000.0,292500.0,99000.0,90000.0,225000.0,225000.0,594000.0,450000.0,135000.0,126000.0,121900.5,270000.0,360000.0,37800.0,94500.0,135000.0,202500.0,76500.0],\"xaxis\":\"x\",\"yaxis\":\"y\",\"type\":\"histogram\"},{\"alignmentgroup\":\"True\",\"bingroup\":\"x\",\"hovertemplate\":\"color=1<br>x=%{x}<br>count=%{y}<extra></extra>\",\"legendgroup\":\"1\",\"marker\":{\"color\":\"#EF553B\",\"pattern\":{\"shape\":\"\"}},\"name\":\"1\",\"offsetgroup\":\"1\",\"orientation\":\"v\",\"showlegend\":true,\"x\":[180000.0,180000.0,121500.0,211500.0,180000.0,270000.0,157500.0,157500.0,135000.0,85500.0,225000.0,90000.0,202500.0,null,450000.0,450000.0,67500.0,202500.0,157500.0,180000.0,180000.0,180000.0,202500.0,202500.0,202500.0,202500.0,202500.0,225000.0,225000.0,225000.0,292500.0,202500.0,135000.0,225000.0,126000.0,126000.0,315000.0,216000.0,135000.0,157500.0,157500.0,180000.0,180000.0,126000.0,135000.0,135000.0,360000.0,135000.0,130500.0,130500.0,135000.0,256500.0,256500.0,202500.0,90000.0,135000.0,270000.0,157500.0,67500.0,112500.0,157500.0,157500.0,202500.0,202500.0,202500.0,157500.0,157500.0,157500.0,215100.0,315000.0,180000.0,180000.0,108000.0,157500.0,108000.0,108000.0,72000.0,90000.0,null,90000.0,195750.0,112500.0,112500.0,112500.0,135000.0,472500.0,585000.0,585000.0,135000.0,135000.0,126000.0,126000.0,675000.0,450000.0,180000.0,292500.0,540000.0,450000.0,450000.0,450000.0,135000.0,135000.0,180000.0,null,315000.0,null,315000.0,315000.0,315000.0,315000.0,135000.0,135000.0,103500.0,103500.0,112500.0,112500.0,112500.0,247500.0,391500.0,391500.0,391500.0,450000.0,450000.0,450000.0,67500.0,67500.0,67500.0,135000.0,225000.0,270000.0,270000.0,135000.0,135000.0,225000.0,540000.0,171000.0,270000.0,180000.0,null,202500.0,99000.0,null,99000.0,99000.0,81000.0,76500.0,72900.0,135000.0,225000.0,225000.0,225000.0,67500.0,225000.0,180000.0,180000.0,180000.0,null,81000.0,180000.0,103500.0,90000.0,112500.0,112500.0,null,225000.0,306000.0,112500.0,112500.0,112500.0,112500.0,112500.0,162000.0,65250.0,148500.0,180000.0],\"xaxis\":\"x\",\"yaxis\":\"y\",\"type\":\"histogram\"}],                        {\"template\":{\"data\":{\"histogram2dcontour\":[{\"type\":\"histogram2dcontour\",\"colorbar\":{\"outlinewidth\":0,\"ticks\":\"\"},\"colorscale\":[[0.0,\"#0d0887\"],[0.1111111111111111,\"#46039f\"],[0.2222222222222222,\"#7201a8\"],[0.3333333333333333,\"#9c179e\"],[0.4444444444444444,\"#bd3786\"],[0.5555555555555556,\"#d8576b\"],[0.6666666666666666,\"#ed7953\"],[0.7777777777777778,\"#fb9f3a\"],[0.8888888888888888,\"#fdca26\"],[1.0,\"#f0f921\"]]}],\"choropleth\":[{\"type\":\"choropleth\",\"colorbar\":{\"outlinewidth\":0,\"ticks\":\"\"}}],\"histogram2d\":[{\"type\":\"histogram2d\",\"colorbar\":{\"outlinewidth\":0,\"ticks\":\"\"},\"colorscale\":[[0.0,\"#0d0887\"],[0.1111111111111111,\"#46039f\"],[0.2222222222222222,\"#7201a8\"],[0.3333333333333333,\"#9c179e\"],[0.4444444444444444,\"#bd3786\"],[0.5555555555555556,\"#d8576b\"],[0.6666666666666666,\"#ed7953\"],[0.7777777777777778,\"#fb9f3a\"],[0.8888888888888888,\"#fdca26\"],[1.0,\"#f0f921\"]]}],\"heatmap\":[{\"type\":\"heatmap\",\"colorbar\":{\"outlinewidth\":0,\"ticks\":\"\"},\"colorscale\":[[0.0,\"#0d0887\"],[0.1111111111111111,\"#46039f\"],[0.2222222222222222,\"#7201a8\"],[0.3333333333333333,\"#9c179e\"],[0.4444444444444444,\"#bd3786\"],[0.5555555555555556,\"#d8576b\"],[0.6666666666666666,\"#ed7953\"],[0.7777777777777778,\"#fb9f3a\"],[0.8888888888888888,\"#fdca26\"],[1.0,\"#f0f921\"]]}],\"heatmapgl\":[{\"type\":\"heatmapgl\",\"colorbar\":{\"outlinewidth\":0,\"ticks\":\"\"},\"colorscale\":[[0.0,\"#0d0887\"],[0.1111111111111111,\"#46039f\"],[0.2222222222222222,\"#7201a8\"],[0.3333333333333333,\"#9c179e\"],[0.4444444444444444,\"#bd3786\"],[0.5555555555555556,\"#d8576b\"],[0.6666666666666666,\"#ed7953\"],[0.7777777777777778,\"#fb9f3a\"],[0.8888888888888888,\"#fdca26\"],[1.0,\"#f0f921\"]]}],\"contourcarpet\":[{\"type\":\"contourcarpet\",\"colorbar\":{\"outlinewidth\":0,\"ticks\":\"\"}}],\"contour\":[{\"type\":\"contour\",\"colorbar\":{\"outlinewidth\":0,\"ticks\":\"\"},\"colorscale\":[[0.0,\"#0d0887\"],[0.1111111111111111,\"#46039f\"],[0.2222222222222222,\"#7201a8\"],[0.3333333333333333,\"#9c179e\"],[0.4444444444444444,\"#bd3786\"],[0.5555555555555556,\"#d8576b\"],[0.6666666666666666,\"#ed7953\"],[0.7777777777777778,\"#fb9f3a\"],[0.8888888888888888,\"#fdca26\"],[1.0,\"#f0f921\"]]}],\"surface\":[{\"type\":\"surface\",\"colorbar\":{\"outlinewidth\":0,\"ticks\":\"\"},\"colorscale\":[[0.0,\"#0d0887\"],[0.1111111111111111,\"#46039f\"],[0.2222222222222222,\"#7201a8\"],[0.3333333333333333,\"#9c179e\"],[0.4444444444444444,\"#bd3786\"],[0.5555555555555556,\"#d8576b\"],[0.6666666666666666,\"#ed7953\"],[0.7777777777777778,\"#fb9f3a\"],[0.8888888888888888,\"#fdca26\"],[1.0,\"#f0f921\"]]}],\"mesh3d\":[{\"type\":\"mesh3d\",\"colorbar\":{\"outlinewidth\":0,\"ticks\":\"\"}}],\"scatter\":[{\"fillpattern\":{\"fillmode\":\"overlay\",\"size\":10,\"solidity\":0.2},\"type\":\"scatter\"}],\"parcoords\":[{\"type\":\"parcoords\",\"line\":{\"colorbar\":{\"outlinewidth\":0,\"ticks\":\"\"}}}],\"scatterpolargl\":[{\"type\":\"scatterpolargl\",\"marker\":{\"colorbar\":{\"outlinewidth\":0,\"ticks\":\"\"}}}],\"bar\":[{\"error_x\":{\"color\":\"#2a3f5f\"},\"error_y\":{\"color\":\"#2a3f5f\"},\"marker\":{\"line\":{\"color\":\"#E5ECF6\",\"width\":0.5},\"pattern\":{\"fillmode\":\"overlay\",\"size\":10,\"solidity\":0.2}},\"type\":\"bar\"}],\"scattergeo\":[{\"type\":\"scattergeo\",\"marker\":{\"colorbar\":{\"outlinewidth\":0,\"ticks\":\"\"}}}],\"scatterpolar\":[{\"type\":\"scatterpolar\",\"marker\":{\"colorbar\":{\"outlinewidth\":0,\"ticks\":\"\"}}}],\"histogram\":[{\"marker\":{\"pattern\":{\"fillmode\":\"overlay\",\"size\":10,\"solidity\":0.2}},\"type\":\"histogram\"}],\"scattergl\":[{\"type\":\"scattergl\",\"marker\":{\"colorbar\":{\"outlinewidth\":0,\"ticks\":\"\"}}}],\"scatter3d\":[{\"type\":\"scatter3d\",\"line\":{\"colorbar\":{\"outlinewidth\":0,\"ticks\":\"\"}},\"marker\":{\"colorbar\":{\"outlinewidth\":0,\"ticks\":\"\"}}}],\"scattermapbox\":[{\"type\":\"scattermapbox\",\"marker\":{\"colorbar\":{\"outlinewidth\":0,\"ticks\":\"\"}}}],\"scatterternary\":[{\"type\":\"scatterternary\",\"marker\":{\"colorbar\":{\"outlinewidth\":0,\"ticks\":\"\"}}}],\"scattercarpet\":[{\"type\":\"scattercarpet\",\"marker\":{\"colorbar\":{\"outlinewidth\":0,\"ticks\":\"\"}}}],\"carpet\":[{\"aaxis\":{\"endlinecolor\":\"#2a3f5f\",\"gridcolor\":\"white\",\"linecolor\":\"white\",\"minorgridcolor\":\"white\",\"startlinecolor\":\"#2a3f5f\"},\"baxis\":{\"endlinecolor\":\"#2a3f5f\",\"gridcolor\":\"white\",\"linecolor\":\"white\",\"minorgridcolor\":\"white\",\"startlinecolor\":\"#2a3f5f\"},\"type\":\"carpet\"}],\"table\":[{\"cells\":{\"fill\":{\"color\":\"#EBF0F8\"},\"line\":{\"color\":\"white\"}},\"header\":{\"fill\":{\"color\":\"#C8D4E3\"},\"line\":{\"color\":\"white\"}},\"type\":\"table\"}],\"barpolar\":[{\"marker\":{\"line\":{\"color\":\"#E5ECF6\",\"width\":0.5},\"pattern\":{\"fillmode\":\"overlay\",\"size\":10,\"solidity\":0.2}},\"type\":\"barpolar\"}],\"pie\":[{\"automargin\":true,\"type\":\"pie\"}]},\"layout\":{\"autotypenumbers\":\"strict\",\"colorway\":[\"#636efa\",\"#EF553B\",\"#00cc96\",\"#ab63fa\",\"#FFA15A\",\"#19d3f3\",\"#FF6692\",\"#B6E880\",\"#FF97FF\",\"#FECB52\"],\"font\":{\"color\":\"#2a3f5f\"},\"hovermode\":\"closest\",\"hoverlabel\":{\"align\":\"left\"},\"paper_bgcolor\":\"white\",\"plot_bgcolor\":\"#E5ECF6\",\"polar\":{\"bgcolor\":\"#E5ECF6\",\"angularaxis\":{\"gridcolor\":\"white\",\"linecolor\":\"white\",\"ticks\":\"\"},\"radialaxis\":{\"gridcolor\":\"white\",\"linecolor\":\"white\",\"ticks\":\"\"}},\"ternary\":{\"bgcolor\":\"#E5ECF6\",\"aaxis\":{\"gridcolor\":\"white\",\"linecolor\":\"white\",\"ticks\":\"\"},\"baxis\":{\"gridcolor\":\"white\",\"linecolor\":\"white\",\"ticks\":\"\"},\"caxis\":{\"gridcolor\":\"white\",\"linecolor\":\"white\",\"ticks\":\"\"}},\"coloraxis\":{\"colorbar\":{\"outlinewidth\":0,\"ticks\":\"\"}},\"colorscale\":{\"sequential\":[[0.0,\"#0d0887\"],[0.1111111111111111,\"#46039f\"],[0.2222222222222222,\"#7201a8\"],[0.3333333333333333,\"#9c179e\"],[0.4444444444444444,\"#bd3786\"],[0.5555555555555556,\"#d8576b\"],[0.6666666666666666,\"#ed7953\"],[0.7777777777777778,\"#fb9f3a\"],[0.8888888888888888,\"#fdca26\"],[1.0,\"#f0f921\"]],\"sequentialminus\":[[0.0,\"#0d0887\"],[0.1111111111111111,\"#46039f\"],[0.2222222222222222,\"#7201a8\"],[0.3333333333333333,\"#9c179e\"],[0.4444444444444444,\"#bd3786\"],[0.5555555555555556,\"#d8576b\"],[0.6666666666666666,\"#ed7953\"],[0.7777777777777778,\"#fb9f3a\"],[0.8888888888888888,\"#fdca26\"],[1.0,\"#f0f921\"]],\"diverging\":[[0,\"#8e0152\"],[0.1,\"#c51b7d\"],[0.2,\"#de77ae\"],[0.3,\"#f1b6da\"],[0.4,\"#fde0ef\"],[0.5,\"#f7f7f7\"],[0.6,\"#e6f5d0\"],[0.7,\"#b8e186\"],[0.8,\"#7fbc41\"],[0.9,\"#4d9221\"],[1,\"#276419\"]]},\"xaxis\":{\"gridcolor\":\"white\",\"linecolor\":\"white\",\"ticks\":\"\",\"title\":{\"standoff\":15},\"zerolinecolor\":\"white\",\"automargin\":true,\"zerolinewidth\":2},\"yaxis\":{\"gridcolor\":\"white\",\"linecolor\":\"white\",\"ticks\":\"\",\"title\":{\"standoff\":15},\"zerolinecolor\":\"white\",\"automargin\":true,\"zerolinewidth\":2},\"scene\":{\"xaxis\":{\"backgroundcolor\":\"#E5ECF6\",\"gridcolor\":\"white\",\"linecolor\":\"white\",\"showbackground\":true,\"ticks\":\"\",\"zerolinecolor\":\"white\",\"gridwidth\":2},\"yaxis\":{\"backgroundcolor\":\"#E5ECF6\",\"gridcolor\":\"white\",\"linecolor\":\"white\",\"showbackground\":true,\"ticks\":\"\",\"zerolinecolor\":\"white\",\"gridwidth\":2},\"zaxis\":{\"backgroundcolor\":\"#E5ECF6\",\"gridcolor\":\"white\",\"linecolor\":\"white\",\"showbackground\":true,\"ticks\":\"\",\"zerolinecolor\":\"white\",\"gridwidth\":2}},\"shapedefaults\":{\"line\":{\"color\":\"#2a3f5f\"}},\"annotationdefaults\":{\"arrowcolor\":\"#2a3f5f\",\"arrowhead\":0,\"arrowwidth\":1},\"geo\":{\"bgcolor\":\"white\",\"landcolor\":\"#E5ECF6\",\"subunitcolor\":\"white\",\"showland\":true,\"showlakes\":true,\"lakecolor\":\"white\"},\"title\":{\"x\":0.05},\"mapbox\":{\"style\":\"light\"}}},\"xaxis\":{\"anchor\":\"y\",\"domain\":[0.0,1.0],\"title\":{\"text\":\"x\"}},\"yaxis\":{\"anchor\":\"x\",\"domain\":[0.0,1.0],\"title\":{\"text\":\"count\"}},\"legend\":{\"title\":{\"text\":\"color\"},\"tracegroupgap\":0},\"title\":{\"text\":\"Income distribution by approval status\"},\"barmode\":\"relative\"},                        {\"responsive\": true}                    ).then(function(){\n",
       "                            \n",
       "var gd = document.getElementById('c795d32f-f154-46e8-9b09-f24b7f5be37c');\n",
       "var x = new MutationObserver(function (mutations, observer) {{\n",
       "        var display = window.getComputedStyle(gd).display;\n",
       "        if (!display || display === 'none') {{\n",
       "            console.log([gd, 'removed!']);\n",
       "            Plotly.purge(gd);\n",
       "            observer.disconnect();\n",
       "        }}\n",
       "}});\n",
       "\n",
       "// Listen for the removal of the full notebook cells\n",
       "var notebookContainer = gd.closest('#notebook-container');\n",
       "if (notebookContainer) {{\n",
       "    x.observe(notebookContainer, {childList: true});\n",
       "}}\n",
       "\n",
       "// Listen for the clearing of the current output cell\n",
       "var outputEl = gd.closest('.output');\n",
       "if (outputEl) {{\n",
       "    x.observe(outputEl, {childList: true});\n",
       "}}\n",
       "\n",
       "                        })                };                });            </script>        </div>"
      ]
     },
     "metadata": {},
     "output_type": "display_data"
    }
   ],
   "source": [
    "fig = px.histogram(  x = df['Annual_income'] ,title = \"Income distribution by approval status\", color = df['Approved_status'] )\n",
    "fig.show()"
   ]
  },
  {
   "cell_type": "code",
   "execution_count": 820,
   "id": "63540055",
   "metadata": {},
   "outputs": [
    {
     "data": {
      "application/vnd.plotly.v1+json": {
       "config": {
        "plotlyServerURL": "https://plot.ly"
       },
       "data": [
        {
         "alignmentgroup": "True",
         "bingroup": "x",
         "hovertemplate": "color=0<br>x=%{x}<br>count=%{y}<extra></extra>",
         "legendgroup": "0",
         "marker": {
          "color": "#636efa",
          "pattern": {
           "shape": ""
          }
         },
         "name": "0",
         "offsetgroup": "0",
         "orientation": "v",
         "showlegend": true,
         "type": "histogram",
         "x": [
          2,
          1,
          2,
          1,
          2,
          1,
          1,
          1,
          2,
          2,
          2,
          2,
          2,
          2,
          2,
          1,
          2,
          2,
          2,
          2,
          1,
          2,
          1,
          1,
          2,
          2,
          1,
          1,
          2,
          2,
          2,
          3,
          2,
          2,
          3,
          1,
          1,
          2,
          2,
          3,
          1,
          2,
          2,
          2,
          1,
          2,
          3,
          2,
          3,
          3,
          3,
          2,
          3,
          3,
          2,
          2,
          2,
          2,
          1,
          1,
          4,
          2,
          2,
          3,
          2,
          2,
          2,
          2,
          2,
          2,
          2,
          1,
          1,
          2,
          3,
          1,
          2,
          2,
          4,
          4,
          2,
          5,
          2,
          2,
          2,
          2,
          2,
          4,
          5,
          2,
          2,
          2,
          2,
          4,
          2,
          2,
          3,
          2,
          4,
          1,
          2,
          4,
          3,
          3,
          1,
          4,
          4,
          1,
          3,
          1,
          2,
          2,
          2,
          4,
          4,
          3,
          2,
          2,
          2,
          4,
          1,
          1,
          1,
          5,
          2,
          2,
          4,
          4,
          4,
          4,
          4,
          2,
          2,
          3,
          2,
          2,
          2,
          2,
          2,
          4,
          1,
          2,
          2,
          1,
          3,
          2,
          3,
          2,
          1,
          2,
          3,
          3,
          2,
          1,
          2,
          4,
          2,
          2,
          2,
          1,
          2,
          1,
          1,
          1,
          2,
          2,
          2,
          2,
          3,
          3,
          2,
          3,
          2,
          2,
          2,
          2,
          2,
          2,
          4,
          2,
          2,
          2,
          2,
          3,
          2,
          4,
          2,
          2,
          2,
          2,
          1,
          3,
          2,
          3,
          2,
          2,
          4,
          3,
          2,
          3,
          2,
          2,
          2,
          4,
          1,
          2,
          2,
          2,
          3,
          3,
          2,
          3,
          2,
          2,
          3,
          3,
          2,
          2,
          2,
          1,
          2,
          2,
          2,
          3,
          1,
          1,
          1,
          1,
          3,
          2,
          2,
          2,
          2,
          2,
          3,
          2,
          2,
          2,
          3,
          3,
          2,
          4,
          2,
          2,
          3,
          3,
          2,
          2,
          3,
          2,
          2,
          2,
          4,
          2,
          3,
          4,
          4,
          5,
          3,
          2,
          2,
          2,
          2,
          2,
          3,
          2,
          2,
          4,
          3,
          2,
          3,
          3,
          2,
          5,
          3,
          3,
          3,
          2,
          1,
          2,
          5,
          3,
          2,
          2,
          1,
          3,
          2,
          2,
          2,
          4,
          2,
          2,
          1,
          2,
          1,
          3,
          3,
          2,
          5,
          2,
          3,
          2,
          2,
          5,
          2,
          2,
          2,
          2,
          4,
          4,
          2,
          3,
          2,
          2,
          3,
          2,
          2,
          3,
          2,
          2,
          4,
          3,
          3,
          2,
          2,
          2,
          1,
          2,
          1,
          2,
          2,
          3,
          3,
          3,
          3,
          1,
          1,
          1,
          1,
          2,
          2,
          2,
          3,
          1,
          2,
          2,
          3,
          3,
          2,
          2,
          2,
          2,
          2,
          2,
          2,
          2,
          4,
          2,
          2,
          2,
          2,
          1,
          1,
          2,
          2,
          2,
          4,
          2,
          3,
          1,
          2,
          4,
          1,
          2,
          2,
          1,
          1,
          3,
          2,
          3,
          2,
          3,
          2,
          4,
          1,
          1,
          2,
          2,
          2,
          2,
          2,
          3,
          2,
          2,
          2,
          3,
          3,
          2,
          2,
          2,
          2,
          3,
          3,
          3,
          3,
          2,
          2,
          4,
          1,
          2,
          3,
          4,
          3,
          2,
          2,
          2,
          1,
          2,
          3,
          4,
          2,
          2,
          2,
          2,
          2,
          3,
          2,
          3,
          2,
          3,
          2,
          2,
          2,
          2,
          2,
          4,
          3,
          3,
          2,
          2,
          4,
          1,
          1,
          3,
          2,
          2,
          3,
          3,
          2,
          2,
          2,
          3,
          1,
          2,
          4,
          2,
          1,
          3,
          2,
          3,
          4,
          3,
          1,
          2,
          2,
          3,
          2,
          4,
          2,
          3,
          3,
          1,
          3,
          3,
          3,
          2,
          2,
          3,
          2,
          2,
          4,
          4,
          2,
          1,
          1,
          2,
          3,
          2,
          2,
          1,
          2,
          1,
          2,
          2,
          2,
          2,
          2,
          2,
          1,
          1,
          1,
          1,
          4,
          2,
          2,
          2,
          2,
          2,
          4,
          1,
          2,
          2,
          2,
          3,
          2,
          2,
          2,
          3,
          2,
          2,
          2,
          4,
          2,
          2,
          3,
          2,
          2,
          2,
          4,
          2,
          3,
          2,
          3,
          2,
          2,
          2,
          3,
          1,
          2,
          3,
          3,
          2,
          2,
          2,
          2,
          2,
          2,
          1,
          4,
          3,
          5,
          3,
          2,
          4,
          4,
          2,
          4,
          2,
          2,
          2,
          4,
          2,
          1,
          1,
          2,
          4,
          1,
          1,
          1,
          2,
          2,
          3,
          3,
          1,
          3,
          4,
          3,
          1,
          1,
          1,
          3,
          1,
          1,
          1,
          1,
          1,
          2,
          2,
          2,
          2,
          3,
          2,
          3,
          3,
          5,
          1,
          3,
          3,
          2,
          2,
          2,
          3,
          1,
          2,
          2,
          3,
          1,
          1,
          3,
          2,
          2,
          3,
          3,
          3,
          2,
          1,
          1,
          1,
          4,
          4,
          2,
          2,
          2,
          2,
          2,
          2,
          1,
          1,
          2,
          2,
          4,
          2,
          2,
          2,
          2,
          1,
          1,
          2,
          2,
          2,
          2,
          2,
          2,
          1,
          2,
          3,
          1,
          2,
          2,
          2,
          2,
          3,
          3,
          3,
          2,
          2,
          2,
          3,
          2,
          2,
          4,
          2,
          3,
          15,
          2,
          2,
          2,
          3,
          2,
          2,
          3,
          4,
          3,
          3,
          2,
          5,
          4,
          2,
          3,
          2,
          2,
          2,
          2,
          2,
          2,
          4,
          2,
          2,
          2,
          4,
          3,
          3,
          2,
          3,
          2,
          2,
          3,
          2,
          1,
          1,
          1,
          1,
          1,
          3,
          1,
          3,
          4,
          2,
          2,
          2,
          3,
          2,
          2,
          2,
          2,
          4,
          1,
          1,
          2,
          2,
          2,
          2,
          5,
          4,
          1,
          1,
          1,
          1,
          1,
          2,
          4,
          1,
          2,
          1,
          1,
          3,
          1,
          1,
          1,
          3,
          2,
          2,
          3,
          3,
          2,
          1,
          3,
          1,
          2,
          2,
          3,
          3,
          3,
          2,
          4,
          2,
          2,
          2,
          1,
          3,
          2,
          1,
          1,
          2,
          4,
          3,
          3,
          2,
          1,
          3,
          2,
          1,
          2,
          3,
          2,
          4,
          3,
          1,
          1,
          2,
          2,
          1,
          2,
          3,
          3,
          4,
          4,
          4,
          1,
          2,
          1,
          2,
          1,
          2,
          1,
          2,
          2,
          2,
          2,
          2,
          2,
          3,
          3,
          2,
          3,
          1,
          4,
          4,
          1,
          1,
          2,
          2,
          2,
          2,
          4,
          2,
          1,
          3,
          3,
          3,
          1,
          2,
          2,
          2,
          4,
          3,
          3,
          2,
          2,
          4,
          2,
          1,
          4,
          1,
          1,
          2,
          2,
          4,
          2,
          2,
          2,
          2,
          3,
          3,
          1,
          1,
          1,
          4,
          2,
          2,
          2,
          2,
          1,
          2,
          3,
          1,
          2,
          2,
          1,
          2,
          1,
          1,
          2,
          2,
          2,
          2,
          2,
          4,
          4,
          4,
          2,
          3,
          3,
          3,
          2,
          2,
          2,
          3,
          2,
          1,
          2,
          2,
          2,
          2,
          1,
          3,
          4,
          3,
          1,
          2,
          1,
          1,
          2,
          1,
          2,
          2,
          3,
          1,
          2,
          2,
          2,
          1,
          1,
          3,
          2,
          2,
          3,
          3,
          2,
          3,
          1,
          2,
          2,
          2,
          2,
          2,
          3,
          2,
          2,
          2,
          1,
          2,
          3,
          1,
          2,
          4,
          2,
          3,
          2,
          2,
          2,
          2,
          4,
          2,
          3,
          2,
          3,
          3,
          4,
          4,
          3,
          4,
          4,
          1,
          2,
          3,
          2,
          2,
          1,
          1,
          2,
          3,
          3,
          2,
          2,
          1,
          2,
          1,
          1,
          2,
          3,
          2,
          2,
          3,
          2,
          2,
          2,
          4,
          2,
          2,
          2,
          2,
          2,
          2,
          4,
          2,
          2,
          1,
          3,
          4,
          1,
          1,
          1,
          1,
          2,
          1,
          2,
          2,
          1,
          1,
          4,
          3,
          4,
          1,
          2,
          3,
          3,
          1,
          1,
          1,
          2,
          2,
          2,
          2,
          2,
          2,
          3,
          4,
          2,
          2,
          2,
          2,
          4,
          2,
          2,
          2,
          2,
          3,
          2,
          4,
          1,
          4,
          4,
          2,
          3,
          2,
          5,
          2,
          2,
          1,
          3,
          2,
          4,
          1,
          3,
          2,
          2,
          1,
          3,
          3,
          2,
          2,
          5,
          2,
          2,
          1,
          3,
          4,
          3,
          1,
          1,
          1,
          1,
          3,
          2,
          2,
          1,
          2,
          2,
          2,
          2,
          2,
          1,
          4,
          2,
          3,
          2,
          2,
          1,
          1,
          2,
          2,
          1,
          2,
          4,
          2,
          4,
          4,
          2,
          3,
          3,
          2,
          3,
          2,
          2,
          2,
          1,
          1,
          2,
          2,
          3,
          2,
          2,
          4,
          2,
          3,
          2,
          3,
          2,
          2,
          1,
          3,
          3,
          1,
          2,
          1,
          2,
          3,
          2,
          3,
          4,
          2,
          2,
          1,
          2,
          1,
          3,
          2,
          3,
          3,
          2,
          3,
          2,
          2,
          2,
          3,
          2,
          2,
          4,
          3,
          3,
          3,
          2,
          3,
          3,
          3,
          2,
          4,
          4,
          2,
          2,
          4,
          1,
          4,
          3,
          2,
          4,
          1,
          2,
          2,
          1,
          2,
          2,
          1,
          2,
          1,
          2,
          2,
          2,
          1,
          1,
          2,
          1,
          1,
          1,
          2,
          2,
          1,
          1,
          2,
          2,
          2,
          1,
          1,
          2,
          1,
          1,
          1,
          1,
          2,
          1,
          2,
          1,
          2,
          1,
          2,
          2,
          2,
          1,
          2,
          1,
          2,
          2,
          2,
          1,
          1,
          2,
          1,
          1,
          2,
          2,
          1,
          2,
          2,
          2,
          2,
          2,
          2,
          1,
          2,
          1,
          1,
          2,
          2,
          2,
          1,
          2,
          2,
          2,
          2,
          2,
          2,
          1,
          2,
          2,
          2,
          1,
          1,
          1,
          2,
          1,
          2,
          2,
          1,
          2,
          2,
          2,
          2,
          1,
          1,
          2,
          2,
          1,
          2,
          2,
          1,
          2,
          1,
          2,
          2,
          2,
          1,
          2,
          1,
          1,
          1,
          1,
          1,
          1,
          1,
          1,
          1,
          1,
          2,
          2,
          1,
          2,
          1,
          2,
          2,
          2,
          2,
          2,
          2,
          1,
          2,
          2,
          2,
          2,
          2,
          1,
          2,
          1,
          2,
          2,
          2,
          1,
          2,
          2,
          2,
          1,
          2,
          2,
          2,
          2,
          1,
          1,
          1,
          1,
          1,
          2,
          1,
          2,
          2,
          1,
          1,
          2,
          2,
          1,
          2,
          2,
          1,
          2,
          1,
          2,
          2,
          2,
          2,
          1,
          2,
          2,
          2,
          2,
          3,
          2,
          1,
          2,
          1,
          1,
          1,
          2,
          1,
          1,
          1,
          2,
          2,
          1,
          1,
          2,
          2,
          2,
          2,
          1,
          1,
          2,
          1,
          2,
          2,
          2,
          2,
          3,
          2,
          2,
          2,
          3,
          3,
          2,
          3,
          2,
          1,
          1,
          1,
          2,
          2,
          2,
          2,
          3,
          2,
          5,
          2,
          2,
          2,
          2
         ],
         "xaxis": "x",
         "yaxis": "y"
        },
        {
         "alignmentgroup": "True",
         "bingroup": "x",
         "hovertemplate": "color=1<br>x=%{x}<br>count=%{y}<extra></extra>",
         "legendgroup": "1",
         "marker": {
          "color": "#EF553B",
          "pattern": {
           "shape": ""
          }
         },
         "name": "1",
         "offsetgroup": "1",
         "orientation": "v",
         "showlegend": true,
         "type": "histogram",
         "x": [
          4,
          4,
          2,
          2,
          6,
          4,
          2,
          2,
          2,
          3,
          4,
          2,
          1,
          4,
          4,
          4,
          3,
          2,
          3,
          2,
          3,
          3,
          2,
          2,
          2,
          2,
          2,
          2,
          2,
          2,
          2,
          3,
          2,
          2,
          1,
          1,
          2,
          3,
          1,
          3,
          3,
          1,
          2,
          3,
          1,
          1,
          1,
          4,
          3,
          3,
          2,
          2,
          2,
          2,
          2,
          3,
          1,
          2,
          3,
          2,
          3,
          1,
          2,
          2,
          2,
          2,
          2,
          2,
          2,
          2,
          3,
          3,
          3,
          2,
          2,
          2,
          2,
          2,
          2,
          2,
          2,
          3,
          3,
          4,
          1,
          3,
          2,
          2,
          3,
          3,
          1,
          1,
          2,
          1,
          2,
          2,
          2,
          3,
          3,
          1,
          2,
          2,
          1,
          1,
          2,
          2,
          2,
          2,
          2,
          2,
          1,
          1,
          2,
          2,
          2,
          2,
          2,
          4,
          1,
          1,
          1,
          3,
          3,
          3,
          1,
          1,
          1,
          3,
          1,
          2,
          2,
          2,
          2,
          1,
          2,
          1,
          2,
          2,
          2,
          2,
          1,
          1,
          1,
          1,
          1,
          2,
          2,
          2,
          1,
          1,
          1,
          1,
          1,
          2,
          2,
          2,
          2,
          1,
          2,
          2,
          2,
          2,
          2,
          2,
          2,
          2,
          2,
          2,
          2,
          2,
          2,
          2,
          2,
          2,
          2
         ],
         "xaxis": "x",
         "yaxis": "y"
        }
       ],
       "layout": {
        "barmode": "relative",
        "legend": {
         "title": {
          "text": "color"
         },
         "tracegroupgap": 0
        },
        "template": {
         "data": {
          "bar": [
           {
            "error_x": {
             "color": "#2a3f5f"
            },
            "error_y": {
             "color": "#2a3f5f"
            },
            "marker": {
             "line": {
              "color": "#E5ECF6",
              "width": 0.5
             },
             "pattern": {
              "fillmode": "overlay",
              "size": 10,
              "solidity": 0.2
             }
            },
            "type": "bar"
           }
          ],
          "barpolar": [
           {
            "marker": {
             "line": {
              "color": "#E5ECF6",
              "width": 0.5
             },
             "pattern": {
              "fillmode": "overlay",
              "size": 10,
              "solidity": 0.2
             }
            },
            "type": "barpolar"
           }
          ],
          "carpet": [
           {
            "aaxis": {
             "endlinecolor": "#2a3f5f",
             "gridcolor": "white",
             "linecolor": "white",
             "minorgridcolor": "white",
             "startlinecolor": "#2a3f5f"
            },
            "baxis": {
             "endlinecolor": "#2a3f5f",
             "gridcolor": "white",
             "linecolor": "white",
             "minorgridcolor": "white",
             "startlinecolor": "#2a3f5f"
            },
            "type": "carpet"
           }
          ],
          "choropleth": [
           {
            "colorbar": {
             "outlinewidth": 0,
             "ticks": ""
            },
            "type": "choropleth"
           }
          ],
          "contour": [
           {
            "colorbar": {
             "outlinewidth": 0,
             "ticks": ""
            },
            "colorscale": [
             [
              0,
              "#0d0887"
             ],
             [
              0.1111111111111111,
              "#46039f"
             ],
             [
              0.2222222222222222,
              "#7201a8"
             ],
             [
              0.3333333333333333,
              "#9c179e"
             ],
             [
              0.4444444444444444,
              "#bd3786"
             ],
             [
              0.5555555555555556,
              "#d8576b"
             ],
             [
              0.6666666666666666,
              "#ed7953"
             ],
             [
              0.7777777777777778,
              "#fb9f3a"
             ],
             [
              0.8888888888888888,
              "#fdca26"
             ],
             [
              1,
              "#f0f921"
             ]
            ],
            "type": "contour"
           }
          ],
          "contourcarpet": [
           {
            "colorbar": {
             "outlinewidth": 0,
             "ticks": ""
            },
            "type": "contourcarpet"
           }
          ],
          "heatmap": [
           {
            "colorbar": {
             "outlinewidth": 0,
             "ticks": ""
            },
            "colorscale": [
             [
              0,
              "#0d0887"
             ],
             [
              0.1111111111111111,
              "#46039f"
             ],
             [
              0.2222222222222222,
              "#7201a8"
             ],
             [
              0.3333333333333333,
              "#9c179e"
             ],
             [
              0.4444444444444444,
              "#bd3786"
             ],
             [
              0.5555555555555556,
              "#d8576b"
             ],
             [
              0.6666666666666666,
              "#ed7953"
             ],
             [
              0.7777777777777778,
              "#fb9f3a"
             ],
             [
              0.8888888888888888,
              "#fdca26"
             ],
             [
              1,
              "#f0f921"
             ]
            ],
            "type": "heatmap"
           }
          ],
          "heatmapgl": [
           {
            "colorbar": {
             "outlinewidth": 0,
             "ticks": ""
            },
            "colorscale": [
             [
              0,
              "#0d0887"
             ],
             [
              0.1111111111111111,
              "#46039f"
             ],
             [
              0.2222222222222222,
              "#7201a8"
             ],
             [
              0.3333333333333333,
              "#9c179e"
             ],
             [
              0.4444444444444444,
              "#bd3786"
             ],
             [
              0.5555555555555556,
              "#d8576b"
             ],
             [
              0.6666666666666666,
              "#ed7953"
             ],
             [
              0.7777777777777778,
              "#fb9f3a"
             ],
             [
              0.8888888888888888,
              "#fdca26"
             ],
             [
              1,
              "#f0f921"
             ]
            ],
            "type": "heatmapgl"
           }
          ],
          "histogram": [
           {
            "marker": {
             "pattern": {
              "fillmode": "overlay",
              "size": 10,
              "solidity": 0.2
             }
            },
            "type": "histogram"
           }
          ],
          "histogram2d": [
           {
            "colorbar": {
             "outlinewidth": 0,
             "ticks": ""
            },
            "colorscale": [
             [
              0,
              "#0d0887"
             ],
             [
              0.1111111111111111,
              "#46039f"
             ],
             [
              0.2222222222222222,
              "#7201a8"
             ],
             [
              0.3333333333333333,
              "#9c179e"
             ],
             [
              0.4444444444444444,
              "#bd3786"
             ],
             [
              0.5555555555555556,
              "#d8576b"
             ],
             [
              0.6666666666666666,
              "#ed7953"
             ],
             [
              0.7777777777777778,
              "#fb9f3a"
             ],
             [
              0.8888888888888888,
              "#fdca26"
             ],
             [
              1,
              "#f0f921"
             ]
            ],
            "type": "histogram2d"
           }
          ],
          "histogram2dcontour": [
           {
            "colorbar": {
             "outlinewidth": 0,
             "ticks": ""
            },
            "colorscale": [
             [
              0,
              "#0d0887"
             ],
             [
              0.1111111111111111,
              "#46039f"
             ],
             [
              0.2222222222222222,
              "#7201a8"
             ],
             [
              0.3333333333333333,
              "#9c179e"
             ],
             [
              0.4444444444444444,
              "#bd3786"
             ],
             [
              0.5555555555555556,
              "#d8576b"
             ],
             [
              0.6666666666666666,
              "#ed7953"
             ],
             [
              0.7777777777777778,
              "#fb9f3a"
             ],
             [
              0.8888888888888888,
              "#fdca26"
             ],
             [
              1,
              "#f0f921"
             ]
            ],
            "type": "histogram2dcontour"
           }
          ],
          "mesh3d": [
           {
            "colorbar": {
             "outlinewidth": 0,
             "ticks": ""
            },
            "type": "mesh3d"
           }
          ],
          "parcoords": [
           {
            "line": {
             "colorbar": {
              "outlinewidth": 0,
              "ticks": ""
             }
            },
            "type": "parcoords"
           }
          ],
          "pie": [
           {
            "automargin": true,
            "type": "pie"
           }
          ],
          "scatter": [
           {
            "fillpattern": {
             "fillmode": "overlay",
             "size": 10,
             "solidity": 0.2
            },
            "type": "scatter"
           }
          ],
          "scatter3d": [
           {
            "line": {
             "colorbar": {
              "outlinewidth": 0,
              "ticks": ""
             }
            },
            "marker": {
             "colorbar": {
              "outlinewidth": 0,
              "ticks": ""
             }
            },
            "type": "scatter3d"
           }
          ],
          "scattercarpet": [
           {
            "marker": {
             "colorbar": {
              "outlinewidth": 0,
              "ticks": ""
             }
            },
            "type": "scattercarpet"
           }
          ],
          "scattergeo": [
           {
            "marker": {
             "colorbar": {
              "outlinewidth": 0,
              "ticks": ""
             }
            },
            "type": "scattergeo"
           }
          ],
          "scattergl": [
           {
            "marker": {
             "colorbar": {
              "outlinewidth": 0,
              "ticks": ""
             }
            },
            "type": "scattergl"
           }
          ],
          "scattermapbox": [
           {
            "marker": {
             "colorbar": {
              "outlinewidth": 0,
              "ticks": ""
             }
            },
            "type": "scattermapbox"
           }
          ],
          "scatterpolar": [
           {
            "marker": {
             "colorbar": {
              "outlinewidth": 0,
              "ticks": ""
             }
            },
            "type": "scatterpolar"
           }
          ],
          "scatterpolargl": [
           {
            "marker": {
             "colorbar": {
              "outlinewidth": 0,
              "ticks": ""
             }
            },
            "type": "scatterpolargl"
           }
          ],
          "scatterternary": [
           {
            "marker": {
             "colorbar": {
              "outlinewidth": 0,
              "ticks": ""
             }
            },
            "type": "scatterternary"
           }
          ],
          "surface": [
           {
            "colorbar": {
             "outlinewidth": 0,
             "ticks": ""
            },
            "colorscale": [
             [
              0,
              "#0d0887"
             ],
             [
              0.1111111111111111,
              "#46039f"
             ],
             [
              0.2222222222222222,
              "#7201a8"
             ],
             [
              0.3333333333333333,
              "#9c179e"
             ],
             [
              0.4444444444444444,
              "#bd3786"
             ],
             [
              0.5555555555555556,
              "#d8576b"
             ],
             [
              0.6666666666666666,
              "#ed7953"
             ],
             [
              0.7777777777777778,
              "#fb9f3a"
             ],
             [
              0.8888888888888888,
              "#fdca26"
             ],
             [
              1,
              "#f0f921"
             ]
            ],
            "type": "surface"
           }
          ],
          "table": [
           {
            "cells": {
             "fill": {
              "color": "#EBF0F8"
             },
             "line": {
              "color": "white"
             }
            },
            "header": {
             "fill": {
              "color": "#C8D4E3"
             },
             "line": {
              "color": "white"
             }
            },
            "type": "table"
           }
          ]
         },
         "layout": {
          "annotationdefaults": {
           "arrowcolor": "#2a3f5f",
           "arrowhead": 0,
           "arrowwidth": 1
          },
          "autotypenumbers": "strict",
          "coloraxis": {
           "colorbar": {
            "outlinewidth": 0,
            "ticks": ""
           }
          },
          "colorscale": {
           "diverging": [
            [
             0,
             "#8e0152"
            ],
            [
             0.1,
             "#c51b7d"
            ],
            [
             0.2,
             "#de77ae"
            ],
            [
             0.3,
             "#f1b6da"
            ],
            [
             0.4,
             "#fde0ef"
            ],
            [
             0.5,
             "#f7f7f7"
            ],
            [
             0.6,
             "#e6f5d0"
            ],
            [
             0.7,
             "#b8e186"
            ],
            [
             0.8,
             "#7fbc41"
            ],
            [
             0.9,
             "#4d9221"
            ],
            [
             1,
             "#276419"
            ]
           ],
           "sequential": [
            [
             0,
             "#0d0887"
            ],
            [
             0.1111111111111111,
             "#46039f"
            ],
            [
             0.2222222222222222,
             "#7201a8"
            ],
            [
             0.3333333333333333,
             "#9c179e"
            ],
            [
             0.4444444444444444,
             "#bd3786"
            ],
            [
             0.5555555555555556,
             "#d8576b"
            ],
            [
             0.6666666666666666,
             "#ed7953"
            ],
            [
             0.7777777777777778,
             "#fb9f3a"
            ],
            [
             0.8888888888888888,
             "#fdca26"
            ],
            [
             1,
             "#f0f921"
            ]
           ],
           "sequentialminus": [
            [
             0,
             "#0d0887"
            ],
            [
             0.1111111111111111,
             "#46039f"
            ],
            [
             0.2222222222222222,
             "#7201a8"
            ],
            [
             0.3333333333333333,
             "#9c179e"
            ],
            [
             0.4444444444444444,
             "#bd3786"
            ],
            [
             0.5555555555555556,
             "#d8576b"
            ],
            [
             0.6666666666666666,
             "#ed7953"
            ],
            [
             0.7777777777777778,
             "#fb9f3a"
            ],
            [
             0.8888888888888888,
             "#fdca26"
            ],
            [
             1,
             "#f0f921"
            ]
           ]
          },
          "colorway": [
           "#636efa",
           "#EF553B",
           "#00cc96",
           "#ab63fa",
           "#FFA15A",
           "#19d3f3",
           "#FF6692",
           "#B6E880",
           "#FF97FF",
           "#FECB52"
          ],
          "font": {
           "color": "#2a3f5f"
          },
          "geo": {
           "bgcolor": "white",
           "lakecolor": "white",
           "landcolor": "#E5ECF6",
           "showlakes": true,
           "showland": true,
           "subunitcolor": "white"
          },
          "hoverlabel": {
           "align": "left"
          },
          "hovermode": "closest",
          "mapbox": {
           "style": "light"
          },
          "paper_bgcolor": "white",
          "plot_bgcolor": "#E5ECF6",
          "polar": {
           "angularaxis": {
            "gridcolor": "white",
            "linecolor": "white",
            "ticks": ""
           },
           "bgcolor": "#E5ECF6",
           "radialaxis": {
            "gridcolor": "white",
            "linecolor": "white",
            "ticks": ""
           }
          },
          "scene": {
           "xaxis": {
            "backgroundcolor": "#E5ECF6",
            "gridcolor": "white",
            "gridwidth": 2,
            "linecolor": "white",
            "showbackground": true,
            "ticks": "",
            "zerolinecolor": "white"
           },
           "yaxis": {
            "backgroundcolor": "#E5ECF6",
            "gridcolor": "white",
            "gridwidth": 2,
            "linecolor": "white",
            "showbackground": true,
            "ticks": "",
            "zerolinecolor": "white"
           },
           "zaxis": {
            "backgroundcolor": "#E5ECF6",
            "gridcolor": "white",
            "gridwidth": 2,
            "linecolor": "white",
            "showbackground": true,
            "ticks": "",
            "zerolinecolor": "white"
           }
          },
          "shapedefaults": {
           "line": {
            "color": "#2a3f5f"
           }
          },
          "ternary": {
           "aaxis": {
            "gridcolor": "white",
            "linecolor": "white",
            "ticks": ""
           },
           "baxis": {
            "gridcolor": "white",
            "linecolor": "white",
            "ticks": ""
           },
           "bgcolor": "#E5ECF6",
           "caxis": {
            "gridcolor": "white",
            "linecolor": "white",
            "ticks": ""
           }
          },
          "title": {
           "x": 0.05
          },
          "xaxis": {
           "automargin": true,
           "gridcolor": "white",
           "linecolor": "white",
           "ticks": "",
           "title": {
            "standoff": 15
           },
           "zerolinecolor": "white",
           "zerolinewidth": 2
          },
          "yaxis": {
           "automargin": true,
           "gridcolor": "white",
           "linecolor": "white",
           "ticks": "",
           "title": {
            "standoff": 15
           },
           "zerolinecolor": "white",
           "zerolinewidth": 2
          }
         }
        },
        "title": {
         "text": "Family_Members distribution by approval status"
        },
        "xaxis": {
         "anchor": "y",
         "domain": [
          0,
          1
         ],
         "title": {
          "text": "x"
         }
        },
        "yaxis": {
         "anchor": "x",
         "domain": [
          0,
          1
         ],
         "title": {
          "text": "count"
         }
        }
       }
      },
      "text/html": [
       "<div>                            <div id=\"4cacd85f-f2aa-4936-b7d9-8b93a5496151\" class=\"plotly-graph-div\" style=\"height:525px; width:100%;\"></div>            <script type=\"text/javascript\">                require([\"plotly\"], function(Plotly) {                    window.PLOTLYENV=window.PLOTLYENV || {};                                    if (document.getElementById(\"4cacd85f-f2aa-4936-b7d9-8b93a5496151\")) {                    Plotly.newPlot(                        \"4cacd85f-f2aa-4936-b7d9-8b93a5496151\",                        [{\"alignmentgroup\":\"True\",\"bingroup\":\"x\",\"hovertemplate\":\"color=0<br>x=%{x}<br>count=%{y}<extra></extra>\",\"legendgroup\":\"0\",\"marker\":{\"color\":\"#636efa\",\"pattern\":{\"shape\":\"\"}},\"name\":\"0\",\"offsetgroup\":\"0\",\"orientation\":\"v\",\"showlegend\":true,\"x\":[2,1,2,1,2,1,1,1,2,2,2,2,2,2,2,1,2,2,2,2,1,2,1,1,2,2,1,1,2,2,2,3,2,2,3,1,1,2,2,3,1,2,2,2,1,2,3,2,3,3,3,2,3,3,2,2,2,2,1,1,4,2,2,3,2,2,2,2,2,2,2,1,1,2,3,1,2,2,4,4,2,5,2,2,2,2,2,4,5,2,2,2,2,4,2,2,3,2,4,1,2,4,3,3,1,4,4,1,3,1,2,2,2,4,4,3,2,2,2,4,1,1,1,5,2,2,4,4,4,4,4,2,2,3,2,2,2,2,2,4,1,2,2,1,3,2,3,2,1,2,3,3,2,1,2,4,2,2,2,1,2,1,1,1,2,2,2,2,3,3,2,3,2,2,2,2,2,2,4,2,2,2,2,3,2,4,2,2,2,2,1,3,2,3,2,2,4,3,2,3,2,2,2,4,1,2,2,2,3,3,2,3,2,2,3,3,2,2,2,1,2,2,2,3,1,1,1,1,3,2,2,2,2,2,3,2,2,2,3,3,2,4,2,2,3,3,2,2,3,2,2,2,4,2,3,4,4,5,3,2,2,2,2,2,3,2,2,4,3,2,3,3,2,5,3,3,3,2,1,2,5,3,2,2,1,3,2,2,2,4,2,2,1,2,1,3,3,2,5,2,3,2,2,5,2,2,2,2,4,4,2,3,2,2,3,2,2,3,2,2,4,3,3,2,2,2,1,2,1,2,2,3,3,3,3,1,1,1,1,2,2,2,3,1,2,2,3,3,2,2,2,2,2,2,2,2,4,2,2,2,2,1,1,2,2,2,4,2,3,1,2,4,1,2,2,1,1,3,2,3,2,3,2,4,1,1,2,2,2,2,2,3,2,2,2,3,3,2,2,2,2,3,3,3,3,2,2,4,1,2,3,4,3,2,2,2,1,2,3,4,2,2,2,2,2,3,2,3,2,3,2,2,2,2,2,4,3,3,2,2,4,1,1,3,2,2,3,3,2,2,2,3,1,2,4,2,1,3,2,3,4,3,1,2,2,3,2,4,2,3,3,1,3,3,3,2,2,3,2,2,4,4,2,1,1,2,3,2,2,1,2,1,2,2,2,2,2,2,1,1,1,1,4,2,2,2,2,2,4,1,2,2,2,3,2,2,2,3,2,2,2,4,2,2,3,2,2,2,4,2,3,2,3,2,2,2,3,1,2,3,3,2,2,2,2,2,2,1,4,3,5,3,2,4,4,2,4,2,2,2,4,2,1,1,2,4,1,1,1,2,2,3,3,1,3,4,3,1,1,1,3,1,1,1,1,1,2,2,2,2,3,2,3,3,5,1,3,3,2,2,2,3,1,2,2,3,1,1,3,2,2,3,3,3,2,1,1,1,4,4,2,2,2,2,2,2,1,1,2,2,4,2,2,2,2,1,1,2,2,2,2,2,2,1,2,3,1,2,2,2,2,3,3,3,2,2,2,3,2,2,4,2,3,15,2,2,2,3,2,2,3,4,3,3,2,5,4,2,3,2,2,2,2,2,2,4,2,2,2,4,3,3,2,3,2,2,3,2,1,1,1,1,1,3,1,3,4,2,2,2,3,2,2,2,2,4,1,1,2,2,2,2,5,4,1,1,1,1,1,2,4,1,2,1,1,3,1,1,1,3,2,2,3,3,2,1,3,1,2,2,3,3,3,2,4,2,2,2,1,3,2,1,1,2,4,3,3,2,1,3,2,1,2,3,2,4,3,1,1,2,2,1,2,3,3,4,4,4,1,2,1,2,1,2,1,2,2,2,2,2,2,3,3,2,3,1,4,4,1,1,2,2,2,2,4,2,1,3,3,3,1,2,2,2,4,3,3,2,2,4,2,1,4,1,1,2,2,4,2,2,2,2,3,3,1,1,1,4,2,2,2,2,1,2,3,1,2,2,1,2,1,1,2,2,2,2,2,4,4,4,2,3,3,3,2,2,2,3,2,1,2,2,2,2,1,3,4,3,1,2,1,1,2,1,2,2,3,1,2,2,2,1,1,3,2,2,3,3,2,3,1,2,2,2,2,2,3,2,2,2,1,2,3,1,2,4,2,3,2,2,2,2,4,2,3,2,3,3,4,4,3,4,4,1,2,3,2,2,1,1,2,3,3,2,2,1,2,1,1,2,3,2,2,3,2,2,2,4,2,2,2,2,2,2,4,2,2,1,3,4,1,1,1,1,2,1,2,2,1,1,4,3,4,1,2,3,3,1,1,1,2,2,2,2,2,2,3,4,2,2,2,2,4,2,2,2,2,3,2,4,1,4,4,2,3,2,5,2,2,1,3,2,4,1,3,2,2,1,3,3,2,2,5,2,2,1,3,4,3,1,1,1,1,3,2,2,1,2,2,2,2,2,1,4,2,3,2,2,1,1,2,2,1,2,4,2,4,4,2,3,3,2,3,2,2,2,1,1,2,2,3,2,2,4,2,3,2,3,2,2,1,3,3,1,2,1,2,3,2,3,4,2,2,1,2,1,3,2,3,3,2,3,2,2,2,3,2,2,4,3,3,3,2,3,3,3,2,4,4,2,2,4,1,4,3,2,4,1,2,2,1,2,2,1,2,1,2,2,2,1,1,2,1,1,1,2,2,1,1,2,2,2,1,1,2,1,1,1,1,2,1,2,1,2,1,2,2,2,1,2,1,2,2,2,1,1,2,1,1,2,2,1,2,2,2,2,2,2,1,2,1,1,2,2,2,1,2,2,2,2,2,2,1,2,2,2,1,1,1,2,1,2,2,1,2,2,2,2,1,1,2,2,1,2,2,1,2,1,2,2,2,1,2,1,1,1,1,1,1,1,1,1,1,2,2,1,2,1,2,2,2,2,2,2,1,2,2,2,2,2,1,2,1,2,2,2,1,2,2,2,1,2,2,2,2,1,1,1,1,1,2,1,2,2,1,1,2,2,1,2,2,1,2,1,2,2,2,2,1,2,2,2,2,3,2,1,2,1,1,1,2,1,1,1,2,2,1,1,2,2,2,2,1,1,2,1,2,2,2,2,3,2,2,2,3,3,2,3,2,1,1,1,2,2,2,2,3,2,5,2,2,2,2],\"xaxis\":\"x\",\"yaxis\":\"y\",\"type\":\"histogram\"},{\"alignmentgroup\":\"True\",\"bingroup\":\"x\",\"hovertemplate\":\"color=1<br>x=%{x}<br>count=%{y}<extra></extra>\",\"legendgroup\":\"1\",\"marker\":{\"color\":\"#EF553B\",\"pattern\":{\"shape\":\"\"}},\"name\":\"1\",\"offsetgroup\":\"1\",\"orientation\":\"v\",\"showlegend\":true,\"x\":[4,4,2,2,6,4,2,2,2,3,4,2,1,4,4,4,3,2,3,2,3,3,2,2,2,2,2,2,2,2,2,3,2,2,1,1,2,3,1,3,3,1,2,3,1,1,1,4,3,3,2,2,2,2,2,3,1,2,3,2,3,1,2,2,2,2,2,2,2,2,3,3,3,2,2,2,2,2,2,2,2,3,3,4,1,3,2,2,3,3,1,1,2,1,2,2,2,3,3,1,2,2,1,1,2,2,2,2,2,2,1,1,2,2,2,2,2,4,1,1,1,3,3,3,1,1,1,3,1,2,2,2,2,1,2,1,2,2,2,2,1,1,1,1,1,2,2,2,1,1,1,1,1,2,2,2,2,1,2,2,2,2,2,2,2,2,2,2,2,2,2,2,2,2,2],\"xaxis\":\"x\",\"yaxis\":\"y\",\"type\":\"histogram\"}],                        {\"template\":{\"data\":{\"histogram2dcontour\":[{\"type\":\"histogram2dcontour\",\"colorbar\":{\"outlinewidth\":0,\"ticks\":\"\"},\"colorscale\":[[0.0,\"#0d0887\"],[0.1111111111111111,\"#46039f\"],[0.2222222222222222,\"#7201a8\"],[0.3333333333333333,\"#9c179e\"],[0.4444444444444444,\"#bd3786\"],[0.5555555555555556,\"#d8576b\"],[0.6666666666666666,\"#ed7953\"],[0.7777777777777778,\"#fb9f3a\"],[0.8888888888888888,\"#fdca26\"],[1.0,\"#f0f921\"]]}],\"choropleth\":[{\"type\":\"choropleth\",\"colorbar\":{\"outlinewidth\":0,\"ticks\":\"\"}}],\"histogram2d\":[{\"type\":\"histogram2d\",\"colorbar\":{\"outlinewidth\":0,\"ticks\":\"\"},\"colorscale\":[[0.0,\"#0d0887\"],[0.1111111111111111,\"#46039f\"],[0.2222222222222222,\"#7201a8\"],[0.3333333333333333,\"#9c179e\"],[0.4444444444444444,\"#bd3786\"],[0.5555555555555556,\"#d8576b\"],[0.6666666666666666,\"#ed7953\"],[0.7777777777777778,\"#fb9f3a\"],[0.8888888888888888,\"#fdca26\"],[1.0,\"#f0f921\"]]}],\"heatmap\":[{\"type\":\"heatmap\",\"colorbar\":{\"outlinewidth\":0,\"ticks\":\"\"},\"colorscale\":[[0.0,\"#0d0887\"],[0.1111111111111111,\"#46039f\"],[0.2222222222222222,\"#7201a8\"],[0.3333333333333333,\"#9c179e\"],[0.4444444444444444,\"#bd3786\"],[0.5555555555555556,\"#d8576b\"],[0.6666666666666666,\"#ed7953\"],[0.7777777777777778,\"#fb9f3a\"],[0.8888888888888888,\"#fdca26\"],[1.0,\"#f0f921\"]]}],\"heatmapgl\":[{\"type\":\"heatmapgl\",\"colorbar\":{\"outlinewidth\":0,\"ticks\":\"\"},\"colorscale\":[[0.0,\"#0d0887\"],[0.1111111111111111,\"#46039f\"],[0.2222222222222222,\"#7201a8\"],[0.3333333333333333,\"#9c179e\"],[0.4444444444444444,\"#bd3786\"],[0.5555555555555556,\"#d8576b\"],[0.6666666666666666,\"#ed7953\"],[0.7777777777777778,\"#fb9f3a\"],[0.8888888888888888,\"#fdca26\"],[1.0,\"#f0f921\"]]}],\"contourcarpet\":[{\"type\":\"contourcarpet\",\"colorbar\":{\"outlinewidth\":0,\"ticks\":\"\"}}],\"contour\":[{\"type\":\"contour\",\"colorbar\":{\"outlinewidth\":0,\"ticks\":\"\"},\"colorscale\":[[0.0,\"#0d0887\"],[0.1111111111111111,\"#46039f\"],[0.2222222222222222,\"#7201a8\"],[0.3333333333333333,\"#9c179e\"],[0.4444444444444444,\"#bd3786\"],[0.5555555555555556,\"#d8576b\"],[0.6666666666666666,\"#ed7953\"],[0.7777777777777778,\"#fb9f3a\"],[0.8888888888888888,\"#fdca26\"],[1.0,\"#f0f921\"]]}],\"surface\":[{\"type\":\"surface\",\"colorbar\":{\"outlinewidth\":0,\"ticks\":\"\"},\"colorscale\":[[0.0,\"#0d0887\"],[0.1111111111111111,\"#46039f\"],[0.2222222222222222,\"#7201a8\"],[0.3333333333333333,\"#9c179e\"],[0.4444444444444444,\"#bd3786\"],[0.5555555555555556,\"#d8576b\"],[0.6666666666666666,\"#ed7953\"],[0.7777777777777778,\"#fb9f3a\"],[0.8888888888888888,\"#fdca26\"],[1.0,\"#f0f921\"]]}],\"mesh3d\":[{\"type\":\"mesh3d\",\"colorbar\":{\"outlinewidth\":0,\"ticks\":\"\"}}],\"scatter\":[{\"fillpattern\":{\"fillmode\":\"overlay\",\"size\":10,\"solidity\":0.2},\"type\":\"scatter\"}],\"parcoords\":[{\"type\":\"parcoords\",\"line\":{\"colorbar\":{\"outlinewidth\":0,\"ticks\":\"\"}}}],\"scatterpolargl\":[{\"type\":\"scatterpolargl\",\"marker\":{\"colorbar\":{\"outlinewidth\":0,\"ticks\":\"\"}}}],\"bar\":[{\"error_x\":{\"color\":\"#2a3f5f\"},\"error_y\":{\"color\":\"#2a3f5f\"},\"marker\":{\"line\":{\"color\":\"#E5ECF6\",\"width\":0.5},\"pattern\":{\"fillmode\":\"overlay\",\"size\":10,\"solidity\":0.2}},\"type\":\"bar\"}],\"scattergeo\":[{\"type\":\"scattergeo\",\"marker\":{\"colorbar\":{\"outlinewidth\":0,\"ticks\":\"\"}}}],\"scatterpolar\":[{\"type\":\"scatterpolar\",\"marker\":{\"colorbar\":{\"outlinewidth\":0,\"ticks\":\"\"}}}],\"histogram\":[{\"marker\":{\"pattern\":{\"fillmode\":\"overlay\",\"size\":10,\"solidity\":0.2}},\"type\":\"histogram\"}],\"scattergl\":[{\"type\":\"scattergl\",\"marker\":{\"colorbar\":{\"outlinewidth\":0,\"ticks\":\"\"}}}],\"scatter3d\":[{\"type\":\"scatter3d\",\"line\":{\"colorbar\":{\"outlinewidth\":0,\"ticks\":\"\"}},\"marker\":{\"colorbar\":{\"outlinewidth\":0,\"ticks\":\"\"}}}],\"scattermapbox\":[{\"type\":\"scattermapbox\",\"marker\":{\"colorbar\":{\"outlinewidth\":0,\"ticks\":\"\"}}}],\"scatterternary\":[{\"type\":\"scatterternary\",\"marker\":{\"colorbar\":{\"outlinewidth\":0,\"ticks\":\"\"}}}],\"scattercarpet\":[{\"type\":\"scattercarpet\",\"marker\":{\"colorbar\":{\"outlinewidth\":0,\"ticks\":\"\"}}}],\"carpet\":[{\"aaxis\":{\"endlinecolor\":\"#2a3f5f\",\"gridcolor\":\"white\",\"linecolor\":\"white\",\"minorgridcolor\":\"white\",\"startlinecolor\":\"#2a3f5f\"},\"baxis\":{\"endlinecolor\":\"#2a3f5f\",\"gridcolor\":\"white\",\"linecolor\":\"white\",\"minorgridcolor\":\"white\",\"startlinecolor\":\"#2a3f5f\"},\"type\":\"carpet\"}],\"table\":[{\"cells\":{\"fill\":{\"color\":\"#EBF0F8\"},\"line\":{\"color\":\"white\"}},\"header\":{\"fill\":{\"color\":\"#C8D4E3\"},\"line\":{\"color\":\"white\"}},\"type\":\"table\"}],\"barpolar\":[{\"marker\":{\"line\":{\"color\":\"#E5ECF6\",\"width\":0.5},\"pattern\":{\"fillmode\":\"overlay\",\"size\":10,\"solidity\":0.2}},\"type\":\"barpolar\"}],\"pie\":[{\"automargin\":true,\"type\":\"pie\"}]},\"layout\":{\"autotypenumbers\":\"strict\",\"colorway\":[\"#636efa\",\"#EF553B\",\"#00cc96\",\"#ab63fa\",\"#FFA15A\",\"#19d3f3\",\"#FF6692\",\"#B6E880\",\"#FF97FF\",\"#FECB52\"],\"font\":{\"color\":\"#2a3f5f\"},\"hovermode\":\"closest\",\"hoverlabel\":{\"align\":\"left\"},\"paper_bgcolor\":\"white\",\"plot_bgcolor\":\"#E5ECF6\",\"polar\":{\"bgcolor\":\"#E5ECF6\",\"angularaxis\":{\"gridcolor\":\"white\",\"linecolor\":\"white\",\"ticks\":\"\"},\"radialaxis\":{\"gridcolor\":\"white\",\"linecolor\":\"white\",\"ticks\":\"\"}},\"ternary\":{\"bgcolor\":\"#E5ECF6\",\"aaxis\":{\"gridcolor\":\"white\",\"linecolor\":\"white\",\"ticks\":\"\"},\"baxis\":{\"gridcolor\":\"white\",\"linecolor\":\"white\",\"ticks\":\"\"},\"caxis\":{\"gridcolor\":\"white\",\"linecolor\":\"white\",\"ticks\":\"\"}},\"coloraxis\":{\"colorbar\":{\"outlinewidth\":0,\"ticks\":\"\"}},\"colorscale\":{\"sequential\":[[0.0,\"#0d0887\"],[0.1111111111111111,\"#46039f\"],[0.2222222222222222,\"#7201a8\"],[0.3333333333333333,\"#9c179e\"],[0.4444444444444444,\"#bd3786\"],[0.5555555555555556,\"#d8576b\"],[0.6666666666666666,\"#ed7953\"],[0.7777777777777778,\"#fb9f3a\"],[0.8888888888888888,\"#fdca26\"],[1.0,\"#f0f921\"]],\"sequentialminus\":[[0.0,\"#0d0887\"],[0.1111111111111111,\"#46039f\"],[0.2222222222222222,\"#7201a8\"],[0.3333333333333333,\"#9c179e\"],[0.4444444444444444,\"#bd3786\"],[0.5555555555555556,\"#d8576b\"],[0.6666666666666666,\"#ed7953\"],[0.7777777777777778,\"#fb9f3a\"],[0.8888888888888888,\"#fdca26\"],[1.0,\"#f0f921\"]],\"diverging\":[[0,\"#8e0152\"],[0.1,\"#c51b7d\"],[0.2,\"#de77ae\"],[0.3,\"#f1b6da\"],[0.4,\"#fde0ef\"],[0.5,\"#f7f7f7\"],[0.6,\"#e6f5d0\"],[0.7,\"#b8e186\"],[0.8,\"#7fbc41\"],[0.9,\"#4d9221\"],[1,\"#276419\"]]},\"xaxis\":{\"gridcolor\":\"white\",\"linecolor\":\"white\",\"ticks\":\"\",\"title\":{\"standoff\":15},\"zerolinecolor\":\"white\",\"automargin\":true,\"zerolinewidth\":2},\"yaxis\":{\"gridcolor\":\"white\",\"linecolor\":\"white\",\"ticks\":\"\",\"title\":{\"standoff\":15},\"zerolinecolor\":\"white\",\"automargin\":true,\"zerolinewidth\":2},\"scene\":{\"xaxis\":{\"backgroundcolor\":\"#E5ECF6\",\"gridcolor\":\"white\",\"linecolor\":\"white\",\"showbackground\":true,\"ticks\":\"\",\"zerolinecolor\":\"white\",\"gridwidth\":2},\"yaxis\":{\"backgroundcolor\":\"#E5ECF6\",\"gridcolor\":\"white\",\"linecolor\":\"white\",\"showbackground\":true,\"ticks\":\"\",\"zerolinecolor\":\"white\",\"gridwidth\":2},\"zaxis\":{\"backgroundcolor\":\"#E5ECF6\",\"gridcolor\":\"white\",\"linecolor\":\"white\",\"showbackground\":true,\"ticks\":\"\",\"zerolinecolor\":\"white\",\"gridwidth\":2}},\"shapedefaults\":{\"line\":{\"color\":\"#2a3f5f\"}},\"annotationdefaults\":{\"arrowcolor\":\"#2a3f5f\",\"arrowhead\":0,\"arrowwidth\":1},\"geo\":{\"bgcolor\":\"white\",\"landcolor\":\"#E5ECF6\",\"subunitcolor\":\"white\",\"showland\":true,\"showlakes\":true,\"lakecolor\":\"white\"},\"title\":{\"x\":0.05},\"mapbox\":{\"style\":\"light\"}}},\"xaxis\":{\"anchor\":\"y\",\"domain\":[0.0,1.0],\"title\":{\"text\":\"x\"}},\"yaxis\":{\"anchor\":\"x\",\"domain\":[0.0,1.0],\"title\":{\"text\":\"count\"}},\"legend\":{\"title\":{\"text\":\"color\"},\"tracegroupgap\":0},\"title\":{\"text\":\"Family_Members distribution by approval status\"},\"barmode\":\"relative\"},                        {\"responsive\": true}                    ).then(function(){\n",
       "                            \n",
       "var gd = document.getElementById('4cacd85f-f2aa-4936-b7d9-8b93a5496151');\n",
       "var x = new MutationObserver(function (mutations, observer) {{\n",
       "        var display = window.getComputedStyle(gd).display;\n",
       "        if (!display || display === 'none') {{\n",
       "            console.log([gd, 'removed!']);\n",
       "            Plotly.purge(gd);\n",
       "            observer.disconnect();\n",
       "        }}\n",
       "}});\n",
       "\n",
       "// Listen for the removal of the full notebook cells\n",
       "var notebookContainer = gd.closest('#notebook-container');\n",
       "if (notebookContainer) {{\n",
       "    x.observe(notebookContainer, {childList: true});\n",
       "}}\n",
       "\n",
       "// Listen for the clearing of the current output cell\n",
       "var outputEl = gd.closest('.output');\n",
       "if (outputEl) {{\n",
       "    x.observe(outputEl, {childList: true});\n",
       "}}\n",
       "\n",
       "                        })                };                });            </script>        </div>"
      ]
     },
     "metadata": {},
     "output_type": "display_data"
    }
   ],
   "source": [
    "fig = px.histogram(  x = df['Family_Members'] ,title = \"Family_Members distribution by approval status\", color = df['Approved_status'] )\n",
    "fig.show()"
   ]
  },
  {
   "cell_type": "code",
   "execution_count": 821,
   "id": "6e947058",
   "metadata": {},
   "outputs": [
    {
     "data": {
      "application/vnd.plotly.v1+json": {
       "config": {
        "plotlyServerURL": "https://plot.ly"
       },
       "data": [
        {
         "alignmentgroup": "True",
         "bingroup": "x",
         "hovertemplate": "color=0<br>x=%{x}<br>count=%{y}<extra></extra>",
         "legendgroup": "0",
         "marker": {
          "color": "#636efa",
          "pattern": {
           "shape": ""
          }
         },
         "name": "0",
         "offsetgroup": "0",
         "orientation": "v",
         "showlegend": true,
         "type": "histogram",
         "x": [
          64.18,
          59.01,
          64.65,
          56.38,
          61.55,
          54.07,
          53.05,
          53.05,
          53.69,
          51.38,
          57.94,
          52.92,
          49.77,
          57.61,
          57.61,
          56.88,
          48.78,
          51.23,
          51.23,
          51.52,
          60.92,
          49.58,
          48.72,
          54.15,
          53.98,
          44.66,
          50.55,
          60.21,
          56.28,
          56.28,
          47.02,
          43.69,
          51.41,
          57.08,
          43.77,
          45.32,
          45.32,
          57.41,
          57.41,
          44.23,
          54.47,
          45.22,
          45.22,
          41.73,
          41.98,
          44.99,
          42.81,
          40.87,
          48.03,
          48.03,
          48.03,
          56.69,
          55.36,
          55.36,
          41.56,
          52.52,
          52.52,
          54.47,
          48.05,
          54.83,
          41.13,
          43.74,
          43.74,
          47.92,
          64.96,
          64.96,
          38.73,
          38.52,
          39.94,
          43.83,
          46.81,
          46.3,
          50.95,
          46.56,
          41.76,
          41.54,
          37.88,
          41.65,
          39.24,
          39.24,
          50.58,
          37.47,
          55,
          56.05,
          45.35,
          null,
          40.74,
          41.15,
          39.28,
          55.73,
          49.62,
          52.08,
          52.08,
          null,
          51.87,
          58.21,
          42.59,
          43.81,
          null,
          46.07,
          46.02,
          38.46,
          38.4,
          43.15,
          39.35,
          37.22,
          37.22,
          39.86,
          37.66,
          35.2,
          56.42,
          53.24,
          55.43,
          41.59,
          39.56,
          44.48,
          50.64,
          51.61,
          51.61,
          38.98,
          40.1,
          40.1,
          53.53,
          34.41,
          43.67,
          45.78,
          37.99,
          50.24,
          43.91,
          43.91,
          43.91,
          48.58,
          34.73,
          53.18,
          54.2,
          40.17,
          46.97,
          42.88,
          52.45,
          42.1,
          47.81,
          37.04,
          37.04,
          43.75,
          37.48,
          40.78,
          55.66,
          53.61,
          63.95,
          32.93,
          37.09,
          37.09,
          37.98,
          39.34,
          36.94,
          34.62,
          34.84,
          38.19,
          38.98,
          52.86,
          60.18,
          43.21,
          32.82,
          32.82,
          36.48,
          49.86,
          49.86,
          41.94,
          40.99,
          50.39,
          34.31,
          32.75,
          50.91,
          35.67,
          35.67,
          43.46,
          45.68,
          34.86,
          46.58,
          55.02,
          null,
          52.52,
          34.87,
          31.59,
          64.48,
          34.95,
          47.75,
          57.84,
          41.48,
          43.12,
          31.54,
          48.6,
          40.1,
          41.22,
          37.38,
          54.75,
          31.4,
          43.76,
          46.89,
          39.76,
          32.48,
          39.52,
          39.52,
          30.87,
          45.92,
          54.25,
          54.25,
          47.09,
          34.88,
          42.14,
          41.8,
          31.5,
          52.29,
          46.07,
          40.72,
          43.65,
          40.16,
          45.22,
          52.62,
          42.45,
          53.72,
          38.42,
          31.91,
          39.13,
          62.33,
          46.21,
          46.21,
          46.88,
          49.7,
          39.31,
          34.2,
          34.2,
          49.3,
          49.47,
          34.12,
          29.57,
          45.15,
          33.19,
          49.13,
          49.13,
          55.67,
          35.2,
          50.73,
          33.63,
          32.04,
          38.73,
          49.39,
          30.38,
          33.66,
          56.56,
          60.58,
          50.27,
          40.1,
          38.72,
          39.75,
          42.8,
          43.57,
          32.14,
          29.53,
          31.04,
          55.18,
          43.36,
          33.76,
          35.88,
          34.46,
          34.42,
          34.42,
          30.16,
          32,
          47.93,
          44.6,
          44.6,
          37.58,
          35.67,
          36.16,
          57.13,
          57.13,
          56.41,
          38.49,
          52.34,
          36.44,
          36.48,
          52.38,
          41.49,
          51.36,
          36.25,
          58.13,
          50.7,
          54.11,
          34.21,
          52.08,
          47.51,
          49.68,
          30.01,
          43.73,
          29.93,
          30.94,
          52.15,
          39.02,
          32.35,
          46.12,
          61.36,
          39.71,
          37.51,
          37.24,
          53.45,
          38.41,
          49.25,
          42.29,
          42.29,
          38,
          49.1,
          28.05,
          39.3,
          33.01,
          40.81,
          40.81,
          41.72,
          46.58,
          40.5,
          28.44,
          28.62,
          37.84,
          42.3,
          49.08,
          30.36,
          41.19,
          41.2,
          33.81,
          31.89,
          42.11,
          35.78,
          35.04,
          34.44,
          34.44,
          52.17,
          31.08,
          41.8,
          51.98,
          55.61,
          47.55,
          33.45,
          33.78,
          48.27,
          48.38,
          53.6,
          38.59,
          37.24,
          40.89,
          47.15,
          54.76,
          37.34,
          40.4,
          59.44,
          33.56,
          39.84,
          43.18,
          29.59,
          44.33,
          41.38,
          51.73,
          41.7,
          36.93,
          54.52,
          41.52,
          33.4,
          42.31,
          57.15,
          37.99,
          26.69,
          55.62,
          45.94,
          31.25,
          48.31,
          41.59,
          49.57,
          49.14,
          44.97,
          43.39,
          37.76,
          37.96,
          37.99,
          26.25,
          32.12,
          47.22,
          47.22,
          26.88,
          26.88,
          26.88,
          52.86,
          32.62,
          39.86,
          28.26,
          32.64,
          51.85,
          41.69,
          32.66,
          37.14,
          null,
          37.38,
          44.39,
          57.53,
          35.35,
          26.79,
          41.76,
          28.38,
          37.78,
          30.62,
          46.16,
          53.38,
          42.41,
          32.11,
          35.42,
          45.48,
          56.62,
          44.33,
          49.51,
          31.93,
          42.87,
          38.72,
          50.23,
          50.23,
          50.23,
          33.72,
          34.4,
          32.72,
          43.49,
          35.74,
          58.03,
          36.25,
          57.19,
          57.19,
          47.22,
          38.59,
          37.8,
          43.06,
          43.86,
          40.52,
          40.81,
          28.72,
          33.13,
          53.65,
          47.87,
          50.62,
          28.28,
          26.22,
          28.19,
          28.19,
          35.19,
          35.19,
          27.35,
          42.36,
          33.41,
          55.3,
          30.47,
          54.92,
          62.55,
          31.57,
          30.87,
          32.58,
          43.92,
          46.36,
          43.82,
          28.34,
          28.34,
          43.88,
          41.76,
          29.58,
          40.49,
          30.7,
          39.45,
          51.01,
          38.55,
          34.02,
          49.57,
          48.66,
          48.66,
          30.9,
          27.79,
          27.79,
          36.09,
          36.09,
          41.86,
          52.87,
          52.87,
          31.18,
          36.68,
          40.44,
          45.76,
          52.63,
          48.75,
          50.9,
          27.77,
          39.56,
          39.5,
          59.41,
          36.94,
          45.79,
          31.07,
          31.07,
          54.49,
          58.04,
          35.55,
          34.73,
          44.58,
          47.82,
          47.82,
          52.79,
          29.34,
          31.84,
          29.89,
          54.32,
          27.88,
          42.12,
          53.51,
          56.86,
          56.86,
          29.25,
          28.62,
          56.94,
          56.06,
          39.34,
          31.1,
          31.1,
          27.44,
          57.62,
          57.62,
          35.19,
          30.13,
          46.87,
          null,
          38.67,
          26.34,
          56.21,
          56.21,
          32.72,
          39.65,
          41.17,
          38.62,
          25.53,
          34.97,
          62.5,
          62.5,
          48.15,
          28.21,
          null,
          31.96,
          52.23,
          34.88,
          37.41,
          33.15,
          53.65,
          40.06,
          42.3,
          42.3,
          35.68,
          33.53,
          32.76,
          29.47,
          61.39,
          30.11,
          54.15,
          29.26,
          29.26,
          65.33,
          39.99,
          37.11,
          27.02,
          47.84,
          50.73,
          47.58,
          31.85,
          34.95,
          53.92,
          41.66,
          37.08,
          37.44,
          27.05,
          54.58,
          38.75,
          30.21,
          52.75,
          40.32,
          40.32,
          62.7,
          50.25,
          null,
          36.86,
          46.55,
          28.54,
          25.76,
          48.16,
          43.8,
          43.8,
          36.58,
          48.14,
          27.88,
          39.99,
          27.41,
          30.43,
          30.43,
          35.76,
          29.21,
          26.76,
          31.25,
          35.85,
          27.05,
          27.05,
          33.01,
          27.35,
          27.35,
          40.56,
          51.87,
          48.95,
          53.58,
          48.16,
          48.16,
          53.78,
          38.23,
          38.94,
          27.3,
          27.3,
          39.62,
          37.85,
          38.58,
          38.58,
          44.1,
          44.11,
          27.35,
          27.35,
          29.94,
          32.12,
          55.76,
          55.76,
          33.67,
          27.87,
          48.88,
          42.21,
          47.13,
          47.13,
          47.13,
          28.8,
          57.47,
          27.85,
          51.89,
          40.92,
          37.99,
          25.48,
          25.48,
          32.64,
          32.64,
          47.77,
          32.79,
          32.79,
          50.08,
          35.76,
          54.75,
          28.69,
          48.71,
          48.71,
          27.16,
          58.09,
          28.99,
          48.64,
          28.23,
          27.79,
          26,
          45.57,
          53.41,
          41.24,
          37.84,
          34.02,
          31.38,
          44.62,
          58.91,
          41.81,
          30.95,
          47.26,
          42.93,
          28.13,
          47,
          43.87,
          43.87,
          43.87,
          27.34,
          null,
          45.62,
          42.65,
          25.72,
          34.86,
          41.23,
          38.3,
          45.91,
          29.39,
          27.47,
          47.29,
          31.58,
          24.36,
          27.27,
          27.27,
          24.51,
          27.92,
          51.47,
          38.76,
          42.27,
          39.62,
          27.45,
          39.01,
          41.41,
          57.18,
          30.25,
          30.15,
          46.59,
          39.63,
          36.36,
          43.25,
          37.82,
          37.82,
          29.21,
          39.79,
          33.3,
          49.91,
          40.65,
          29.96,
          35.02,
          50.79,
          59.96,
          59.96,
          38.35,
          58.53,
          34.96,
          23,
          43.66,
          25.99,
          25.99,
          28.95,
          32.87,
          32.87,
          32.87,
          40.32,
          29.23,
          52.9,
          51.28,
          51.28,
          30.38,
          51.5,
          41.45,
          54.3,
          42.21,
          33.36,
          28.09,
          45,
          31.79,
          null,
          41.18,
          36.54,
          31.09,
          47.13,
          33.08,
          37.08,
          51.53,
          44.41,
          null,
          27.53,
          35.22,
          29.17,
          34.94,
          28.98,
          43.39,
          46.5,
          29.89,
          47.61,
          45.49,
          34.69,
          29.33,
          37.78,
          40.92,
          46.62,
          39.47,
          29.55,
          48.71,
          38.62,
          26.82,
          34.73,
          42.62,
          34.58,
          36.39,
          32.73,
          32.58,
          47.82,
          40.44,
          54.61,
          28.39,
          36.97,
          45.8,
          57.17,
          42.1,
          42.1,
          48.12,
          28.41,
          37.5,
          46.99,
          46.99,
          48.37,
          35.16,
          29.61,
          33.83,
          33.83,
          25.07,
          28.02,
          35.02,
          47.9,
          47.87,
          42.25,
          33.73,
          42.25,
          38.69,
          32.11,
          32.11,
          null,
          33.16,
          36.04,
          29.1,
          28.96,
          29.79,
          37.5,
          41.51,
          32.02,
          56.19,
          40.06,
          49.08,
          null,
          34.3,
          24.93,
          24.93,
          53.93,
          41.93,
          38.83,
          58.29,
          54.58,
          41.19,
          37.84,
          34.02,
          47.29,
          26.26,
          27.59,
          22.75,
          43.19,
          45.32,
          59.11,
          22.88,
          54.25,
          38.73,
          27.47,
          23.82,
          41.26,
          56.55,
          34.77,
          31.08,
          40.18,
          24.71,
          27.28,
          53.02,
          39.67,
          36.16,
          31.18,
          44.15,
          27.09,
          27.09,
          36.87,
          32.19,
          41.59,
          37.06,
          37.06,
          28.65,
          28.65,
          38.39,
          27.65,
          47.48,
          32.38,
          28.26,
          25,
          24.85,
          54.97,
          32.13,
          35.13,
          33.34,
          29.19,
          47.04,
          50.19,
          35.4,
          35.4,
          24.55,
          39.44,
          null,
          46.61,
          27.99,
          33.59,
          32.75,
          42.71,
          47.63,
          22.44,
          29.4,
          27.72,
          55.1,
          33.64,
          31.17,
          44.78,
          24.68,
          33.56,
          44.3,
          44.29,
          27.58,
          27.2,
          29.73,
          31.82,
          27.79,
          25.51,
          31.32,
          31.32,
          28.05,
          59.18,
          46.58,
          39.38,
          53.7,
          27.14,
          24.67,
          43.6,
          36.19,
          36.19,
          29.33,
          53.06,
          30.01,
          22.67,
          27.62,
          35.59,
          43.3,
          41.7,
          32.15,
          32.15,
          41.51,
          40.76,
          32.22,
          46.72,
          45.82,
          48.56,
          45.09,
          50.32,
          40.4,
          40.4,
          60.9,
          31.42,
          49.79,
          24.38,
          35.74,
          52.39,
          52.94,
          25.87,
          51.08,
          49.85,
          32.39,
          29.67,
          49.2,
          32.13,
          41.9,
          null,
          42.35,
          38.88,
          36.59,
          44.97,
          32.24,
          32.24,
          59.99,
          59.99,
          32.05,
          48.05,
          42.75,
          29.27,
          33.61,
          33.5,
          26.54,
          29.69,
          29.69,
          36.13,
          null,
          31.49,
          60.55,
          58.57,
          29.95,
          40.43,
          47.34,
          30.85,
          45.55,
          49.3,
          33.19,
          47.45,
          32.35,
          35.04,
          23.36,
          27.45,
          60.79,
          60.79,
          23.86,
          53.24,
          50.12,
          31.21,
          30.9,
          28.64,
          27.67,
          27.67,
          27.67,
          38.15,
          36.67,
          29.05,
          54.34,
          64,
          64,
          30.44,
          58.36,
          41.83,
          27.19,
          33.79,
          32.1,
          31.96,
          30.79,
          27.6,
          36.79,
          37.48,
          37.48,
          23.02,
          27.28,
          41.16,
          34.94,
          43.12,
          44.21,
          41.44,
          22.59,
          33.83,
          38.79,
          24.75,
          42.08,
          25.09,
          45.74,
          29.98,
          29.98,
          28.45,
          46.47,
          40.03,
          36.9,
          33.86,
          48.98,
          46.5,
          44.87,
          34.48,
          33.59,
          47.86,
          49.81,
          48.87,
          52.6,
          31.9,
          35.47,
          35.26,
          48.26,
          27.12,
          42.04,
          27.99,
          44.35,
          44.35,
          25.17,
          43.43,
          21.11,
          54.08,
          32.25,
          32.81,
          34.14,
          24.07,
          33.99,
          38.27,
          48.18,
          39.56,
          28.11,
          47.73,
          38.04,
          54.72,
          41.6,
          41.6,
          24.8,
          28.96,
          33.59,
          55,
          30.62,
          26.47,
          43.53,
          35.88,
          32.94,
          29.64,
          36.25,
          39.18,
          46.1,
          33.61,
          24.26,
          25.47,
          49.17,
          27.88,
          49.81,
          33.89,
          25.08,
          32.61,
          52.02,
          27.49,
          29.96,
          24.67,
          38.93,
          26.07,
          51.32,
          30.3,
          25.87,
          29.56,
          24.58,
          38.96,
          38.5,
          33.7,
          26.44,
          39.41,
          25.32,
          39.03,
          47.06,
          43.56,
          40.16,
          33.62,
          27.13,
          28.85,
          50.31,
          50.19,
          37.19,
          40.96,
          62.47,
          31.03,
          31.03,
          46.24,
          46.24,
          32.5,
          37.07,
          31.55,
          41.17,
          52.16,
          37.72,
          68.35,
          67.57,
          67.34,
          67.15,
          67.15,
          67.14,
          66.81,
          66.7,
          66.68,
          66.65,
          66.61,
          66.59,
          66.58,
          66.56,
          66.47,
          66.41,
          66.39,
          66.35,
          66.28,
          66.21,
          66.01,
          65.88,
          65.76,
          65.67,
          65.34,
          65.13,
          65.13,
          65.08,
          65.07,
          64.92,
          64.87,
          64.87,
          64.78,
          64.78,
          64.73,
          64.65,
          64.51,
          64.38,
          64.35,
          64.34,
          64.34,
          64.32,
          64.25,
          64.19,
          64.01,
          64.01,
          63.93,
          63.91,
          63.81,
          63.8,
          63.78,
          63.78,
          63.76,
          63.76,
          63.73,
          63.66,
          63.66,
          63.58,
          63.34,
          63.27,
          63.11,
          63.09,
          63.09,
          63.06,
          63.06,
          62.97,
          62.96,
          62.81,
          62.8,
          62.79,
          62.77,
          62.7,
          62.68,
          62.65,
          62.63,
          62.61,
          62.45,
          62.39,
          62.33,
          62.31,
          62.31,
          62.07,
          61.96,
          61.85,
          61.84,
          61.83,
          61.65,
          61.59,
          61.56,
          61.48,
          61.41,
          61.27,
          61.24,
          61.21,
          60.91,
          60.67,
          60.63,
          60.61,
          60.59,
          60.57,
          60.5,
          60.48,
          60.47,
          60.44,
          60.37,
          60.37,
          60.37,
          60.32,
          60.28,
          60.28,
          60.28,
          60.24,
          60.22,
          60.2,
          60.12,
          60.12,
          59.93,
          59.87,
          59.85,
          59.78,
          59.67,
          59.56,
          59.51,
          59.5,
          59.5,
          59.37,
          59.29,
          59.26,
          59.12,
          59.05,
          58.98,
          58.98,
          58.95,
          58.95,
          58.94,
          58.9,
          58.88,
          58.78,
          58.78,
          58.74,
          58.67,
          58.65,
          58.61,
          58.58,
          58.55,
          58.47,
          58.4,
          58.38,
          58.27,
          57.9,
          57.88,
          57.85,
          57.81,
          57.74,
          57.67,
          57.65,
          57.57,
          57.57,
          57.57,
          57.56,
          57.5,
          57.47,
          57.47,
          57.45,
          57.44,
          57.15,
          57.15,
          57.12,
          57.09,
          57.02,
          56.86,
          56.78,
          56.68,
          56.68,
          56.66,
          56.61,
          56.61,
          56.42,
          56.38,
          56.36,
          56.04,
          56,
          55.98,
          55.97,
          55.88,
          55.86,
          55.86,
          55.84,
          55.74,
          55.64,
          55.57,
          55.39,
          55.33,
          55.18,
          55.16,
          55.16,
          55.14,
          54.83,
          54.82,
          54.69,
          54.58,
          53.97,
          53.35,
          52.86,
          52.4,
          52.2,
          52.13,
          52,
          52,
          51.71,
          51.21,
          50.28,
          47.82,
          47.82,
          47.64,
          47.39,
          46.82,
          45.18,
          43.69,
          42.45,
          38.38,
          35.65,
          null,
          null,
          null,
          null
         ],
         "xaxis": "x",
         "yaxis": "y"
        },
        {
         "alignmentgroup": "True",
         "bingroup": "x",
         "hovertemplate": "color=1<br>x=%{x}<br>count=%{y}<extra></extra>",
         "legendgroup": "1",
         "marker": {
          "color": "#EF553B",
          "pattern": {
           "shape": ""
          }
         },
         "name": "1",
         "offsetgroup": "1",
         "orientation": "v",
         "showlegend": true,
         "type": "histogram",
         "x": [
          45.51,
          45.51,
          51.98,
          41.22,
          47.86,
          43.98,
          50.21,
          50.21,
          54.15,
          41.13,
          39.66,
          32.95,
          35.1,
          48.88,
          48.88,
          48.88,
          51.73,
          41.53,
          35.68,
          35.66,
          33.57,
          33.57,
          39.79,
          39.79,
          39.79,
          39.79,
          39.79,
          49.08,
          49.08,
          49.08,
          30.44,
          26.05,
          37.21,
          55.52,
          51.8,
          51.8,
          47.53,
          35.47,
          29.45,
          42.37,
          42.37,
          46.04,
          51.14,
          34.95,
          29.21,
          29.21,
          52.89,
          27.02,
          31.04,
          31.04,
          55.61,
          30.71,
          30.71,
          32.94,
          51.68,
          35.7,
          49.37,
          52.07,
          24.99,
          55.71,
          45,
          45,
          37.59,
          37.59,
          37.59,
          42.85,
          33.94,
          33.94,
          52.53,
          51.13,
          30.39,
          30.39,
          34.86,
          48.77,
          47.15,
          47.15,
          49.68,
          51.92,
          51.92,
          51.92,
          51.61,
          44.39,
          44.39,
          33.25,
          39.44,
          24.4,
          28.58,
          28.58,
          26.28,
          26.28,
          39.79,
          39.79,
          42.33,
          44.3,
          43.77,
          57.68,
          54.78,
          49.79,
          49.79,
          49.79,
          44.97,
          44.97,
          44.68,
          31.58,
          37.14,
          37.14,
          37.14,
          37.14,
          37.14,
          null,
          54.83,
          54.83,
          28.48,
          28.48,
          55.08,
          55.08,
          55.08,
          47.45,
          25.32,
          25.32,
          null,
          26.98,
          26.98,
          26.98,
          51.92,
          51.92,
          51.92,
          43.7,
          53.17,
          46.29,
          46.29,
          29.35,
          29.35,
          27.88,
          43.02,
          31.81,
          38.5,
          35.47,
          35.47,
          38.19,
          67.43,
          67.43,
          67.43,
          67.43,
          65.48,
          65.3,
          64.17,
          63.9,
          63.8,
          63.8,
          63.8,
          63.76,
          62.85,
          62.07,
          62.07,
          62.07,
          62.07,
          61.04,
          60.64,
          60.58,
          60.3,
          59.93,
          59.81,
          59.81,
          59.35,
          59.15,
          58.53,
          58.53,
          58.53,
          58.53,
          58.53,
          58.2,
          57.18,
          57.11,
          51.43
         ],
         "xaxis": "x",
         "yaxis": "y"
        }
       ],
       "layout": {
        "barmode": "relative",
        "legend": {
         "title": {
          "text": "color"
         },
         "tracegroupgap": 0
        },
        "template": {
         "data": {
          "bar": [
           {
            "error_x": {
             "color": "#2a3f5f"
            },
            "error_y": {
             "color": "#2a3f5f"
            },
            "marker": {
             "line": {
              "color": "#E5ECF6",
              "width": 0.5
             },
             "pattern": {
              "fillmode": "overlay",
              "size": 10,
              "solidity": 0.2
             }
            },
            "type": "bar"
           }
          ],
          "barpolar": [
           {
            "marker": {
             "line": {
              "color": "#E5ECF6",
              "width": 0.5
             },
             "pattern": {
              "fillmode": "overlay",
              "size": 10,
              "solidity": 0.2
             }
            },
            "type": "barpolar"
           }
          ],
          "carpet": [
           {
            "aaxis": {
             "endlinecolor": "#2a3f5f",
             "gridcolor": "white",
             "linecolor": "white",
             "minorgridcolor": "white",
             "startlinecolor": "#2a3f5f"
            },
            "baxis": {
             "endlinecolor": "#2a3f5f",
             "gridcolor": "white",
             "linecolor": "white",
             "minorgridcolor": "white",
             "startlinecolor": "#2a3f5f"
            },
            "type": "carpet"
           }
          ],
          "choropleth": [
           {
            "colorbar": {
             "outlinewidth": 0,
             "ticks": ""
            },
            "type": "choropleth"
           }
          ],
          "contour": [
           {
            "colorbar": {
             "outlinewidth": 0,
             "ticks": ""
            },
            "colorscale": [
             [
              0,
              "#0d0887"
             ],
             [
              0.1111111111111111,
              "#46039f"
             ],
             [
              0.2222222222222222,
              "#7201a8"
             ],
             [
              0.3333333333333333,
              "#9c179e"
             ],
             [
              0.4444444444444444,
              "#bd3786"
             ],
             [
              0.5555555555555556,
              "#d8576b"
             ],
             [
              0.6666666666666666,
              "#ed7953"
             ],
             [
              0.7777777777777778,
              "#fb9f3a"
             ],
             [
              0.8888888888888888,
              "#fdca26"
             ],
             [
              1,
              "#f0f921"
             ]
            ],
            "type": "contour"
           }
          ],
          "contourcarpet": [
           {
            "colorbar": {
             "outlinewidth": 0,
             "ticks": ""
            },
            "type": "contourcarpet"
           }
          ],
          "heatmap": [
           {
            "colorbar": {
             "outlinewidth": 0,
             "ticks": ""
            },
            "colorscale": [
             [
              0,
              "#0d0887"
             ],
             [
              0.1111111111111111,
              "#46039f"
             ],
             [
              0.2222222222222222,
              "#7201a8"
             ],
             [
              0.3333333333333333,
              "#9c179e"
             ],
             [
              0.4444444444444444,
              "#bd3786"
             ],
             [
              0.5555555555555556,
              "#d8576b"
             ],
             [
              0.6666666666666666,
              "#ed7953"
             ],
             [
              0.7777777777777778,
              "#fb9f3a"
             ],
             [
              0.8888888888888888,
              "#fdca26"
             ],
             [
              1,
              "#f0f921"
             ]
            ],
            "type": "heatmap"
           }
          ],
          "heatmapgl": [
           {
            "colorbar": {
             "outlinewidth": 0,
             "ticks": ""
            },
            "colorscale": [
             [
              0,
              "#0d0887"
             ],
             [
              0.1111111111111111,
              "#46039f"
             ],
             [
              0.2222222222222222,
              "#7201a8"
             ],
             [
              0.3333333333333333,
              "#9c179e"
             ],
             [
              0.4444444444444444,
              "#bd3786"
             ],
             [
              0.5555555555555556,
              "#d8576b"
             ],
             [
              0.6666666666666666,
              "#ed7953"
             ],
             [
              0.7777777777777778,
              "#fb9f3a"
             ],
             [
              0.8888888888888888,
              "#fdca26"
             ],
             [
              1,
              "#f0f921"
             ]
            ],
            "type": "heatmapgl"
           }
          ],
          "histogram": [
           {
            "marker": {
             "pattern": {
              "fillmode": "overlay",
              "size": 10,
              "solidity": 0.2
             }
            },
            "type": "histogram"
           }
          ],
          "histogram2d": [
           {
            "colorbar": {
             "outlinewidth": 0,
             "ticks": ""
            },
            "colorscale": [
             [
              0,
              "#0d0887"
             ],
             [
              0.1111111111111111,
              "#46039f"
             ],
             [
              0.2222222222222222,
              "#7201a8"
             ],
             [
              0.3333333333333333,
              "#9c179e"
             ],
             [
              0.4444444444444444,
              "#bd3786"
             ],
             [
              0.5555555555555556,
              "#d8576b"
             ],
             [
              0.6666666666666666,
              "#ed7953"
             ],
             [
              0.7777777777777778,
              "#fb9f3a"
             ],
             [
              0.8888888888888888,
              "#fdca26"
             ],
             [
              1,
              "#f0f921"
             ]
            ],
            "type": "histogram2d"
           }
          ],
          "histogram2dcontour": [
           {
            "colorbar": {
             "outlinewidth": 0,
             "ticks": ""
            },
            "colorscale": [
             [
              0,
              "#0d0887"
             ],
             [
              0.1111111111111111,
              "#46039f"
             ],
             [
              0.2222222222222222,
              "#7201a8"
             ],
             [
              0.3333333333333333,
              "#9c179e"
             ],
             [
              0.4444444444444444,
              "#bd3786"
             ],
             [
              0.5555555555555556,
              "#d8576b"
             ],
             [
              0.6666666666666666,
              "#ed7953"
             ],
             [
              0.7777777777777778,
              "#fb9f3a"
             ],
             [
              0.8888888888888888,
              "#fdca26"
             ],
             [
              1,
              "#f0f921"
             ]
            ],
            "type": "histogram2dcontour"
           }
          ],
          "mesh3d": [
           {
            "colorbar": {
             "outlinewidth": 0,
             "ticks": ""
            },
            "type": "mesh3d"
           }
          ],
          "parcoords": [
           {
            "line": {
             "colorbar": {
              "outlinewidth": 0,
              "ticks": ""
             }
            },
            "type": "parcoords"
           }
          ],
          "pie": [
           {
            "automargin": true,
            "type": "pie"
           }
          ],
          "scatter": [
           {
            "fillpattern": {
             "fillmode": "overlay",
             "size": 10,
             "solidity": 0.2
            },
            "type": "scatter"
           }
          ],
          "scatter3d": [
           {
            "line": {
             "colorbar": {
              "outlinewidth": 0,
              "ticks": ""
             }
            },
            "marker": {
             "colorbar": {
              "outlinewidth": 0,
              "ticks": ""
             }
            },
            "type": "scatter3d"
           }
          ],
          "scattercarpet": [
           {
            "marker": {
             "colorbar": {
              "outlinewidth": 0,
              "ticks": ""
             }
            },
            "type": "scattercarpet"
           }
          ],
          "scattergeo": [
           {
            "marker": {
             "colorbar": {
              "outlinewidth": 0,
              "ticks": ""
             }
            },
            "type": "scattergeo"
           }
          ],
          "scattergl": [
           {
            "marker": {
             "colorbar": {
              "outlinewidth": 0,
              "ticks": ""
             }
            },
            "type": "scattergl"
           }
          ],
          "scattermapbox": [
           {
            "marker": {
             "colorbar": {
              "outlinewidth": 0,
              "ticks": ""
             }
            },
            "type": "scattermapbox"
           }
          ],
          "scatterpolar": [
           {
            "marker": {
             "colorbar": {
              "outlinewidth": 0,
              "ticks": ""
             }
            },
            "type": "scatterpolar"
           }
          ],
          "scatterpolargl": [
           {
            "marker": {
             "colorbar": {
              "outlinewidth": 0,
              "ticks": ""
             }
            },
            "type": "scatterpolargl"
           }
          ],
          "scatterternary": [
           {
            "marker": {
             "colorbar": {
              "outlinewidth": 0,
              "ticks": ""
             }
            },
            "type": "scatterternary"
           }
          ],
          "surface": [
           {
            "colorbar": {
             "outlinewidth": 0,
             "ticks": ""
            },
            "colorscale": [
             [
              0,
              "#0d0887"
             ],
             [
              0.1111111111111111,
              "#46039f"
             ],
             [
              0.2222222222222222,
              "#7201a8"
             ],
             [
              0.3333333333333333,
              "#9c179e"
             ],
             [
              0.4444444444444444,
              "#bd3786"
             ],
             [
              0.5555555555555556,
              "#d8576b"
             ],
             [
              0.6666666666666666,
              "#ed7953"
             ],
             [
              0.7777777777777778,
              "#fb9f3a"
             ],
             [
              0.8888888888888888,
              "#fdca26"
             ],
             [
              1,
              "#f0f921"
             ]
            ],
            "type": "surface"
           }
          ],
          "table": [
           {
            "cells": {
             "fill": {
              "color": "#EBF0F8"
             },
             "line": {
              "color": "white"
             }
            },
            "header": {
             "fill": {
              "color": "#C8D4E3"
             },
             "line": {
              "color": "white"
             }
            },
            "type": "table"
           }
          ]
         },
         "layout": {
          "annotationdefaults": {
           "arrowcolor": "#2a3f5f",
           "arrowhead": 0,
           "arrowwidth": 1
          },
          "autotypenumbers": "strict",
          "coloraxis": {
           "colorbar": {
            "outlinewidth": 0,
            "ticks": ""
           }
          },
          "colorscale": {
           "diverging": [
            [
             0,
             "#8e0152"
            ],
            [
             0.1,
             "#c51b7d"
            ],
            [
             0.2,
             "#de77ae"
            ],
            [
             0.3,
             "#f1b6da"
            ],
            [
             0.4,
             "#fde0ef"
            ],
            [
             0.5,
             "#f7f7f7"
            ],
            [
             0.6,
             "#e6f5d0"
            ],
            [
             0.7,
             "#b8e186"
            ],
            [
             0.8,
             "#7fbc41"
            ],
            [
             0.9,
             "#4d9221"
            ],
            [
             1,
             "#276419"
            ]
           ],
           "sequential": [
            [
             0,
             "#0d0887"
            ],
            [
             0.1111111111111111,
             "#46039f"
            ],
            [
             0.2222222222222222,
             "#7201a8"
            ],
            [
             0.3333333333333333,
             "#9c179e"
            ],
            [
             0.4444444444444444,
             "#bd3786"
            ],
            [
             0.5555555555555556,
             "#d8576b"
            ],
            [
             0.6666666666666666,
             "#ed7953"
            ],
            [
             0.7777777777777778,
             "#fb9f3a"
            ],
            [
             0.8888888888888888,
             "#fdca26"
            ],
            [
             1,
             "#f0f921"
            ]
           ],
           "sequentialminus": [
            [
             0,
             "#0d0887"
            ],
            [
             0.1111111111111111,
             "#46039f"
            ],
            [
             0.2222222222222222,
             "#7201a8"
            ],
            [
             0.3333333333333333,
             "#9c179e"
            ],
            [
             0.4444444444444444,
             "#bd3786"
            ],
            [
             0.5555555555555556,
             "#d8576b"
            ],
            [
             0.6666666666666666,
             "#ed7953"
            ],
            [
             0.7777777777777778,
             "#fb9f3a"
            ],
            [
             0.8888888888888888,
             "#fdca26"
            ],
            [
             1,
             "#f0f921"
            ]
           ]
          },
          "colorway": [
           "#636efa",
           "#EF553B",
           "#00cc96",
           "#ab63fa",
           "#FFA15A",
           "#19d3f3",
           "#FF6692",
           "#B6E880",
           "#FF97FF",
           "#FECB52"
          ],
          "font": {
           "color": "#2a3f5f"
          },
          "geo": {
           "bgcolor": "white",
           "lakecolor": "white",
           "landcolor": "#E5ECF6",
           "showlakes": true,
           "showland": true,
           "subunitcolor": "white"
          },
          "hoverlabel": {
           "align": "left"
          },
          "hovermode": "closest",
          "mapbox": {
           "style": "light"
          },
          "paper_bgcolor": "white",
          "plot_bgcolor": "#E5ECF6",
          "polar": {
           "angularaxis": {
            "gridcolor": "white",
            "linecolor": "white",
            "ticks": ""
           },
           "bgcolor": "#E5ECF6",
           "radialaxis": {
            "gridcolor": "white",
            "linecolor": "white",
            "ticks": ""
           }
          },
          "scene": {
           "xaxis": {
            "backgroundcolor": "#E5ECF6",
            "gridcolor": "white",
            "gridwidth": 2,
            "linecolor": "white",
            "showbackground": true,
            "ticks": "",
            "zerolinecolor": "white"
           },
           "yaxis": {
            "backgroundcolor": "#E5ECF6",
            "gridcolor": "white",
            "gridwidth": 2,
            "linecolor": "white",
            "showbackground": true,
            "ticks": "",
            "zerolinecolor": "white"
           },
           "zaxis": {
            "backgroundcolor": "#E5ECF6",
            "gridcolor": "white",
            "gridwidth": 2,
            "linecolor": "white",
            "showbackground": true,
            "ticks": "",
            "zerolinecolor": "white"
           }
          },
          "shapedefaults": {
           "line": {
            "color": "#2a3f5f"
           }
          },
          "ternary": {
           "aaxis": {
            "gridcolor": "white",
            "linecolor": "white",
            "ticks": ""
           },
           "baxis": {
            "gridcolor": "white",
            "linecolor": "white",
            "ticks": ""
           },
           "bgcolor": "#E5ECF6",
           "caxis": {
            "gridcolor": "white",
            "linecolor": "white",
            "ticks": ""
           }
          },
          "title": {
           "x": 0.05
          },
          "xaxis": {
           "automargin": true,
           "gridcolor": "white",
           "linecolor": "white",
           "ticks": "",
           "title": {
            "standoff": 15
           },
           "zerolinecolor": "white",
           "zerolinewidth": 2
          },
          "yaxis": {
           "automargin": true,
           "gridcolor": "white",
           "linecolor": "white",
           "ticks": "",
           "title": {
            "standoff": 15
           },
           "zerolinecolor": "white",
           "zerolinewidth": 2
          }
         }
        },
        "title": {
         "text": "Age distribution by approval status"
        },
        "xaxis": {
         "anchor": "y",
         "domain": [
          0,
          1
         ],
         "title": {
          "text": "x"
         }
        },
        "yaxis": {
         "anchor": "x",
         "domain": [
          0,
          1
         ],
         "title": {
          "text": "count"
         }
        }
       }
      },
      "text/html": [
       "<div>                            <div id=\"8828b7b5-1e62-4861-b1bb-23e071920ee7\" class=\"plotly-graph-div\" style=\"height:525px; width:100%;\"></div>            <script type=\"text/javascript\">                require([\"plotly\"], function(Plotly) {                    window.PLOTLYENV=window.PLOTLYENV || {};                                    if (document.getElementById(\"8828b7b5-1e62-4861-b1bb-23e071920ee7\")) {                    Plotly.newPlot(                        \"8828b7b5-1e62-4861-b1bb-23e071920ee7\",                        [{\"alignmentgroup\":\"True\",\"bingroup\":\"x\",\"hovertemplate\":\"color=0<br>x=%{x}<br>count=%{y}<extra></extra>\",\"legendgroup\":\"0\",\"marker\":{\"color\":\"#636efa\",\"pattern\":{\"shape\":\"\"}},\"name\":\"0\",\"offsetgroup\":\"0\",\"orientation\":\"v\",\"showlegend\":true,\"x\":[64.18,59.01,64.65,56.38,61.55,54.07,53.05,53.05,53.69,51.38,57.94,52.92,49.77,57.61,57.61,56.88,48.78,51.23,51.23,51.52,60.92,49.58,48.72,54.15,53.98,44.66,50.55,60.21,56.28,56.28,47.02,43.69,51.41,57.08,43.77,45.32,45.32,57.41,57.41,44.23,54.47,45.22,45.22,41.73,41.98,44.99,42.81,40.87,48.03,48.03,48.03,56.69,55.36,55.36,41.56,52.52,52.52,54.47,48.05,54.83,41.13,43.74,43.74,47.92,64.96,64.96,38.73,38.52,39.94,43.83,46.81,46.3,50.95,46.56,41.76,41.54,37.88,41.65,39.24,39.24,50.58,37.47,55.0,56.05,45.35,null,40.74,41.15,39.28,55.73,49.62,52.08,52.08,null,51.87,58.21,42.59,43.81,null,46.07,46.02,38.46,38.4,43.15,39.35,37.22,37.22,39.86,37.66,35.2,56.42,53.24,55.43,41.59,39.56,44.48,50.64,51.61,51.61,38.98,40.1,40.1,53.53,34.41,43.67,45.78,37.99,50.24,43.91,43.91,43.91,48.58,34.73,53.18,54.2,40.17,46.97,42.88,52.45,42.1,47.81,37.04,37.04,43.75,37.48,40.78,55.66,53.61,63.95,32.93,37.09,37.09,37.98,39.34,36.94,34.62,34.84,38.19,38.98,52.86,60.18,43.21,32.82,32.82,36.48,49.86,49.86,41.94,40.99,50.39,34.31,32.75,50.91,35.67,35.67,43.46,45.68,34.86,46.58,55.02,null,52.52,34.87,31.59,64.48,34.95,47.75,57.84,41.48,43.12,31.54,48.6,40.1,41.22,37.38,54.75,31.4,43.76,46.89,39.76,32.48,39.52,39.52,30.87,45.92,54.25,54.25,47.09,34.88,42.14,41.8,31.5,52.29,46.07,40.72,43.65,40.16,45.22,52.62,42.45,53.72,38.42,31.91,39.13,62.33,46.21,46.21,46.88,49.7,39.31,34.2,34.2,49.3,49.47,34.12,29.57,45.15,33.19,49.13,49.13,55.67,35.2,50.73,33.63,32.04,38.73,49.39,30.38,33.66,56.56,60.58,50.27,40.1,38.72,39.75,42.8,43.57,32.14,29.53,31.04,55.18,43.36,33.76,35.88,34.46,34.42,34.42,30.16,32.0,47.93,44.6,44.6,37.58,35.67,36.16,57.13,57.13,56.41,38.49,52.34,36.44,36.48,52.38,41.49,51.36,36.25,58.13,50.7,54.11,34.21,52.08,47.51,49.68,30.01,43.73,29.93,30.94,52.15,39.02,32.35,46.12,61.36,39.71,37.51,37.24,53.45,38.41,49.25,42.29,42.29,38.0,49.1,28.05,39.3,33.01,40.81,40.81,41.72,46.58,40.5,28.44,28.62,37.84,42.3,49.08,30.36,41.19,41.2,33.81,31.89,42.11,35.78,35.04,34.44,34.44,52.17,31.08,41.8,51.98,55.61,47.55,33.45,33.78,48.27,48.38,53.6,38.59,37.24,40.89,47.15,54.76,37.34,40.4,59.44,33.56,39.84,43.18,29.59,44.33,41.38,51.73,41.7,36.93,54.52,41.52,33.4,42.31,57.15,37.99,26.69,55.62,45.94,31.25,48.31,41.59,49.57,49.14,44.97,43.39,37.76,37.96,37.99,26.25,32.12,47.22,47.22,26.88,26.88,26.88,52.86,32.62,39.86,28.26,32.64,51.85,41.69,32.66,37.14,null,37.38,44.39,57.53,35.35,26.79,41.76,28.38,37.78,30.62,46.16,53.38,42.41,32.11,35.42,45.48,56.62,44.33,49.51,31.93,42.87,38.72,50.23,50.23,50.23,33.72,34.4,32.72,43.49,35.74,58.03,36.25,57.19,57.19,47.22,38.59,37.8,43.06,43.86,40.52,40.81,28.72,33.13,53.65,47.87,50.62,28.28,26.22,28.19,28.19,35.19,35.19,27.35,42.36,33.41,55.3,30.47,54.92,62.55,31.57,30.87,32.58,43.92,46.36,43.82,28.34,28.34,43.88,41.76,29.58,40.49,30.7,39.45,51.01,38.55,34.02,49.57,48.66,48.66,30.9,27.79,27.79,36.09,36.09,41.86,52.87,52.87,31.18,36.68,40.44,45.76,52.63,48.75,50.9,27.77,39.56,39.5,59.41,36.94,45.79,31.07,31.07,54.49,58.04,35.55,34.73,44.58,47.82,47.82,52.79,29.34,31.84,29.89,54.32,27.88,42.12,53.51,56.86,56.86,29.25,28.62,56.94,56.06,39.34,31.1,31.1,27.44,57.62,57.62,35.19,30.13,46.87,null,38.67,26.34,56.21,56.21,32.72,39.65,41.17,38.62,25.53,34.97,62.5,62.5,48.15,28.21,null,31.96,52.23,34.88,37.41,33.15,53.65,40.06,42.3,42.3,35.68,33.53,32.76,29.47,61.39,30.11,54.15,29.26,29.26,65.33,39.99,37.11,27.02,47.84,50.73,47.58,31.85,34.95,53.92,41.66,37.08,37.44,27.05,54.58,38.75,30.21,52.75,40.32,40.32,62.7,50.25,null,36.86,46.55,28.54,25.76,48.16,43.8,43.8,36.58,48.14,27.88,39.99,27.41,30.43,30.43,35.76,29.21,26.76,31.25,35.85,27.05,27.05,33.01,27.35,27.35,40.56,51.87,48.95,53.58,48.16,48.16,53.78,38.23,38.94,27.3,27.3,39.62,37.85,38.58,38.58,44.1,44.11,27.35,27.35,29.94,32.12,55.76,55.76,33.67,27.87,48.88,42.21,47.13,47.13,47.13,28.8,57.47,27.85,51.89,40.92,37.99,25.48,25.48,32.64,32.64,47.77,32.79,32.79,50.08,35.76,54.75,28.69,48.71,48.71,27.16,58.09,28.99,48.64,28.23,27.79,26.0,45.57,53.41,41.24,37.84,34.02,31.38,44.62,58.91,41.81,30.95,47.26,42.93,28.13,47.0,43.87,43.87,43.87,27.34,null,45.62,42.65,25.72,34.86,41.23,38.3,45.91,29.39,27.47,47.29,31.58,24.36,27.27,27.27,24.51,27.92,51.47,38.76,42.27,39.62,27.45,39.01,41.41,57.18,30.25,30.15,46.59,39.63,36.36,43.25,37.82,37.82,29.21,39.79,33.3,49.91,40.65,29.96,35.02,50.79,59.96,59.96,38.35,58.53,34.96,23.0,43.66,25.99,25.99,28.95,32.87,32.87,32.87,40.32,29.23,52.9,51.28,51.28,30.38,51.5,41.45,54.3,42.21,33.36,28.09,45.0,31.79,null,41.18,36.54,31.09,47.13,33.08,37.08,51.53,44.41,null,27.53,35.22,29.17,34.94,28.98,43.39,46.5,29.89,47.61,45.49,34.69,29.33,37.78,40.92,46.62,39.47,29.55,48.71,38.62,26.82,34.73,42.62,34.58,36.39,32.73,32.58,47.82,40.44,54.61,28.39,36.97,45.8,57.17,42.1,42.1,48.12,28.41,37.5,46.99,46.99,48.37,35.16,29.61,33.83,33.83,25.07,28.02,35.02,47.9,47.87,42.25,33.73,42.25,38.69,32.11,32.11,null,33.16,36.04,29.1,28.96,29.79,37.5,41.51,32.02,56.19,40.06,49.08,null,34.3,24.93,24.93,53.93,41.93,38.83,58.29,54.58,41.19,37.84,34.02,47.29,26.26,27.59,22.75,43.19,45.32,59.11,22.88,54.25,38.73,27.47,23.82,41.26,56.55,34.77,31.08,40.18,24.71,27.28,53.02,39.67,36.16,31.18,44.15,27.09,27.09,36.87,32.19,41.59,37.06,37.06,28.65,28.65,38.39,27.65,47.48,32.38,28.26,25.0,24.85,54.97,32.13,35.13,33.34,29.19,47.04,50.19,35.4,35.4,24.55,39.44,null,46.61,27.99,33.59,32.75,42.71,47.63,22.44,29.4,27.72,55.1,33.64,31.17,44.78,24.68,33.56,44.3,44.29,27.58,27.2,29.73,31.82,27.79,25.51,31.32,31.32,28.05,59.18,46.58,39.38,53.7,27.14,24.67,43.6,36.19,36.19,29.33,53.06,30.01,22.67,27.62,35.59,43.3,41.7,32.15,32.15,41.51,40.76,32.22,46.72,45.82,48.56,45.09,50.32,40.4,40.4,60.9,31.42,49.79,24.38,35.74,52.39,52.94,25.87,51.08,49.85,32.39,29.67,49.2,32.13,41.9,null,42.35,38.88,36.59,44.97,32.24,32.24,59.99,59.99,32.05,48.05,42.75,29.27,33.61,33.5,26.54,29.69,29.69,36.13,null,31.49,60.55,58.57,29.95,40.43,47.34,30.85,45.55,49.3,33.19,47.45,32.35,35.04,23.36,27.45,60.79,60.79,23.86,53.24,50.12,31.21,30.9,28.64,27.67,27.67,27.67,38.15,36.67,29.05,54.34,64.0,64.0,30.44,58.36,41.83,27.19,33.79,32.1,31.96,30.79,27.6,36.79,37.48,37.48,23.02,27.28,41.16,34.94,43.12,44.21,41.44,22.59,33.83,38.79,24.75,42.08,25.09,45.74,29.98,29.98,28.45,46.47,40.03,36.9,33.86,48.98,46.5,44.87,34.48,33.59,47.86,49.81,48.87,52.6,31.9,35.47,35.26,48.26,27.12,42.04,27.99,44.35,44.35,25.17,43.43,21.11,54.08,32.25,32.81,34.14,24.07,33.99,38.27,48.18,39.56,28.11,47.73,38.04,54.72,41.6,41.6,24.8,28.96,33.59,55.0,30.62,26.47,43.53,35.88,32.94,29.64,36.25,39.18,46.1,33.61,24.26,25.47,49.17,27.88,49.81,33.89,25.08,32.61,52.02,27.49,29.96,24.67,38.93,26.07,51.32,30.3,25.87,29.56,24.58,38.96,38.5,33.7,26.44,39.41,25.32,39.03,47.06,43.56,40.16,33.62,27.13,28.85,50.31,50.19,37.19,40.96,62.47,31.03,31.03,46.24,46.24,32.5,37.07,31.55,41.17,52.16,37.72,68.35,67.57,67.34,67.15,67.15,67.14,66.81,66.7,66.68,66.65,66.61,66.59,66.58,66.56,66.47,66.41,66.39,66.35,66.28,66.21,66.01,65.88,65.76,65.67,65.34,65.13,65.13,65.08,65.07,64.92,64.87,64.87,64.78,64.78,64.73,64.65,64.51,64.38,64.35,64.34,64.34,64.32,64.25,64.19,64.01,64.01,63.93,63.91,63.81,63.8,63.78,63.78,63.76,63.76,63.73,63.66,63.66,63.58,63.34,63.27,63.11,63.09,63.09,63.06,63.06,62.97,62.96,62.81,62.8,62.79,62.77,62.7,62.68,62.65,62.63,62.61,62.45,62.39,62.33,62.31,62.31,62.07,61.96,61.85,61.84,61.83,61.65,61.59,61.56,61.48,61.41,61.27,61.24,61.21,60.91,60.67,60.63,60.61,60.59,60.57,60.5,60.48,60.47,60.44,60.37,60.37,60.37,60.32,60.28,60.28,60.28,60.24,60.22,60.2,60.12,60.12,59.93,59.87,59.85,59.78,59.67,59.56,59.51,59.5,59.5,59.37,59.29,59.26,59.12,59.05,58.98,58.98,58.95,58.95,58.94,58.9,58.88,58.78,58.78,58.74,58.67,58.65,58.61,58.58,58.55,58.47,58.4,58.38,58.27,57.9,57.88,57.85,57.81,57.74,57.67,57.65,57.57,57.57,57.57,57.56,57.5,57.47,57.47,57.45,57.44,57.15,57.15,57.12,57.09,57.02,56.86,56.78,56.68,56.68,56.66,56.61,56.61,56.42,56.38,56.36,56.04,56.0,55.98,55.97,55.88,55.86,55.86,55.84,55.74,55.64,55.57,55.39,55.33,55.18,55.16,55.16,55.14,54.83,54.82,54.69,54.58,53.97,53.35,52.86,52.4,52.2,52.13,52.0,52.0,51.71,51.21,50.28,47.82,47.82,47.64,47.39,46.82,45.18,43.69,42.45,38.38,35.65,null,null,null,null],\"xaxis\":\"x\",\"yaxis\":\"y\",\"type\":\"histogram\"},{\"alignmentgroup\":\"True\",\"bingroup\":\"x\",\"hovertemplate\":\"color=1<br>x=%{x}<br>count=%{y}<extra></extra>\",\"legendgroup\":\"1\",\"marker\":{\"color\":\"#EF553B\",\"pattern\":{\"shape\":\"\"}},\"name\":\"1\",\"offsetgroup\":\"1\",\"orientation\":\"v\",\"showlegend\":true,\"x\":[45.51,45.51,51.98,41.22,47.86,43.98,50.21,50.21,54.15,41.13,39.66,32.95,35.1,48.88,48.88,48.88,51.73,41.53,35.68,35.66,33.57,33.57,39.79,39.79,39.79,39.79,39.79,49.08,49.08,49.08,30.44,26.05,37.21,55.52,51.8,51.8,47.53,35.47,29.45,42.37,42.37,46.04,51.14,34.95,29.21,29.21,52.89,27.02,31.04,31.04,55.61,30.71,30.71,32.94,51.68,35.7,49.37,52.07,24.99,55.71,45.0,45.0,37.59,37.59,37.59,42.85,33.94,33.94,52.53,51.13,30.39,30.39,34.86,48.77,47.15,47.15,49.68,51.92,51.92,51.92,51.61,44.39,44.39,33.25,39.44,24.4,28.58,28.58,26.28,26.28,39.79,39.79,42.33,44.3,43.77,57.68,54.78,49.79,49.79,49.79,44.97,44.97,44.68,31.58,37.14,37.14,37.14,37.14,37.14,null,54.83,54.83,28.48,28.48,55.08,55.08,55.08,47.45,25.32,25.32,null,26.98,26.98,26.98,51.92,51.92,51.92,43.7,53.17,46.29,46.29,29.35,29.35,27.88,43.02,31.81,38.5,35.47,35.47,38.19,67.43,67.43,67.43,67.43,65.48,65.3,64.17,63.9,63.8,63.8,63.8,63.76,62.85,62.07,62.07,62.07,62.07,61.04,60.64,60.58,60.3,59.93,59.81,59.81,59.35,59.15,58.53,58.53,58.53,58.53,58.53,58.2,57.18,57.11,51.43],\"xaxis\":\"x\",\"yaxis\":\"y\",\"type\":\"histogram\"}],                        {\"template\":{\"data\":{\"histogram2dcontour\":[{\"type\":\"histogram2dcontour\",\"colorbar\":{\"outlinewidth\":0,\"ticks\":\"\"},\"colorscale\":[[0.0,\"#0d0887\"],[0.1111111111111111,\"#46039f\"],[0.2222222222222222,\"#7201a8\"],[0.3333333333333333,\"#9c179e\"],[0.4444444444444444,\"#bd3786\"],[0.5555555555555556,\"#d8576b\"],[0.6666666666666666,\"#ed7953\"],[0.7777777777777778,\"#fb9f3a\"],[0.8888888888888888,\"#fdca26\"],[1.0,\"#f0f921\"]]}],\"choropleth\":[{\"type\":\"choropleth\",\"colorbar\":{\"outlinewidth\":0,\"ticks\":\"\"}}],\"histogram2d\":[{\"type\":\"histogram2d\",\"colorbar\":{\"outlinewidth\":0,\"ticks\":\"\"},\"colorscale\":[[0.0,\"#0d0887\"],[0.1111111111111111,\"#46039f\"],[0.2222222222222222,\"#7201a8\"],[0.3333333333333333,\"#9c179e\"],[0.4444444444444444,\"#bd3786\"],[0.5555555555555556,\"#d8576b\"],[0.6666666666666666,\"#ed7953\"],[0.7777777777777778,\"#fb9f3a\"],[0.8888888888888888,\"#fdca26\"],[1.0,\"#f0f921\"]]}],\"heatmap\":[{\"type\":\"heatmap\",\"colorbar\":{\"outlinewidth\":0,\"ticks\":\"\"},\"colorscale\":[[0.0,\"#0d0887\"],[0.1111111111111111,\"#46039f\"],[0.2222222222222222,\"#7201a8\"],[0.3333333333333333,\"#9c179e\"],[0.4444444444444444,\"#bd3786\"],[0.5555555555555556,\"#d8576b\"],[0.6666666666666666,\"#ed7953\"],[0.7777777777777778,\"#fb9f3a\"],[0.8888888888888888,\"#fdca26\"],[1.0,\"#f0f921\"]]}],\"heatmapgl\":[{\"type\":\"heatmapgl\",\"colorbar\":{\"outlinewidth\":0,\"ticks\":\"\"},\"colorscale\":[[0.0,\"#0d0887\"],[0.1111111111111111,\"#46039f\"],[0.2222222222222222,\"#7201a8\"],[0.3333333333333333,\"#9c179e\"],[0.4444444444444444,\"#bd3786\"],[0.5555555555555556,\"#d8576b\"],[0.6666666666666666,\"#ed7953\"],[0.7777777777777778,\"#fb9f3a\"],[0.8888888888888888,\"#fdca26\"],[1.0,\"#f0f921\"]]}],\"contourcarpet\":[{\"type\":\"contourcarpet\",\"colorbar\":{\"outlinewidth\":0,\"ticks\":\"\"}}],\"contour\":[{\"type\":\"contour\",\"colorbar\":{\"outlinewidth\":0,\"ticks\":\"\"},\"colorscale\":[[0.0,\"#0d0887\"],[0.1111111111111111,\"#46039f\"],[0.2222222222222222,\"#7201a8\"],[0.3333333333333333,\"#9c179e\"],[0.4444444444444444,\"#bd3786\"],[0.5555555555555556,\"#d8576b\"],[0.6666666666666666,\"#ed7953\"],[0.7777777777777778,\"#fb9f3a\"],[0.8888888888888888,\"#fdca26\"],[1.0,\"#f0f921\"]]}],\"surface\":[{\"type\":\"surface\",\"colorbar\":{\"outlinewidth\":0,\"ticks\":\"\"},\"colorscale\":[[0.0,\"#0d0887\"],[0.1111111111111111,\"#46039f\"],[0.2222222222222222,\"#7201a8\"],[0.3333333333333333,\"#9c179e\"],[0.4444444444444444,\"#bd3786\"],[0.5555555555555556,\"#d8576b\"],[0.6666666666666666,\"#ed7953\"],[0.7777777777777778,\"#fb9f3a\"],[0.8888888888888888,\"#fdca26\"],[1.0,\"#f0f921\"]]}],\"mesh3d\":[{\"type\":\"mesh3d\",\"colorbar\":{\"outlinewidth\":0,\"ticks\":\"\"}}],\"scatter\":[{\"fillpattern\":{\"fillmode\":\"overlay\",\"size\":10,\"solidity\":0.2},\"type\":\"scatter\"}],\"parcoords\":[{\"type\":\"parcoords\",\"line\":{\"colorbar\":{\"outlinewidth\":0,\"ticks\":\"\"}}}],\"scatterpolargl\":[{\"type\":\"scatterpolargl\",\"marker\":{\"colorbar\":{\"outlinewidth\":0,\"ticks\":\"\"}}}],\"bar\":[{\"error_x\":{\"color\":\"#2a3f5f\"},\"error_y\":{\"color\":\"#2a3f5f\"},\"marker\":{\"line\":{\"color\":\"#E5ECF6\",\"width\":0.5},\"pattern\":{\"fillmode\":\"overlay\",\"size\":10,\"solidity\":0.2}},\"type\":\"bar\"}],\"scattergeo\":[{\"type\":\"scattergeo\",\"marker\":{\"colorbar\":{\"outlinewidth\":0,\"ticks\":\"\"}}}],\"scatterpolar\":[{\"type\":\"scatterpolar\",\"marker\":{\"colorbar\":{\"outlinewidth\":0,\"ticks\":\"\"}}}],\"histogram\":[{\"marker\":{\"pattern\":{\"fillmode\":\"overlay\",\"size\":10,\"solidity\":0.2}},\"type\":\"histogram\"}],\"scattergl\":[{\"type\":\"scattergl\",\"marker\":{\"colorbar\":{\"outlinewidth\":0,\"ticks\":\"\"}}}],\"scatter3d\":[{\"type\":\"scatter3d\",\"line\":{\"colorbar\":{\"outlinewidth\":0,\"ticks\":\"\"}},\"marker\":{\"colorbar\":{\"outlinewidth\":0,\"ticks\":\"\"}}}],\"scattermapbox\":[{\"type\":\"scattermapbox\",\"marker\":{\"colorbar\":{\"outlinewidth\":0,\"ticks\":\"\"}}}],\"scatterternary\":[{\"type\":\"scatterternary\",\"marker\":{\"colorbar\":{\"outlinewidth\":0,\"ticks\":\"\"}}}],\"scattercarpet\":[{\"type\":\"scattercarpet\",\"marker\":{\"colorbar\":{\"outlinewidth\":0,\"ticks\":\"\"}}}],\"carpet\":[{\"aaxis\":{\"endlinecolor\":\"#2a3f5f\",\"gridcolor\":\"white\",\"linecolor\":\"white\",\"minorgridcolor\":\"white\",\"startlinecolor\":\"#2a3f5f\"},\"baxis\":{\"endlinecolor\":\"#2a3f5f\",\"gridcolor\":\"white\",\"linecolor\":\"white\",\"minorgridcolor\":\"white\",\"startlinecolor\":\"#2a3f5f\"},\"type\":\"carpet\"}],\"table\":[{\"cells\":{\"fill\":{\"color\":\"#EBF0F8\"},\"line\":{\"color\":\"white\"}},\"header\":{\"fill\":{\"color\":\"#C8D4E3\"},\"line\":{\"color\":\"white\"}},\"type\":\"table\"}],\"barpolar\":[{\"marker\":{\"line\":{\"color\":\"#E5ECF6\",\"width\":0.5},\"pattern\":{\"fillmode\":\"overlay\",\"size\":10,\"solidity\":0.2}},\"type\":\"barpolar\"}],\"pie\":[{\"automargin\":true,\"type\":\"pie\"}]},\"layout\":{\"autotypenumbers\":\"strict\",\"colorway\":[\"#636efa\",\"#EF553B\",\"#00cc96\",\"#ab63fa\",\"#FFA15A\",\"#19d3f3\",\"#FF6692\",\"#B6E880\",\"#FF97FF\",\"#FECB52\"],\"font\":{\"color\":\"#2a3f5f\"},\"hovermode\":\"closest\",\"hoverlabel\":{\"align\":\"left\"},\"paper_bgcolor\":\"white\",\"plot_bgcolor\":\"#E5ECF6\",\"polar\":{\"bgcolor\":\"#E5ECF6\",\"angularaxis\":{\"gridcolor\":\"white\",\"linecolor\":\"white\",\"ticks\":\"\"},\"radialaxis\":{\"gridcolor\":\"white\",\"linecolor\":\"white\",\"ticks\":\"\"}},\"ternary\":{\"bgcolor\":\"#E5ECF6\",\"aaxis\":{\"gridcolor\":\"white\",\"linecolor\":\"white\",\"ticks\":\"\"},\"baxis\":{\"gridcolor\":\"white\",\"linecolor\":\"white\",\"ticks\":\"\"},\"caxis\":{\"gridcolor\":\"white\",\"linecolor\":\"white\",\"ticks\":\"\"}},\"coloraxis\":{\"colorbar\":{\"outlinewidth\":0,\"ticks\":\"\"}},\"colorscale\":{\"sequential\":[[0.0,\"#0d0887\"],[0.1111111111111111,\"#46039f\"],[0.2222222222222222,\"#7201a8\"],[0.3333333333333333,\"#9c179e\"],[0.4444444444444444,\"#bd3786\"],[0.5555555555555556,\"#d8576b\"],[0.6666666666666666,\"#ed7953\"],[0.7777777777777778,\"#fb9f3a\"],[0.8888888888888888,\"#fdca26\"],[1.0,\"#f0f921\"]],\"sequentialminus\":[[0.0,\"#0d0887\"],[0.1111111111111111,\"#46039f\"],[0.2222222222222222,\"#7201a8\"],[0.3333333333333333,\"#9c179e\"],[0.4444444444444444,\"#bd3786\"],[0.5555555555555556,\"#d8576b\"],[0.6666666666666666,\"#ed7953\"],[0.7777777777777778,\"#fb9f3a\"],[0.8888888888888888,\"#fdca26\"],[1.0,\"#f0f921\"]],\"diverging\":[[0,\"#8e0152\"],[0.1,\"#c51b7d\"],[0.2,\"#de77ae\"],[0.3,\"#f1b6da\"],[0.4,\"#fde0ef\"],[0.5,\"#f7f7f7\"],[0.6,\"#e6f5d0\"],[0.7,\"#b8e186\"],[0.8,\"#7fbc41\"],[0.9,\"#4d9221\"],[1,\"#276419\"]]},\"xaxis\":{\"gridcolor\":\"white\",\"linecolor\":\"white\",\"ticks\":\"\",\"title\":{\"standoff\":15},\"zerolinecolor\":\"white\",\"automargin\":true,\"zerolinewidth\":2},\"yaxis\":{\"gridcolor\":\"white\",\"linecolor\":\"white\",\"ticks\":\"\",\"title\":{\"standoff\":15},\"zerolinecolor\":\"white\",\"automargin\":true,\"zerolinewidth\":2},\"scene\":{\"xaxis\":{\"backgroundcolor\":\"#E5ECF6\",\"gridcolor\":\"white\",\"linecolor\":\"white\",\"showbackground\":true,\"ticks\":\"\",\"zerolinecolor\":\"white\",\"gridwidth\":2},\"yaxis\":{\"backgroundcolor\":\"#E5ECF6\",\"gridcolor\":\"white\",\"linecolor\":\"white\",\"showbackground\":true,\"ticks\":\"\",\"zerolinecolor\":\"white\",\"gridwidth\":2},\"zaxis\":{\"backgroundcolor\":\"#E5ECF6\",\"gridcolor\":\"white\",\"linecolor\":\"white\",\"showbackground\":true,\"ticks\":\"\",\"zerolinecolor\":\"white\",\"gridwidth\":2}},\"shapedefaults\":{\"line\":{\"color\":\"#2a3f5f\"}},\"annotationdefaults\":{\"arrowcolor\":\"#2a3f5f\",\"arrowhead\":0,\"arrowwidth\":1},\"geo\":{\"bgcolor\":\"white\",\"landcolor\":\"#E5ECF6\",\"subunitcolor\":\"white\",\"showland\":true,\"showlakes\":true,\"lakecolor\":\"white\"},\"title\":{\"x\":0.05},\"mapbox\":{\"style\":\"light\"}}},\"xaxis\":{\"anchor\":\"y\",\"domain\":[0.0,1.0],\"title\":{\"text\":\"x\"}},\"yaxis\":{\"anchor\":\"x\",\"domain\":[0.0,1.0],\"title\":{\"text\":\"count\"}},\"legend\":{\"title\":{\"text\":\"color\"},\"tracegroupgap\":0},\"title\":{\"text\":\"Age distribution by approval status\"},\"barmode\":\"relative\"},                        {\"responsive\": true}                    ).then(function(){\n",
       "                            \n",
       "var gd = document.getElementById('8828b7b5-1e62-4861-b1bb-23e071920ee7');\n",
       "var x = new MutationObserver(function (mutations, observer) {{\n",
       "        var display = window.getComputedStyle(gd).display;\n",
       "        if (!display || display === 'none') {{\n",
       "            console.log([gd, 'removed!']);\n",
       "            Plotly.purge(gd);\n",
       "            observer.disconnect();\n",
       "        }}\n",
       "}});\n",
       "\n",
       "// Listen for the removal of the full notebook cells\n",
       "var notebookContainer = gd.closest('#notebook-container');\n",
       "if (notebookContainer) {{\n",
       "    x.observe(notebookContainer, {childList: true});\n",
       "}}\n",
       "\n",
       "// Listen for the clearing of the current output cell\n",
       "var outputEl = gd.closest('.output');\n",
       "if (outputEl) {{\n",
       "    x.observe(outputEl, {childList: true});\n",
       "}}\n",
       "\n",
       "                        })                };                });            </script>        </div>"
      ]
     },
     "metadata": {},
     "output_type": "display_data"
    }
   ],
   "source": [
    "fig = px.histogram(  x = df['Age'] ,title = \"Age distribution by approval status\", color = df['Approved_status'] )\n",
    "fig.show()"
   ]
  },
  {
   "cell_type": "code",
   "execution_count": 822,
   "id": "315dccbd",
   "metadata": {},
   "outputs": [
    {
     "ename": "KeyError",
     "evalue": "'Type_Occupation'",
     "output_type": "error",
     "traceback": [
      "\u001b[0;31m---------------------------------------------------------------------------\u001b[0m",
      "\u001b[0;31mKeyError\u001b[0m                                  Traceback (most recent call last)",
      "\u001b[0;32m/opt/anaconda3/lib/python3.9/site-packages/pandas/core/indexes/base.py\u001b[0m in \u001b[0;36mget_loc\u001b[0;34m(self, key)\u001b[0m\n\u001b[1;32m   3652\u001b[0m         \u001b[0;32mtry\u001b[0m\u001b[0;34m:\u001b[0m\u001b[0;34m\u001b[0m\u001b[0;34m\u001b[0m\u001b[0m\n\u001b[0;32m-> 3653\u001b[0;31m             \u001b[0;32mreturn\u001b[0m \u001b[0mself\u001b[0m\u001b[0;34m.\u001b[0m\u001b[0m_engine\u001b[0m\u001b[0;34m.\u001b[0m\u001b[0mget_loc\u001b[0m\u001b[0;34m(\u001b[0m\u001b[0mcasted_key\u001b[0m\u001b[0;34m)\u001b[0m\u001b[0;34m\u001b[0m\u001b[0;34m\u001b[0m\u001b[0m\n\u001b[0m\u001b[1;32m   3654\u001b[0m         \u001b[0;32mexcept\u001b[0m \u001b[0mKeyError\u001b[0m \u001b[0;32mas\u001b[0m \u001b[0merr\u001b[0m\u001b[0;34m:\u001b[0m\u001b[0;34m\u001b[0m\u001b[0;34m\u001b[0m\u001b[0m\n",
      "\u001b[0;32m/opt/anaconda3/lib/python3.9/site-packages/pandas/_libs/index.pyx\u001b[0m in \u001b[0;36mpandas._libs.index.IndexEngine.get_loc\u001b[0;34m()\u001b[0m\n",
      "\u001b[0;32m/opt/anaconda3/lib/python3.9/site-packages/pandas/_libs/index.pyx\u001b[0m in \u001b[0;36mpandas._libs.index.IndexEngine.get_loc\u001b[0;34m()\u001b[0m\n",
      "\u001b[0;32mpandas/_libs/hashtable_class_helper.pxi\u001b[0m in \u001b[0;36mpandas._libs.hashtable.PyObjectHashTable.get_item\u001b[0;34m()\u001b[0m\n",
      "\u001b[0;32mpandas/_libs/hashtable_class_helper.pxi\u001b[0m in \u001b[0;36mpandas._libs.hashtable.PyObjectHashTable.get_item\u001b[0;34m()\u001b[0m\n",
      "\u001b[0;31mKeyError\u001b[0m: 'Type_Occupation'",
      "\nThe above exception was the direct cause of the following exception:\n",
      "\u001b[0;31mKeyError\u001b[0m                                  Traceback (most recent call last)",
      "\u001b[0;32m/var/folders/w8/08cyr63s6gl9qp97ffzjmzx80000gn/T/ipykernel_8288/1035738753.py\u001b[0m in \u001b[0;36m<module>\u001b[0;34m\u001b[0m\n\u001b[1;32m      2\u001b[0m \u001b[0;32mfor\u001b[0m \u001b[0mi\u001b[0m \u001b[0;32min\u001b[0m \u001b[0mcategorical_features\u001b[0m\u001b[0;34m:\u001b[0m\u001b[0;34m\u001b[0m\u001b[0;34m\u001b[0m\u001b[0m\n\u001b[1;32m      3\u001b[0m     \u001b[0mplt\u001b[0m\u001b[0;34m.\u001b[0m\u001b[0mfigure\u001b[0m\u001b[0;34m(\u001b[0m\u001b[0mfigsize\u001b[0m \u001b[0;34m=\u001b[0m \u001b[0;34m(\u001b[0m\u001b[0;36m8\u001b[0m\u001b[0;34m,\u001b[0m\u001b[0;36m6\u001b[0m\u001b[0;34m)\u001b[0m\u001b[0;34m)\u001b[0m\u001b[0;34m\u001b[0m\u001b[0;34m\u001b[0m\u001b[0m\n\u001b[0;32m----> 4\u001b[0;31m     \u001b[0msns\u001b[0m\u001b[0;34m.\u001b[0m\u001b[0mcountplot\u001b[0m\u001b[0;34m(\u001b[0m\u001b[0mdf\u001b[0m\u001b[0;34m[\u001b[0m\u001b[0mi\u001b[0m\u001b[0;34m]\u001b[0m \u001b[0;34m,\u001b[0m \u001b[0mhue\u001b[0m \u001b[0;34m=\u001b[0m \u001b[0mdf\u001b[0m\u001b[0;34m[\u001b[0m\u001b[0;34m'Approved_status'\u001b[0m\u001b[0;34m]\u001b[0m\u001b[0;34m)\u001b[0m\u001b[0;34m\u001b[0m\u001b[0;34m\u001b[0m\u001b[0m\n\u001b[0m\u001b[1;32m      5\u001b[0m \u001b[0;31m#     plt.title(pd.concat([i,\" vs Approved Status\"]))\u001b[0m\u001b[0;34m\u001b[0m\u001b[0;34m\u001b[0m\u001b[0m\n\u001b[1;32m      6\u001b[0m     \u001b[0mplt\u001b[0m\u001b[0;34m.\u001b[0m\u001b[0mshow\u001b[0m\u001b[0;34m\u001b[0m\u001b[0;34m\u001b[0m\u001b[0m\n",
      "\u001b[0;32m/opt/anaconda3/lib/python3.9/site-packages/pandas/core/frame.py\u001b[0m in \u001b[0;36m__getitem__\u001b[0;34m(self, key)\u001b[0m\n\u001b[1;32m   3759\u001b[0m             \u001b[0;32mif\u001b[0m \u001b[0mself\u001b[0m\u001b[0;34m.\u001b[0m\u001b[0mcolumns\u001b[0m\u001b[0;34m.\u001b[0m\u001b[0mnlevels\u001b[0m \u001b[0;34m>\u001b[0m \u001b[0;36m1\u001b[0m\u001b[0;34m:\u001b[0m\u001b[0;34m\u001b[0m\u001b[0;34m\u001b[0m\u001b[0m\n\u001b[1;32m   3760\u001b[0m                 \u001b[0;32mreturn\u001b[0m \u001b[0mself\u001b[0m\u001b[0;34m.\u001b[0m\u001b[0m_getitem_multilevel\u001b[0m\u001b[0;34m(\u001b[0m\u001b[0mkey\u001b[0m\u001b[0;34m)\u001b[0m\u001b[0;34m\u001b[0m\u001b[0;34m\u001b[0m\u001b[0m\n\u001b[0;32m-> 3761\u001b[0;31m             \u001b[0mindexer\u001b[0m \u001b[0;34m=\u001b[0m \u001b[0mself\u001b[0m\u001b[0;34m.\u001b[0m\u001b[0mcolumns\u001b[0m\u001b[0;34m.\u001b[0m\u001b[0mget_loc\u001b[0m\u001b[0;34m(\u001b[0m\u001b[0mkey\u001b[0m\u001b[0;34m)\u001b[0m\u001b[0;34m\u001b[0m\u001b[0;34m\u001b[0m\u001b[0m\n\u001b[0m\u001b[1;32m   3762\u001b[0m             \u001b[0;32mif\u001b[0m \u001b[0mis_integer\u001b[0m\u001b[0;34m(\u001b[0m\u001b[0mindexer\u001b[0m\u001b[0;34m)\u001b[0m\u001b[0;34m:\u001b[0m\u001b[0;34m\u001b[0m\u001b[0;34m\u001b[0m\u001b[0m\n\u001b[1;32m   3763\u001b[0m                 \u001b[0mindexer\u001b[0m \u001b[0;34m=\u001b[0m \u001b[0;34m[\u001b[0m\u001b[0mindexer\u001b[0m\u001b[0;34m]\u001b[0m\u001b[0;34m\u001b[0m\u001b[0;34m\u001b[0m\u001b[0m\n",
      "\u001b[0;32m/opt/anaconda3/lib/python3.9/site-packages/pandas/core/indexes/base.py\u001b[0m in \u001b[0;36mget_loc\u001b[0;34m(self, key)\u001b[0m\n\u001b[1;32m   3653\u001b[0m             \u001b[0;32mreturn\u001b[0m \u001b[0mself\u001b[0m\u001b[0;34m.\u001b[0m\u001b[0m_engine\u001b[0m\u001b[0;34m.\u001b[0m\u001b[0mget_loc\u001b[0m\u001b[0;34m(\u001b[0m\u001b[0mcasted_key\u001b[0m\u001b[0;34m)\u001b[0m\u001b[0;34m\u001b[0m\u001b[0;34m\u001b[0m\u001b[0m\n\u001b[1;32m   3654\u001b[0m         \u001b[0;32mexcept\u001b[0m \u001b[0mKeyError\u001b[0m \u001b[0;32mas\u001b[0m \u001b[0merr\u001b[0m\u001b[0;34m:\u001b[0m\u001b[0;34m\u001b[0m\u001b[0;34m\u001b[0m\u001b[0m\n\u001b[0;32m-> 3655\u001b[0;31m             \u001b[0;32mraise\u001b[0m \u001b[0mKeyError\u001b[0m\u001b[0;34m(\u001b[0m\u001b[0mkey\u001b[0m\u001b[0;34m)\u001b[0m \u001b[0;32mfrom\u001b[0m \u001b[0merr\u001b[0m\u001b[0;34m\u001b[0m\u001b[0;34m\u001b[0m\u001b[0m\n\u001b[0m\u001b[1;32m   3656\u001b[0m         \u001b[0;32mexcept\u001b[0m \u001b[0mTypeError\u001b[0m\u001b[0;34m:\u001b[0m\u001b[0;34m\u001b[0m\u001b[0;34m\u001b[0m\u001b[0m\n\u001b[1;32m   3657\u001b[0m             \u001b[0;31m# If we have a listlike key, _check_indexing_error will raise\u001b[0m\u001b[0;34m\u001b[0m\u001b[0;34m\u001b[0m\u001b[0m\n",
      "\u001b[0;31mKeyError\u001b[0m: 'Type_Occupation'"
     ]
    },
    {
     "data": {
      "image/png": "[encoded data removed]",
      "text/plain": [
       "<Figure size 800x600 with 1 Axes>"
      ]
     },
     "metadata": {},
     "output_type": "display_data"
    },
    {
     "data": {
      "image/png": "[encoded data removed]",
      "text/plain": [
       "<Figure size 800x600 with 1 Axes>"
      ]
     },
     "metadata": {},
     "output_type": "display_data"
    },
    {
     "data": {
      "image/png": "[encoded data removed]",
      "text/plain": [
       "<Figure size 800x600 with 1 Axes>"
      ]
     },
     "metadata": {},
     "output_type": "display_data"
    },
    {
     "data": {
      "image/png": "[encoded data removed]",
      "text/plain": [
       "<Figure size 800x600 with 1 Axes>"
      ]
     },
     "metadata": {},
     "output_type": "display_data"
    },
    {
     "data": {
      "image/png": "[encoded data removed]",
      "text/plain": [
       "<Figure size 800x600 with 1 Axes>"
      ]
     },
     "metadata": {},
     "output_type": "display_data"
    },
    {
     "data": {
      "image/png": "[encoded data removed]",
      "text/plain": [
       "<Figure size 800x600 with 1 Axes>"
      ]
     },
     "metadata": {},
     "output_type": "display_data"
    },
    {
     "data": {
      "image/png": "[encoded data removed]",
      "text/plain": [
       "<Figure size 800x600 with 1 Axes>"
      ]
     },
     "metadata": {},
     "output_type": "display_data"
    },
    {
     "data": {
      "text/plain": [
       "<Figure size 800x600 with 0 Axes>"
      ]
     },
     "metadata": {},
     "output_type": "display_data"
    }
   ],
   "source": [
    "categorical_features \n",
    "for i in categorical_features:\n",
    "    plt.figure(figsize = (8,6))\n",
    "    sns.countplot(df[i] , hue = df['Approved_status'])\n",
    "#     plt.title(pd.concat([i,\" vs Approved Status\"]))\n",
    "    plt.show"
   ]
  },
  {
   "cell_type": "code",
   "execution_count": 824,
   "id": "c8ec918b",
   "metadata": {},
   "outputs": [
    {
     "data": {
      "text/plain": [
       "()"
      ]
     },
     "execution_count": 824,
     "metadata": {},
     "output_type": "execute_result"
    },
    {
     "data": {
      "image/png": "[encoded data removed]",
      "text/plain": [
       "<Figure size 1000x600 with 1 Axes>"
      ]
     },
     "metadata": {},
     "output_type": "display_data"
    }
   ],
   "source": [
    "plt.figure(figsize = (10,6))\n",
    "sns.countplot(df['EDUCATION'] , hue = df['Approved_status'])\n",
    "plt.xticks(rotation = 70)\n",
    "plt.title(\"EDUCATION vs APPROVED STATUS\")\n",
    "plt.show"
   ]
  },
  {
   "cell_type": "code",
   "execution_count": 825,
   "id": "6298eb3e",
   "metadata": {},
   "outputs": [
    {
     "data": {
      "text/plain": [
       "()"
      ]
     },
     "execution_count": 825,
     "metadata": {},
     "output_type": "execute_result"
    },
    {
     "data": {
      "image/png": "[encoded data removed]",
      "text/plain": [
       "<Figure size 1000x600 with 1 Axes>"
      ]
     },
     "metadata": {},
     "output_type": "display_data"
    }
   ],
   "source": [
    "plt.figure(figsize = (10,6))\n",
    "sns.countplot(df['EDUCATION'] ,x = df['Housing_type'], hue = df['Approved_status'])\n",
    "plt.xticks(rotation = 70)\n",
    "plt.title(\"EDUCATION vs APPROVED STATUS\")\n",
    "plt.show"
   ]
  },
  {
   "cell_type": "code",
   "execution_count": 826,
   "id": "18719047",
   "metadata": {
    "scrolled": true
   },
   "outputs": [],
   "source": [
    "# #boxplot to check the outliers\n",
    "# for i in categorical_features:\n",
    "#     sns.boxplot(df[i] , ax = [1//2,1%2] )\n",
    "#     plt.show"
   ]
  },
  {
   "cell_type": "code",
   "execution_count": 827,
   "id": "dea87d8f",
   "metadata": {},
   "outputs": [
    {
     "data": {
      "text/plain": [
       "['Ind_ID',\n",
       " 'CHILDREN',\n",
       " 'Annual_income',\n",
       " 'Birthday_count',\n",
       " 'Employed_days',\n",
       " 'Mobile_phone',\n",
       " 'Work_Phone',\n",
       " 'Phone',\n",
       " 'EMAIL_ID',\n",
       " 'Family_Members',\n",
       " 'Approved_status']"
      ]
     },
     "execution_count": 827,
     "metadata": {},
     "output_type": "execute_result"
    }
   ],
   "source": [
    "#correlation matrix\n",
    "# corr = df[numerical_column].corr()\n",
    "# corr\n",
    "# df[numerical_column]\n",
    "numerical_column"
   ]
  },
  {
   "cell_type": "code",
   "execution_count": 828,
   "id": "e7846dca",
   "metadata": {},
   "outputs": [
    {
     "data": {
      "text/plain": [
       "()"
      ]
     },
     "execution_count": 828,
     "metadata": {},
     "output_type": "execute_result"
    },
    {
     "data": {
      "image/png": "[encoded data removed]",
      "text/plain": [
       "<Figure size 800x600 with 2 Axes>"
      ]
     },
     "metadata": {},
     "output_type": "display_data"
    }
   ],
   "source": [
    "plt.figure(figsize = (8,6))\n",
    "sns.heatmap(corr , annot = True)\n",
    "plt.show"
   ]
  },
  {
   "cell_type": "markdown",
   "id": "9bf6854b",
   "metadata": {},
   "source": [
    "# Feature Engineering"
   ]
  },
  {
   "cell_type": "code",
   "execution_count": 829,
   "id": "c81bdd02",
   "metadata": {},
   "outputs": [
    {
     "data": {
      "text/plain": [
       "Ind_ID              0\n",
       "GENDER              7\n",
       "Car_Owner           0\n",
       "Propert_Owner       0\n",
       "CHILDREN            0\n",
       "Annual_income      23\n",
       "Type_Income         0\n",
       "EDUCATION           0\n",
       "Marital_status      0\n",
       "Housing_type        0\n",
       "Family_Members      0\n",
       "Approved_status     0\n",
       "Age                22\n",
       "Emp_status          0\n",
       "dtype: int64"
      ]
     },
     "execution_count": 829,
     "metadata": {},
     "output_type": "execute_result"
    }
   ],
   "source": [
    "df.isnull().sum()"
   ]
  },
  {
   "cell_type": "code",
   "execution_count": 830,
   "id": "d977a98c",
   "metadata": {},
   "outputs": [
    {
     "data": {
      "text/plain": [
       "0"
      ]
     },
     "execution_count": 830,
     "metadata": {},
     "output_type": "execute_result"
    }
   ],
   "source": [
    "# Filling the na values of annual income\n",
    "df['Annual_income'] = df['Annual_income'].fillna(df['Annual_income'].median())\n",
    "df['Annual_income'].isnull().sum()"
   ]
  },
  {
   "cell_type": "code",
   "execution_count": 831,
   "id": "62100c00",
   "metadata": {},
   "outputs": [
    {
     "data": {
      "text/plain": [
       "0"
      ]
     },
     "execution_count": 831,
     "metadata": {},
     "output_type": "execute_result"
    }
   ],
   "source": [
    "df['Age'] = df['Age'].fillna(df['Age'].mode()[0])\n",
    "df['Age'].isnull().sum()"
   ]
  },
  {
   "cell_type": "code",
   "execution_count": 832,
   "id": "7f9ee830",
   "metadata": {},
   "outputs": [],
   "source": [
    "df = df.dropna()"
   ]
  },
  {
   "cell_type": "code",
   "execution_count": 833,
   "id": "340f216b",
   "metadata": {},
   "outputs": [
    {
     "data": {
      "text/plain": [
       "Ind_ID             0\n",
       "GENDER             0\n",
       "Car_Owner          0\n",
       "Propert_Owner      0\n",
       "CHILDREN           0\n",
       "Annual_income      0\n",
       "Type_Income        0\n",
       "EDUCATION          0\n",
       "Marital_status     0\n",
       "Housing_type       0\n",
       "Family_Members     0\n",
       "Approved_status    0\n",
       "Age                0\n",
       "Emp_status         0\n",
       "dtype: int64"
      ]
     },
     "execution_count": 833,
     "metadata": {},
     "output_type": "execute_result"
    }
   ],
   "source": [
    "df.isnull().sum()"
   ]
  },
  {
   "cell_type": "code",
   "execution_count": 834,
   "id": "4f1bcdaf",
   "metadata": {},
   "outputs": [
    {
     "data": {
      "text/plain": [
       "(1541, 14)"
      ]
     },
     "execution_count": 834,
     "metadata": {},
     "output_type": "execute_result"
    }
   ],
   "source": [
    "df.shape"
   ]
  },
  {
   "cell_type": "code",
   "execution_count": 835,
   "id": "b034d5bc",
   "metadata": {},
   "outputs": [
    {
     "data": {
      "text/plain": [
       "Ind_ID               int64\n",
       "GENDER              object\n",
       "Car_Owner           object\n",
       "Propert_Owner       object\n",
       "CHILDREN             int64\n",
       "Annual_income      float64\n",
       "Type_Income         object\n",
       "EDUCATION           object\n",
       "Marital_status      object\n",
       "Housing_type        object\n",
       "Family_Members       int64\n",
       "Approved_status      int64\n",
       "Age                float64\n",
       "Emp_status          object\n",
       "dtype: object"
      ]
     },
     "execution_count": 835,
     "metadata": {},
     "output_type": "execute_result"
    }
   ],
   "source": [
    "df.dtypes"
   ]
  },
  {
   "cell_type": "code",
   "execution_count": 836,
   "id": "831588e9",
   "metadata": {},
   "outputs": [],
   "source": [
    "df['Age'] = df['Age'].astype('int32')"
   ]
  },
  {
   "cell_type": "code",
   "execution_count": 837,
   "id": "41efa83b",
   "metadata": {},
   "outputs": [
    {
     "data": {
      "text/plain": [
       "Ind_ID               int64\n",
       "GENDER              object\n",
       "Car_Owner           object\n",
       "Propert_Owner       object\n",
       "CHILDREN             int64\n",
       "Annual_income      float64\n",
       "Type_Income         object\n",
       "EDUCATION           object\n",
       "Marital_status      object\n",
       "Housing_type        object\n",
       "Family_Members       int64\n",
       "Approved_status      int64\n",
       "Age                  int32\n",
       "Emp_status          object\n",
       "dtype: object"
      ]
     },
     "execution_count": 837,
     "metadata": {},
     "output_type": "execute_result"
    }
   ],
   "source": [
    "df.dtypes"
   ]
  },
  {
   "cell_type": "markdown",
   "id": "642b61c8",
   "metadata": {},
   "source": [
    "# Handling the outliers"
   ]
  },
  {
   "cell_type": "code",
   "execution_count": 838,
   "id": "2daa10a3",
   "metadata": {},
   "outputs": [
    {
     "data": {
      "text/plain": [
       "0       157500.0\n",
       "1       247500.0\n",
       "2       166500.0\n",
       "3       112500.0\n",
       "4       103500.0\n",
       "          ...   \n",
       "1543     37800.0\n",
       "1544     94500.0\n",
       "1545    135000.0\n",
       "1546    202500.0\n",
       "1547     76500.0\n",
       "Name: Annual_income, Length: 1541, dtype: float64"
      ]
     },
     "execution_count": 838,
     "metadata": {},
     "output_type": "execute_result"
    }
   ],
   "source": [
    "q1 = df['Annual_income'].quantile(0.25)\n",
    "q3 = df['Annual_income'].quantile(0.75)\n",
    "IQR = q3 - q1\n",
    "upper_limit = q3+(1.5*IQR)\n",
    "lower_limit = q1-(1.5*IQR)\n",
    "df['Annual_income'] = df['Annual_income'].clip(lower = lower_limit, upper = upper_limit )\n",
    "df['Annual_income']"
   ]
  },
  {
   "cell_type": "code",
   "execution_count": 839,
   "id": "9849b64b",
   "metadata": {},
   "outputs": [
    {
     "data": {
      "text/plain": [
       "0       0.0\n",
       "1       0.0\n",
       "2       0.0\n",
       "3       0.0\n",
       "4       0.0\n",
       "       ... \n",
       "1543    2.5\n",
       "1544    0.0\n",
       "1545    0.0\n",
       "1546    0.0\n",
       "1547    0.0\n",
       "Name: CHILDREN, Length: 1541, dtype: float64"
      ]
     },
     "execution_count": 839,
     "metadata": {},
     "output_type": "execute_result"
    }
   ],
   "source": [
    "q1 = df['CHILDREN'].quantile(0.25)\n",
    "q3 = df['CHILDREN'].quantile(0.75)\n",
    "IQR = q3 - q1\n",
    "upper_limit = q3+(1.5*IQR)\n",
    "lower_limit = q1-(1.5*IQR)\n",
    "df['CHILDREN'] = df['CHILDREN'].clip(lower = lower_limit, upper = upper_limit )\n",
    "df['CHILDREN']"
   ]
  },
  {
   "cell_type": "code",
   "execution_count": 840,
   "id": "cab4da2a",
   "metadata": {},
   "outputs": [
    {
     "data": {
      "text/plain": [
       "0       2.0\n",
       "1       1.0\n",
       "2       2.0\n",
       "3       1.0\n",
       "4       2.0\n",
       "       ... \n",
       "1543    4.5\n",
       "1544    2.0\n",
       "1545    2.0\n",
       "1546    2.0\n",
       "1547    2.0\n",
       "Name: Family_Members, Length: 1541, dtype: float64"
      ]
     },
     "execution_count": 840,
     "metadata": {},
     "output_type": "execute_result"
    }
   ],
   "source": [
    "q1 = df['Family_Members'].quantile(0.25)\n",
    "q3 = df['Family_Members'].quantile(0.75)\n",
    "IQR = q3 - q1\n",
    "upper_limit = q3+(1.5*IQR)\n",
    "lower_limit = q1-(1.5*IQR)\n",
    "df['Family_Members'] = df['Family_Members'].clip(lower = lower_limit, upper = upper_limit )\n",
    "df['Family_Members']"
   ]
  },
  {
   "cell_type": "code",
   "execution_count": 841,
   "id": "7e88ce7a",
   "metadata": {},
   "outputs": [
    {
     "name": "stdout",
     "output_type": "stream",
     "text": [
      "<class 'pandas.core.frame.DataFrame'>\n",
      "Index: 1541 entries, 0 to 1547\n",
      "Data columns (total 14 columns):\n",
      " #   Column           Non-Null Count  Dtype  \n",
      "---  ------           --------------  -----  \n",
      " 0   Ind_ID           1541 non-null   int64  \n",
      " 1   GENDER           1541 non-null   object \n",
      " 2   Car_Owner        1541 non-null   object \n",
      " 3   Propert_Owner    1541 non-null   object \n",
      " 4   CHILDREN         1541 non-null   float64\n",
      " 5   Annual_income    1541 non-null   float64\n",
      " 6   Type_Income      1541 non-null   object \n",
      " 7   EDUCATION        1541 non-null   object \n",
      " 8   Marital_status   1541 non-null   object \n",
      " 9   Housing_type     1541 non-null   object \n",
      " 10  Family_Members   1541 non-null   float64\n",
      " 11  Approved_status  1541 non-null   int64  \n",
      " 12  Age              1541 non-null   int32  \n",
      " 13  Emp_status       1541 non-null   object \n",
      "dtypes: float64(3), int32(1), int64(2), object(8)\n",
      "memory usage: 174.6+ KB\n"
     ]
    }
   ],
   "source": [
    "df.info()"
   ]
  },
  {
   "cell_type": "code",
   "execution_count": 842,
   "id": "9353f853",
   "metadata": {},
   "outputs": [],
   "source": [
    "df['CHILDREN'] = df['CHILDREN'].astype('int32')\n",
    "df['Family_Members'] = df['Family_Members'].astype('int32')"
   ]
  },
  {
   "cell_type": "code",
   "execution_count": 843,
   "id": "736e1bd2",
   "metadata": {},
   "outputs": [
    {
     "data": {
      "text/plain": [
       "Ind_ID               int64\n",
       "GENDER              object\n",
       "Car_Owner           object\n",
       "Propert_Owner       object\n",
       "CHILDREN             int32\n",
       "Annual_income      float64\n",
       "Type_Income         object\n",
       "EDUCATION           object\n",
       "Marital_status      object\n",
       "Housing_type        object\n",
       "Family_Members       int32\n",
       "Approved_status      int64\n",
       "Age                  int32\n",
       "Emp_status          object\n",
       "dtype: object"
      ]
     },
     "execution_count": 843,
     "metadata": {},
     "output_type": "execute_result"
    }
   ],
   "source": [
    "df.dtypes"
   ]
  },
  {
   "cell_type": "code",
   "execution_count": 844,
   "id": "1aeebcc7",
   "metadata": {},
   "outputs": [],
   "source": [
    "#     Check the outliers by box plot"
   ]
  },
  {
   "cell_type": "code",
   "execution_count": 845,
   "id": "5d539b55",
   "metadata": {},
   "outputs": [],
   "source": [
    "# saving the clean data\n",
    "df.to_excel(\"credit_card_cleaned_data.xlsx\", index = False)"
   ]
  },
  {
   "cell_type": "code",
   "execution_count": 846,
   "id": "4d1bfdcd",
   "metadata": {},
   "outputs": [],
   "source": [
    "df.drop(columns = {'Ind_ID'}, inplace = True)"
   ]
  },
  {
   "cell_type": "code",
   "execution_count": 847,
   "id": "eb173a40",
   "metadata": {},
   "outputs": [
    {
     "data": {
      "text/plain": [
       "(1541, 13)"
      ]
     },
     "execution_count": 847,
     "metadata": {},
     "output_type": "execute_result"
    }
   ],
   "source": [
    "df.shape"
   ]
  },
  {
   "cell_type": "markdown",
   "id": "c9a2d719",
   "metadata": {},
   "source": [
    "# Data Wrangling"
   ]
  },
  {
   "cell_type": "code",
   "execution_count": 848,
   "id": "5431ac61",
   "metadata": {},
   "outputs": [],
   "source": [
    "# seperate Independent variables and Dependent Variables\n",
    "#independent variables\n",
    "IND = df.drop(columns = {'Approved_status'})"
   ]
  },
  {
   "cell_type": "code",
   "execution_count": 849,
   "id": "139e6e64",
   "metadata": {},
   "outputs": [
    {
     "data": {
      "text/plain": [
       "(1541,)"
      ]
     },
     "execution_count": 849,
     "metadata": {},
     "output_type": "execute_result"
    }
   ],
   "source": [
    "# Dependent Variables\n",
    "DEP = df['Approved_status']\n",
    "DEP.shape"
   ]
  },
  {
   "cell_type": "code",
   "execution_count": 850,
   "id": "8db9c87b",
   "metadata": {},
   "outputs": [
    {
     "data": {
      "text/plain": [
       "Approved_status\n",
       "0    1371\n",
       "1     170\n",
       "Name: count, dtype: int64"
      ]
     },
     "execution_count": 850,
     "metadata": {},
     "output_type": "execute_result"
    }
   ],
   "source": [
    "DEP.value_counts()"
   ]
  },
  {
   "cell_type": "markdown",
   "id": "1f53d9a7",
   "metadata": {},
   "source": [
    "# Feature Encoding"
   ]
  },
  {
   "cell_type": "code",
   "execution_count": 851,
   "id": "d3f1b2f1",
   "metadata": {},
   "outputs": [
    {
     "data": {
      "text/plain": [
       "['GENDER',\n",
       " 'Car_Owner',\n",
       " 'Propert_Owner',\n",
       " 'Type_Income',\n",
       " 'EDUCATION',\n",
       " 'Marital_status',\n",
       " 'Housing_type',\n",
       " 'Emp_status']"
      ]
     },
     "execution_count": 851,
     "metadata": {},
     "output_type": "execute_result"
    }
   ],
   "source": [
    "categorical_features = []\n",
    "for i in IND.columns:\n",
    "    if IND[i].dtypes == \"object\":\n",
    "        categorical_features.append(i)\n",
    "categorical_features"
   ]
  },
  {
   "cell_type": "code",
   "execution_count": 852,
   "id": "b1764b54",
   "metadata": {},
   "outputs": [],
   "source": [
    "# Dummy encoding\n",
    "IND_NEW = pd.get_dummies(IND , columns = categorical_features , drop_first = True)"
   ]
  },
  {
   "cell_type": "code",
   "execution_count": 853,
   "id": "1a61dd04",
   "metadata": {},
   "outputs": [
    {
     "data": {
      "text/plain": [
       "(1541, 24)"
      ]
     },
     "execution_count": 853,
     "metadata": {},
     "output_type": "execute_result"
    }
   ],
   "source": [
    "IND_NEW.shape"
   ]
  },
  {
   "cell_type": "code",
   "execution_count": 854,
   "id": "5aae82d0",
   "metadata": {},
   "outputs": [
    {
     "data": {
      "text/plain": [
       "()"
      ]
     },
     "execution_count": 854,
     "metadata": {},
     "output_type": "execute_result"
    },
    {
     "data": {
      "image/png": "[encoded data removed]",
      "text/plain": [
       "<Figure size 800x600 with 1 Axes>"
      ]
     },
     "metadata": {},
     "output_type": "display_data"
    }
   ],
   "source": [
    "# Data Transformation\n",
    "approval_counts = df['Approved_status'].value_counts()\n",
    "approval_counts\n",
    "plt.figure(figsize = (8,6))\n",
    "plt.bar(approval_counts.index ,  approval_counts.values)\n",
    "plt.title(\"distribution of approval status\")\n",
    "plt.show"
   ]
  },
  {
   "cell_type": "code",
   "execution_count": 855,
   "id": "165fd347",
   "metadata": {},
   "outputs": [],
   "source": [
    "# Imbalance handling of the target variable (approval_counts)\n",
    "# using smote for the balancing\n",
    "# Synthetic Minority Oversampling Technique (SMOTE) is a statistical technique for \n",
    "# increasing the number of cases in your dataset in a balanced way.\n",
    "smote = SMOTE(random_state = 42)\n",
    "x, y = smote.fit_resample( IND_NEW , DEP )"
   ]
  },
  {
   "cell_type": "code",
   "execution_count": 856,
   "id": "690d9d4c",
   "metadata": {},
   "outputs": [
    {
     "name": "stdout",
     "output_type": "stream",
     "text": [
      "(2742, 24)\n",
      "(2742,)\n"
     ]
    }
   ],
   "source": [
    "print(x.shape)\n",
    "print(y.shape)"
   ]
  },
  {
   "cell_type": "code",
   "execution_count": 857,
   "id": "5b921cbd",
   "metadata": {},
   "outputs": [
    {
     "data": {
      "text/plain": [
       "Approved_status\n",
       "0    1371\n",
       "1    1371\n",
       "Name: count, dtype: int64"
      ]
     },
     "execution_count": 857,
     "metadata": {},
     "output_type": "execute_result"
    }
   ],
   "source": [
    "y.value_counts()"
   ]
  },
  {
   "cell_type": "code",
   "execution_count": 858,
   "id": "dcc19f76",
   "metadata": {},
   "outputs": [
    {
     "data": {
      "text/plain": [
       "()"
      ]
     },
     "execution_count": 858,
     "metadata": {},
     "output_type": "execute_result"
    },
    {
     "data": {
      "image/png": "[encoded data removed]",
      "text/plain": [
       "<Figure size 800x600 with 1 Axes>"
      ]
     },
     "metadata": {},
     "output_type": "display_data"
    }
   ],
   "source": [
    "approval_counts = y.value_counts()\n",
    "plt.figure(figsize = (8,6))\n",
    "plt.bar(approval_counts.index ,  approval_counts.values)\n",
    "plt.title(\"distribution of approval status\")\n",
    "plt.show"
   ]
  },
  {
   "cell_type": "code",
   "execution_count": 859,
   "id": "f2e4ddac",
   "metadata": {},
   "outputs": [],
   "source": [
    "# data splitting into training and testing\n",
    "from sklearn import model_selection\n",
    "X_TRAIN , X_TEST , Y_TRAIN , Y_TEST = model_selection.train_test_split(x, y, test_size = 0.2 , random_state = 42)"
   ]
  },
  {
   "cell_type": "code",
   "execution_count": 860,
   "id": "cdb19c61",
   "metadata": {
    "scrolled": true
   },
   "outputs": [
    {
     "data": {
      "text/html": [
       "<div>\n",
       "<style scoped>\n",
       "    .dataframe tbody tr th:only-of-type {\n",
       "        vertical-align: middle;\n",
       "    }\n",
       "\n",
       "    .dataframe tbody tr th {\n",
       "        vertical-align: top;\n",
       "    }\n",
       "\n",
       "    .dataframe thead th {\n",
       "        text-align: right;\n",
       "    }\n",
       "</style>\n",
       "<table border=\"1\" class=\"dataframe\">\n",
       "  <thead>\n",
       "    <tr style=\"text-align: right;\">\n",
       "      <th></th>\n",
       "      <th>CHILDREN</th>\n",
       "      <th>Annual_income</th>\n",
       "      <th>Family_Members</th>\n",
       "      <th>Age</th>\n",
       "      <th>GENDER_M</th>\n",
       "      <th>Car_Owner_Y</th>\n",
       "      <th>Propert_Owner_Y</th>\n",
       "      <th>Type_Income_Pensioner</th>\n",
       "      <th>Type_Income_State servant</th>\n",
       "      <th>Type_Income_Working</th>\n",
       "      <th>...</th>\n",
       "      <th>Marital_status_Married</th>\n",
       "      <th>Marital_status_Separated</th>\n",
       "      <th>Marital_status_Widow</th>\n",
       "      <th>Marital_status_not married</th>\n",
       "      <th>Housing_type_House / apartment</th>\n",
       "      <th>Housing_type_Municipal apartment</th>\n",
       "      <th>Housing_type_Office apartment</th>\n",
       "      <th>Housing_type_Rented apartment</th>\n",
       "      <th>Housing_type_With parents</th>\n",
       "      <th>Emp_status_Unemployed</th>\n",
       "    </tr>\n",
       "  </thead>\n",
       "  <tbody>\n",
       "    <tr>\n",
       "      <th>2273</th>\n",
       "      <td>0</td>\n",
       "      <td>315000.000000</td>\n",
       "      <td>2</td>\n",
       "      <td>37</td>\n",
       "      <td>False</td>\n",
       "      <td>True</td>\n",
       "      <td>False</td>\n",
       "      <td>False</td>\n",
       "      <td>False</td>\n",
       "      <td>False</td>\n",
       "      <td>...</td>\n",
       "      <td>True</td>\n",
       "      <td>False</td>\n",
       "      <td>False</td>\n",
       "      <td>False</td>\n",
       "      <td>True</td>\n",
       "      <td>False</td>\n",
       "      <td>False</td>\n",
       "      <td>False</td>\n",
       "      <td>False</td>\n",
       "      <td>False</td>\n",
       "    </tr>\n",
       "    <tr>\n",
       "      <th>1435</th>\n",
       "      <td>0</td>\n",
       "      <td>135000.000000</td>\n",
       "      <td>2</td>\n",
       "      <td>59</td>\n",
       "      <td>False</td>\n",
       "      <td>False</td>\n",
       "      <td>True</td>\n",
       "      <td>True</td>\n",
       "      <td>False</td>\n",
       "      <td>False</td>\n",
       "      <td>...</td>\n",
       "      <td>True</td>\n",
       "      <td>False</td>\n",
       "      <td>False</td>\n",
       "      <td>False</td>\n",
       "      <td>True</td>\n",
       "      <td>False</td>\n",
       "      <td>False</td>\n",
       "      <td>False</td>\n",
       "      <td>False</td>\n",
       "      <td>True</td>\n",
       "    </tr>\n",
       "    <tr>\n",
       "      <th>2229</th>\n",
       "      <td>0</td>\n",
       "      <td>112500.000000</td>\n",
       "      <td>2</td>\n",
       "      <td>55</td>\n",
       "      <td>True</td>\n",
       "      <td>False</td>\n",
       "      <td>True</td>\n",
       "      <td>True</td>\n",
       "      <td>False</td>\n",
       "      <td>False</td>\n",
       "      <td>...</td>\n",
       "      <td>True</td>\n",
       "      <td>False</td>\n",
       "      <td>False</td>\n",
       "      <td>False</td>\n",
       "      <td>True</td>\n",
       "      <td>True</td>\n",
       "      <td>False</td>\n",
       "      <td>False</td>\n",
       "      <td>False</td>\n",
       "      <td>True</td>\n",
       "    </tr>\n",
       "    <tr>\n",
       "      <th>1609</th>\n",
       "      <td>1</td>\n",
       "      <td>380250.000000</td>\n",
       "      <td>3</td>\n",
       "      <td>45</td>\n",
       "      <td>True</td>\n",
       "      <td>True</td>\n",
       "      <td>True</td>\n",
       "      <td>False</td>\n",
       "      <td>False</td>\n",
       "      <td>False</td>\n",
       "      <td>...</td>\n",
       "      <td>True</td>\n",
       "      <td>False</td>\n",
       "      <td>False</td>\n",
       "      <td>True</td>\n",
       "      <td>True</td>\n",
       "      <td>False</td>\n",
       "      <td>False</td>\n",
       "      <td>False</td>\n",
       "      <td>False</td>\n",
       "      <td>False</td>\n",
       "    </tr>\n",
       "    <tr>\n",
       "      <th>1860</th>\n",
       "      <td>0</td>\n",
       "      <td>380250.000000</td>\n",
       "      <td>1</td>\n",
       "      <td>39</td>\n",
       "      <td>True</td>\n",
       "      <td>False</td>\n",
       "      <td>True</td>\n",
       "      <td>False</td>\n",
       "      <td>False</td>\n",
       "      <td>True</td>\n",
       "      <td>...</td>\n",
       "      <td>False</td>\n",
       "      <td>False</td>\n",
       "      <td>False</td>\n",
       "      <td>True</td>\n",
       "      <td>True</td>\n",
       "      <td>True</td>\n",
       "      <td>False</td>\n",
       "      <td>False</td>\n",
       "      <td>False</td>\n",
       "      <td>False</td>\n",
       "    </tr>\n",
       "    <tr>\n",
       "      <th>1290</th>\n",
       "      <td>0</td>\n",
       "      <td>54000.000000</td>\n",
       "      <td>2</td>\n",
       "      <td>67</td>\n",
       "      <td>False</td>\n",
       "      <td>False</td>\n",
       "      <td>True</td>\n",
       "      <td>True</td>\n",
       "      <td>False</td>\n",
       "      <td>False</td>\n",
       "      <td>...</td>\n",
       "      <td>True</td>\n",
       "      <td>False</td>\n",
       "      <td>False</td>\n",
       "      <td>False</td>\n",
       "      <td>True</td>\n",
       "      <td>False</td>\n",
       "      <td>False</td>\n",
       "      <td>False</td>\n",
       "      <td>False</td>\n",
       "      <td>True</td>\n",
       "    </tr>\n",
       "    <tr>\n",
       "      <th>247</th>\n",
       "      <td>0</td>\n",
       "      <td>360000.000000</td>\n",
       "      <td>2</td>\n",
       "      <td>34</td>\n",
       "      <td>True</td>\n",
       "      <td>False</td>\n",
       "      <td>True</td>\n",
       "      <td>False</td>\n",
       "      <td>False</td>\n",
       "      <td>False</td>\n",
       "      <td>...</td>\n",
       "      <td>True</td>\n",
       "      <td>False</td>\n",
       "      <td>False</td>\n",
       "      <td>False</td>\n",
       "      <td>True</td>\n",
       "      <td>False</td>\n",
       "      <td>False</td>\n",
       "      <td>False</td>\n",
       "      <td>False</td>\n",
       "      <td>False</td>\n",
       "    </tr>\n",
       "    <tr>\n",
       "      <th>2249</th>\n",
       "      <td>0</td>\n",
       "      <td>135000.000000</td>\n",
       "      <td>2</td>\n",
       "      <td>43</td>\n",
       "      <td>False</td>\n",
       "      <td>True</td>\n",
       "      <td>True</td>\n",
       "      <td>False</td>\n",
       "      <td>False</td>\n",
       "      <td>True</td>\n",
       "      <td>...</td>\n",
       "      <td>True</td>\n",
       "      <td>False</td>\n",
       "      <td>False</td>\n",
       "      <td>False</td>\n",
       "      <td>True</td>\n",
       "      <td>False</td>\n",
       "      <td>False</td>\n",
       "      <td>False</td>\n",
       "      <td>False</td>\n",
       "      <td>False</td>\n",
       "    </tr>\n",
       "    <tr>\n",
       "      <th>2535</th>\n",
       "      <td>0</td>\n",
       "      <td>65788.155234</td>\n",
       "      <td>1</td>\n",
       "      <td>58</td>\n",
       "      <td>True</td>\n",
       "      <td>False</td>\n",
       "      <td>True</td>\n",
       "      <td>True</td>\n",
       "      <td>False</td>\n",
       "      <td>False</td>\n",
       "      <td>...</td>\n",
       "      <td>True</td>\n",
       "      <td>False</td>\n",
       "      <td>True</td>\n",
       "      <td>False</td>\n",
       "      <td>True</td>\n",
       "      <td>False</td>\n",
       "      <td>False</td>\n",
       "      <td>False</td>\n",
       "      <td>False</td>\n",
       "      <td>True</td>\n",
       "    </tr>\n",
       "    <tr>\n",
       "      <th>347</th>\n",
       "      <td>1</td>\n",
       "      <td>225000.000000</td>\n",
       "      <td>3</td>\n",
       "      <td>28</td>\n",
       "      <td>False</td>\n",
       "      <td>False</td>\n",
       "      <td>False</td>\n",
       "      <td>False</td>\n",
       "      <td>False</td>\n",
       "      <td>False</td>\n",
       "      <td>...</td>\n",
       "      <td>True</td>\n",
       "      <td>False</td>\n",
       "      <td>False</td>\n",
       "      <td>False</td>\n",
       "      <td>True</td>\n",
       "      <td>False</td>\n",
       "      <td>False</td>\n",
       "      <td>False</td>\n",
       "      <td>False</td>\n",
       "      <td>False</td>\n",
       "    </tr>\n",
       "  </tbody>\n",
       "</table>\n",
       "<p>10 rows × 24 columns</p>\n",
       "</div>"
      ],
      "text/plain": [
       "      CHILDREN  Annual_income  Family_Members  Age  GENDER_M  Car_Owner_Y  \\\n",
       "2273         0  315000.000000               2   37     False         True   \n",
       "1435         0  135000.000000               2   59     False        False   \n",
       "2229         0  112500.000000               2   55      True        False   \n",
       "1609         1  380250.000000               3   45      True         True   \n",
       "1860         0  380250.000000               1   39      True        False   \n",
       "1290         0   54000.000000               2   67     False        False   \n",
       "247          0  360000.000000               2   34      True        False   \n",
       "2249         0  135000.000000               2   43     False         True   \n",
       "2535         0   65788.155234               1   58      True        False   \n",
       "347          1  225000.000000               3   28     False        False   \n",
       "\n",
       "      Propert_Owner_Y  Type_Income_Pensioner  Type_Income_State servant  \\\n",
       "2273            False                  False                      False   \n",
       "1435             True                   True                      False   \n",
       "2229             True                   True                      False   \n",
       "1609             True                  False                      False   \n",
       "1860             True                  False                      False   \n",
       "1290             True                   True                      False   \n",
       "247              True                  False                      False   \n",
       "2249             True                  False                      False   \n",
       "2535             True                   True                      False   \n",
       "347             False                  False                      False   \n",
       "\n",
       "      Type_Income_Working  ...  Marital_status_Married  \\\n",
       "2273                False  ...                    True   \n",
       "1435                False  ...                    True   \n",
       "2229                False  ...                    True   \n",
       "1609                False  ...                    True   \n",
       "1860                 True  ...                   False   \n",
       "1290                False  ...                    True   \n",
       "247                 False  ...                    True   \n",
       "2249                 True  ...                    True   \n",
       "2535                False  ...                    True   \n",
       "347                 False  ...                    True   \n",
       "\n",
       "      Marital_status_Separated  Marital_status_Widow  \\\n",
       "2273                     False                 False   \n",
       "1435                     False                 False   \n",
       "2229                     False                 False   \n",
       "1609                     False                 False   \n",
       "1860                     False                 False   \n",
       "1290                     False                 False   \n",
       "247                      False                 False   \n",
       "2249                     False                 False   \n",
       "2535                     False                  True   \n",
       "347                      False                 False   \n",
       "\n",
       "      Marital_status_not married  Housing_type_House / apartment  \\\n",
       "2273                       False                            True   \n",
       "1435                       False                            True   \n",
       "2229                       False                            True   \n",
       "1609                        True                            True   \n",
       "1860                        True                            True   \n",
       "1290                       False                            True   \n",
       "247                        False                            True   \n",
       "2249                       False                            True   \n",
       "2535                       False                            True   \n",
       "347                        False                            True   \n",
       "\n",
       "      Housing_type_Municipal apartment  Housing_type_Office apartment  \\\n",
       "2273                             False                          False   \n",
       "1435                             False                          False   \n",
       "2229                              True                          False   \n",
       "1609                             False                          False   \n",
       "1860                              True                          False   \n",
       "1290                             False                          False   \n",
       "247                              False                          False   \n",
       "2249                             False                          False   \n",
       "2535                             False                          False   \n",
       "347                              False                          False   \n",
       "\n",
       "      Housing_type_Rented apartment  Housing_type_With parents  \\\n",
       "2273                          False                      False   \n",
       "1435                          False                      False   \n",
       "2229                          False                      False   \n",
       "1609                          False                      False   \n",
       "1860                          False                      False   \n",
       "1290                          False                      False   \n",
       "247                           False                      False   \n",
       "2249                          False                      False   \n",
       "2535                          False                      False   \n",
       "347                           False                      False   \n",
       "\n",
       "      Emp_status_Unemployed  \n",
       "2273                  False  \n",
       "1435                   True  \n",
       "2229                   True  \n",
       "1609                  False  \n",
       "1860                  False  \n",
       "1290                   True  \n",
       "247                   False  \n",
       "2249                  False  \n",
       "2535                   True  \n",
       "347                   False  \n",
       "\n",
       "[10 rows x 24 columns]"
      ]
     },
     "execution_count": 860,
     "metadata": {},
     "output_type": "execute_result"
    }
   ],
   "source": [
    "X_TRAIN.head(10)"
   ]
  },
  {
   "cell_type": "code",
   "execution_count": 861,
   "id": "cae688b4",
   "metadata": {},
   "outputs": [],
   "source": [
    "# X_TEST = X_TEST.values.reshape(-1,1)"
   ]
  },
  {
   "cell_type": "code",
   "execution_count": 862,
   "id": "d3a2fb7e",
   "metadata": {},
   "outputs": [],
   "source": [
    "from sklearn.preprocessing import StandardScaler\n",
    "scaler = StandardScaler()\n",
    "X_TRAIN = scaler.fit_transform(X_TRAIN)\n",
    "X_TEST = scaler.fit_transform(X_TEST)"
   ]
  },
  {
   "cell_type": "code",
   "execution_count": 863,
   "id": "4e143040",
   "metadata": {},
   "outputs": [
    {
     "data": {
      "text/plain": [
       "array([[-0.52419051,  1.83674297, -1.30229395, ..., -0.1557361 ,\n",
       "        -0.20431772, -0.51758901],\n",
       "       [ 1.14895246, -0.04598191,  1.18885371, ..., -0.1557361 ,\n",
       "        -0.20431772,  1.93203484],\n",
       "       [-0.52419051, -0.31494261, -1.30229395, ..., -0.1557361 ,\n",
       "        -0.20431772,  1.93203484],\n",
       "       ...,\n",
       "       [-0.52419051,  0.22297879, -0.05672012, ..., -0.1557361 ,\n",
       "        -0.20431772, -0.51758901],\n",
       "       [-0.52419051,  0.49193949, -1.30229395, ..., -0.1557361 ,\n",
       "        -0.20431772,  1.93203484],\n",
       "       [-0.52419051, -0.20735833, -0.05672012, ..., -0.1557361 ,\n",
       "        -0.20431772, -0.51758901]])"
      ]
     },
     "execution_count": 863,
     "metadata": {},
     "output_type": "execute_result"
    }
   ],
   "source": [
    "X_TEST"
   ]
  },
  {
   "cell_type": "markdown",
   "id": "616b6f31",
   "metadata": {},
   "source": [
    "# MODELLING"
   ]
  },
  {
   "cell_type": "code",
   "execution_count": 864,
   "id": "459d536a",
   "metadata": {},
   "outputs": [],
   "source": [
    "from sklearn.linear_model import LogisticRegression\n",
    "from sklearn.svm import SVC\n",
    "# from sklearn.tree import DecisionTreeClassifier\n",
    "from sklearn.ensemble import RandomForestClassifier\n",
    "from xgboost import XGBClassifier"
   ]
  },
  {
   "cell_type": "code",
   "execution_count": 865,
   "id": "eb15287a",
   "metadata": {},
   "outputs": [],
   "source": [
    "# Hyperparameter tunning\n",
    "from sklearn.model_selection import GridSearchCV"
   ]
  },
  {
   "cell_type": "code",
   "execution_count": 866,
   "id": "037b6358",
   "metadata": {},
   "outputs": [],
   "source": [
    "from sklearn.metrics import accuracy_score\n",
    "from sklearn.model_selection import cross_val_score\n",
    "from sklearn.metrics import accuracy_score, precision_score, recall_score, f1_score, confusion_matrix, classification_report\n",
    "from sklearn.metrics import confusion_matrix"
   ]
  },
  {
   "cell_type": "code",
   "execution_count": 867,
   "id": "91fdce0e",
   "metadata": {},
   "outputs": [
    {
     "data": {
      "text/plain": [
       "LogisticRegression()"
      ]
     },
     "execution_count": 867,
     "metadata": {},
     "output_type": "execute_result"
    }
   ],
   "source": [
    "# Logistic Regression\n",
    "LR = LogisticRegression()\n",
    "LR.fit(X_TRAIN, Y_TRAIN)"
   ]
  },
  {
   "cell_type": "code",
   "execution_count": 868,
   "id": "89e41146",
   "metadata": {},
   "outputs": [],
   "source": [
    "LR_PRED_TRAIN = LR.predict(X_TRAIN)\n",
    "LR_PRED_TEST = LR.predict(X_TEST)"
   ]
  },
  {
   "cell_type": "code",
   "execution_count": 869,
   "id": "f006660c",
   "metadata": {},
   "outputs": [
    {
     "name": "stdout",
     "output_type": "stream",
     "text": [
      "LR_TRAINING_ACCURACY =  80.53\n",
      "LR_TESTING_ACCURACY =  77.78\n",
      "CROSS_VAL_SCORE =  78 2\n"
     ]
    }
   ],
   "source": [
    "LR_TRAINING_ACCURACY = accuracy_score(Y_TRAIN , LR_PRED_TRAIN)*100\n",
    "print(\"LR_TRAINING_ACCURACY = \" , round(LR_TRAINING_ACCURACY,2))\n",
    "\n",
    "LR_TESTING_ACCURACY = accuracy_score(Y_TEST , LR_PRED_TEST)*100\n",
    "print(\"LR_TESTING_ACCURACY = \" ,round(LR_TESTING_ACCURACY,2))\n",
    "\n",
    "CROSS_VAL_SCORE = cross_val_score(LR , X_TEST , Y_TEST ).mean()*100\n",
    "print(\"CROSS_VAL_SCORE = \" , round(CROSS_VAL_SCORE),2)"
   ]
  },
  {
   "cell_type": "code",
   "execution_count": 870,
   "id": "da8627ca",
   "metadata": {},
   "outputs": [
    {
     "data": {
      "text/plain": [
       "SVC()"
      ]
     },
     "execution_count": 870,
     "metadata": {},
     "output_type": "execute_result"
    }
   ],
   "source": [
    "# Support Vector Machines\n",
    "svc = SVC()\n",
    "svc.fit(X_TRAIN , Y_TRAIN)"
   ]
  },
  {
   "cell_type": "code",
   "execution_count": 871,
   "id": "a26ab741",
   "metadata": {},
   "outputs": [],
   "source": [
    "svc_pred_train = svc.predict(X_TRAIN)\n",
    "svc_pred_test = svc.predict(X_TEST)"
   ]
  },
  {
   "cell_type": "code",
   "execution_count": 872,
   "id": "8bd5b47a",
   "metadata": {},
   "outputs": [
    {
     "name": "stdout",
     "output_type": "stream",
     "text": [
      "SVC_TRAINING_ACCURACY =  89.42\n",
      "SVC_TESTING_ACCURACY =  85.79\n"
     ]
    }
   ],
   "source": [
    "SVC_TRAINING_ACCURACY = accuracy_score(Y_TRAIN , svc_pred_train)*100\n",
    "print(\"SVC_TRAINING_ACCURACY = \" , round(SVC_TRAINING_ACCURACY,2))\n",
    "\n",
    "SVC_TESTING_ACCURACY = accuracy_score(Y_TEST , svc_pred_test)*100\n",
    "print(\"SVC_TESTING_ACCURACY = \" ,round(SVC_TESTING_ACCURACY,2))\n",
    "\n",
    "# CROSS_VAL_SCORE_SVC = cross_val_score(SVC , X_TEST , Y_TEST ).mean()*100\n",
    "# print(\"CROSS_VAL_SCORE_SVC = \" , round(CROSS_VAL_SCORE_SVC),2)"
   ]
  },
  {
   "cell_type": "code",
   "execution_count": 873,
   "id": "4648504a",
   "metadata": {},
   "outputs": [
    {
     "name": "stdout",
     "output_type": "stream",
     "text": [
      "              precision    recall  f1-score   support\n",
      "\n",
      "           0       0.81      0.93      0.87       271\n",
      "           1       0.92      0.79      0.85       278\n",
      "\n",
      "    accuracy                           0.86       549\n",
      "   macro avg       0.87      0.86      0.86       549\n",
      "weighted avg       0.87      0.86      0.86       549\n",
      "\n"
     ]
    }
   ],
   "source": [
    "class_report_lr = classification_report(Y_TEST,svc_pred_test)\n",
    "print(class_report_lr)"
   ]
  },
  {
   "cell_type": "code",
   "execution_count": 874,
   "id": "a370d30e",
   "metadata": {},
   "outputs": [
    {
     "data": {
      "text/plain": [
       "RandomForestClassifier(n_estimators=300, random_state=25)"
      ]
     },
     "execution_count": 874,
     "metadata": {},
     "output_type": "execute_result"
    }
   ],
   "source": [
    "# RANDOM FOREST\n",
    "RF = RandomForestClassifier(n_estimators=300,random_state=25)\n",
    "RF.fit(X_TRAIN , Y_TRAIN)"
   ]
  },
  {
   "cell_type": "code",
   "execution_count": 875,
   "id": "e59acb6a",
   "metadata": {},
   "outputs": [],
   "source": [
    "RF_TRAIN_PRED = RF.predict(X_TRAIN)\n",
    "RF_TEST_PRED = RF.predict(X_TEST)"
   ]
  },
  {
   "cell_type": "code",
   "execution_count": 876,
   "id": "f08af99b",
   "metadata": {},
   "outputs": [
    {
     "name": "stdout",
     "output_type": "stream",
     "text": [
      "RF_Train_Accuracy =  99.36\n",
      "RF_Test_Accuracy =  93.44\n",
      "RF_CV =  85.24\n"
     ]
    }
   ],
   "source": [
    "RF_Train_Accuracy = accuracy_score(Y_TRAIN,RF_TRAIN_PRED)*100\n",
    "RF_Test_Accuracy = accuracy_score(Y_TEST,RF_TEST_PRED)*100\n",
    "RF_CV = cross_val_score(RF,X_TEST,Y_TEST,cv=5,scoring=\"accuracy\").mean()*100\n",
    "print(\"RF_Train_Accuracy = \" , round((RF_Train_Accuracy),2))\n",
    "print(\"RF_Test_Accuracy = \", round((RF_Test_Accuracy),2))\n",
    "print(\"RF_CV = \" , round((RF_CV),2))"
   ]
  },
  {
   "cell_type": "code",
   "execution_count": 877,
   "id": "132cb387",
   "metadata": {},
   "outputs": [
    {
     "name": "stdout",
     "output_type": "stream",
     "text": [
      "              precision    recall  f1-score   support\n",
      "\n",
      "           0       0.91      0.96      0.94       271\n",
      "           1       0.96      0.91      0.93       278\n",
      "\n",
      "    accuracy                           0.93       549\n",
      "   macro avg       0.94      0.93      0.93       549\n",
      "weighted avg       0.94      0.93      0.93       549\n",
      "\n"
     ]
    }
   ],
   "source": [
    "class_report_lr = classification_report(Y_TEST,RF_TEST_PRED)\n",
    "print(class_report_lr)"
   ]
  },
  {
   "cell_type": "code",
   "execution_count": 878,
   "id": "e20c9376",
   "metadata": {},
   "outputs": [
    {
     "data": {
      "text/plain": [
       "XGBClassifier(base_score=None, booster=None, callbacks=None,\n",
       "              colsample_bylevel=None, colsample_bynode=None,\n",
       "              colsample_bytree=None, early_stopping_rounds=None,\n",
       "              enable_categorical=False, eval_metric=None, feature_types=None,\n",
       "              gamma=None, gpu_id=None, grow_policy=None, importance_type=None,\n",
       "              interaction_constraints=None, learning_rate=None, max_bin=None,\n",
       "              max_cat_threshold=None, max_cat_to_onehot=None,\n",
       "              max_delta_step=None, max_depth=30, max_leaves=None,\n",
       "              min_child_weight=None, missing=nan, monotone_constraints=None,\n",
       "              n_estimators=100, n_jobs=None, num_parallel_tree=None,\n",
       "              predictor=None, random_state=2, ...)"
      ]
     },
     "execution_count": 878,
     "metadata": {},
     "output_type": "execute_result"
    }
   ],
   "source": [
    "# XG_BOOST_CLASSFIER\n",
    "XGB = XGBClassifier(max_depth=30,n_estimators=100,subsample=1.0,random_state=2)\n",
    "XGB.fit(X_TRAIN , Y_TRAIN )"
   ]
  },
  {
   "cell_type": "code",
   "execution_count": 879,
   "id": "c94cea8b",
   "metadata": {},
   "outputs": [],
   "source": [
    "XGB_TRAIN_PRED = XGB.predict(X_TRAIN)\n",
    "XGB_TEST_PRED = XGB.predict(X_TEST)"
   ]
  },
  {
   "cell_type": "code",
   "execution_count": 880,
   "id": "c3164f46",
   "metadata": {},
   "outputs": [
    {
     "name": "stdout",
     "output_type": "stream",
     "text": [
      "XGB_Train_Accuracy =  99.36\n",
      "XGB_Test_Accuracy =  93.81\n",
      "XGB_CV =  84.52\n"
     ]
    }
   ],
   "source": [
    "XGB_Train_Accuracy = accuracy_score(Y_TRAIN,XGB_TRAIN_PRED)*100\n",
    "XGB_Test_Accuracy = accuracy_score(Y_TEST,XGB_TEST_PRED)*100\n",
    "XGB_CV = cross_val_score(XGB,X_TEST,Y_TEST,cv=5,scoring=\"accuracy\").mean()*100\n",
    "print(\"XGB_Train_Accuracy = \" , round((XGB_Train_Accuracy),2))\n",
    "print(\"XGB_Test_Accuracy = \", round((XGB_Test_Accuracy),2))\n",
    "print(\"XGB_CV = \" , round((XGB_CV),2))"
   ]
  },
  {
   "cell_type": "code",
   "execution_count": 881,
   "id": "01335101",
   "metadata": {},
   "outputs": [
    {
     "name": "stdout",
     "output_type": "stream",
     "text": [
      "              precision    recall  f1-score   support\n",
      "\n",
      "           0       0.92      0.95      0.94       271\n",
      "           1       0.95      0.92      0.94       278\n",
      "\n",
      "    accuracy                           0.94       549\n",
      "   macro avg       0.94      0.94      0.94       549\n",
      "weighted avg       0.94      0.94      0.94       549\n",
      "\n"
     ]
    }
   ],
   "source": [
    "class_report_lr = classification_report(Y_TEST , XGB_TEST_PRED)\n",
    "print(class_report_lr)"
   ]
  },
  {
   "cell_type": "code",
   "execution_count": 882,
   "id": "fc28f7e0",
   "metadata": {},
   "outputs": [
    {
     "name": "stdout",
     "output_type": "stream",
     "text": [
      "    Models  TRAIN_ACC_SCORE  TEST_ACC_SCORE   CV_SCORE\n",
      "0       LR        80.528956       77.777778  78.320267\n",
      "1      SVM        89.420885       85.792350  78.320267\n",
      "2       RF        99.361605       93.442623  85.244370\n",
      "3  XGBOOST        99.361605       93.806922  84.518766\n"
     ]
    }
   ],
   "source": [
    "final_data = pd.DataFrame({\"Models\":['LR','SVM','RF','XGBOOST',],\n",
    "                          \"TRAIN_ACC_SCORE\":[LR_TRAINING_ACCURACY,\n",
    "                                       SVC_TRAINING_ACCURACY,\n",
    "                                    \n",
    "                                       RF_Train_Accuracy,\n",
    "                                       XGB_Train_Accuracy,\n",
    "                                      ],\n",
    "                           \"TEST_ACC_SCORE\":[LR_TESTING_ACCURACY,\n",
    "                                            SVC_TESTING_ACCURACY,\n",
    "\n",
    "                                            RF_Test_Accuracy,\n",
    "                                            XGB_Test_Accuracy],\n",
    "                         \"CV_SCORE\":[CROSS_VAL_SCORE,\n",
    "                                     CROSS_VAL_SCORE_SVC,\n",
    "                                    \n",
    "                                     RF_CV,\n",
    "                                    XGB_CV]})\n",
    "print(final_data)"
   ]
  }
 ],
 "metadata": {
  "kernelspec": {
   "display_name": "Python 3 (ipykernel)",
   "language": "python",
   "name": "python3"
  },
  "language_info": {
   "codemirror_mode": {
    "name": "ipython",
    "version": 3
   },
   "file_extension": ".py",
   "mimetype": "text/x-python",
   "name": "python",
   "nbconvert_exporter": "python",
   "pygments_lexer": "ipython3",
   "version": "3.9.13"
  }
 },
 "nbformat": 4,
 "nbformat_minor": 5
}
